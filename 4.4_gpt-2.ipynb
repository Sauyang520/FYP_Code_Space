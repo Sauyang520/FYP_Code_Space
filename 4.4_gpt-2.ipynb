{
 "cells": [
  {
   "cell_type": "code",
   "execution_count": 1,
   "id": "ac948566",
   "metadata": {},
   "outputs": [
    {
     "name": "stderr",
     "output_type": "stream",
     "text": [
      "c:\\Users\\user\\AppData\\Local\\Programs\\Python\\Python312\\Lib\\site-packages\\tqdm\\auto.py:21: TqdmWarning: IProgress not found. Please update jupyter and ipywidgets. See https://ipywidgets.readthedocs.io/en/stable/user_install.html\n",
      "  from .autonotebook import tqdm as notebook_tqdm\n"
     ]
    },
    {
     "name": "stdout",
     "output_type": "stream",
     "text": [
      "WARNING:tensorflow:From c:\\Users\\user\\AppData\\Local\\Programs\\Python\\Python312\\Lib\\site-packages\\tf_keras\\src\\losses.py:2976: The name tf.losses.sparse_softmax_cross_entropy is deprecated. Please use tf.compat.v1.losses.sparse_softmax_cross_entropy instead.\n",
      "\n"
     ]
    }
   ],
   "source": [
    "import pandas as pd\n",
    "import numpy as np\n",
    "import torch\n",
    "from datasets import Dataset\n",
    "from transformers import GPT2Tokenizer, GPT2ForSequenceClassification\n",
    "from transformers import TrainingArguments, Trainer, DataCollatorWithPadding\n",
    "import matplotlib.pyplot as plt\n",
    "from sklearn.model_selection import train_test_split\n",
    "from sklearn.metrics import accuracy_score, f1_score, classification_report, confusion_matrix, ConfusionMatrixDisplay\n",
    "from scipy.special import softmax\n",
    "from sklearn.preprocessing import label_binarize\n",
    "from sklearn.metrics import roc_curve, auc\n",
    "import optuna\n",
    "from collections import Counter\n",
    "from transformers import EarlyStoppingCallback"
   ]
  },
  {
   "cell_type": "code",
   "execution_count": 5,
   "id": "0bd6e9b8",
   "metadata": {},
   "outputs": [],
   "source": [
    "# Load dataset\n",
    "file_path = \"2_processed_data/labelled_dataset_revised.csv\"\n",
    "df = pd.read_csv(file_path, encoding=\"latin1\")\n",
    "\n",
    "valid_labels = ['C', 'G', 'W/Q', 'OTH']\n",
    "df = df[df['revised_argument_type'].isin(valid_labels)].copy()\n",
    "\n",
    "label_map = {label: i for i, label in enumerate(valid_labels)}\n",
    "inv_label_map = {i: label for label, i in label_map.items()}\n",
    "df['label'] = df['revised_argument_type'].map(label_map).astype(int)"
   ]
  },
  {
   "cell_type": "code",
   "execution_count": 6,
   "id": "51870b02",
   "metadata": {},
   "outputs": [],
   "source": [
    "# Stratified Split\n",
    "train_texts, val_texts, train_labels, val_labels = train_test_split(\n",
    "    df['sentence'].tolist(),\n",
    "    df['label'].tolist(),\n",
    "    test_size=0.2,\n",
    "    stratify=df['label'],\n",
    "    random_state=42\n",
    ")"
   ]
  },
  {
   "cell_type": "code",
   "execution_count": 7,
   "id": "eb9c31b1",
   "metadata": {},
   "outputs": [
    {
     "name": "stderr",
     "output_type": "stream",
     "text": [
      "Some weights of GPT2ForSequenceClassification were not initialized from the model checkpoint at gpt2 and are newly initialized: ['score.weight']\n",
      "You should probably TRAIN this model on a down-stream task to be able to use it for predictions and inference.\n"
     ]
    }
   ],
   "source": [
    "# Tokenizer and Model\n",
    "model_ckpt = \"gpt2\"\n",
    "\n",
    "tokenizer = GPT2Tokenizer.from_pretrained(model_ckpt)\n",
    "tokenizer.pad_token = tokenizer.eos_token\n",
    "\n",
    "model = GPT2ForSequenceClassification.from_pretrained(\n",
    "    model_ckpt,\n",
    "    num_labels=len(valid_labels),\n",
    "    pad_token_id=tokenizer.eos_token_id\n",
    ")"
   ]
  },
  {
   "cell_type": "code",
   "execution_count": 8,
   "id": "dbf962bd",
   "metadata": {},
   "outputs": [
    {
     "name": "stderr",
     "output_type": "stream",
     "text": [
      "Map: 100%|██████████| 86825/86825 [00:15<00:00, 5589.86 examples/s]\n",
      "Map: 100%|██████████| 21707/21707 [00:04<00:00, 5381.30 examples/s]\n"
     ]
    }
   ],
   "source": [
    "# Define tokenization function\n",
    "def tokenize(batch):\n",
    "    return tokenizer(\n",
    "        batch[\"text\"],\n",
    "        padding=\"max_length\",\n",
    "        truncation=True,\n",
    "        max_length=256,\n",
    "        return_tensors=None\n",
    "    )\n",
    "\n",
    "# Create Hugging Face Dataset objects\n",
    "train_ds = Dataset.from_dict({\n",
    "    \"text\": train_texts,\n",
    "    \"label\": train_labels\n",
    "}).map(tokenize, batched=True)\n",
    "\n",
    "val_ds = Dataset.from_dict({\n",
    "    \"text\": val_texts,\n",
    "    \"label\": val_labels\n",
    "}).map(tokenize, batched=True)"
   ]
  },
  {
   "cell_type": "code",
   "execution_count": 9,
   "id": "e121f945",
   "metadata": {},
   "outputs": [],
   "source": [
    "# Metrics\n",
    "def compute_metrics(pred):\n",
    "    labels = pred.label_ids\n",
    "    preds = np.argmax(pred.predictions, axis=1)\n",
    "    return {\n",
    "        \"accuracy\": accuracy_score(labels, preds),\n",
    "        \"f1_macro\": f1_score(labels, preds, average=\"macro\")\n",
    "    }"
   ]
  },
  {
   "cell_type": "code",
   "execution_count": null,
   "id": "042016ee",
   "metadata": {},
   "outputs": [],
   "source": [
    "# Training arguments\n",
    "training_args = TrainingArguments(\n",
    "    output_dir=\"model/gpt2/results\",\n",
    "    overwrite_output_dir=True,\n",
    "    do_train=True,\n",
    "    do_eval=True,\n",
    "    eval_strategy=\"epoch\",\n",
    "    save_strategy=\"epoch\",\n",
    "    load_best_model_at_end=True,\n",
    "    metric_for_best_model=\"f1_macro\",\n",
    "    greater_is_better=True,\n",
    "\n",
    "    per_device_train_batch_size=8,\n",
    "    per_device_eval_batch_size=8,\n",
    "    gradient_accumulation_steps=2,\n",
    "\n",
    "    learning_rate=2e-5,\n",
    "    weight_decay=0.05,\n",
    "    num_train_epochs=2,\n",
    "\n",
    "    fp16=torch.cuda.is_available(),\n",
    "\n",
    "    dataloader_num_workers=4,\n",
    "    dataloader_pin_memory=True,\n",
    "    dataloader_prefetch_factor=2,\n",
    "\n",
    "    logging_dir=\"model/gpt2/logs\",\n",
    "    logging_steps=100,\n",
    "    save_total_limit=2\n",
    ")"
   ]
  },
  {
   "cell_type": "code",
   "execution_count": null,
   "id": "bc984edc",
   "metadata": {},
   "outputs": [
    {
     "name": "stderr",
     "output_type": "stream",
     "text": [
      "C:\\Users\\user\\AppData\\Local\\Temp\\ipykernel_13720\\1119399628.py:2: FutureWarning: `tokenizer` is deprecated and will be removed in version 5.0.0 for `Trainer.__init__`. Use `processing_class` instead.\n",
      "  trainer = Trainer(\n"
     ]
    }
   ],
   "source": [
    "# Trainer\n",
    "trainer = Trainer(\n",
    "    model=model,\n",
    "    args=training_args,\n",
    "    tokenizer=tokenizer,\n",
    "    train_dataset=train_ds,\n",
    "    eval_dataset=val_ds,\n",
    "    data_collator=DataCollatorWithPadding(tokenizer),\n",
    "    compute_metrics=compute_metrics\n",
    ")\n"
   ]
  },
  {
   "cell_type": "code",
   "execution_count": null,
   "id": "e6078656",
   "metadata": {},
   "outputs": [
    {
     "data": {
      "text/html": [
       "\n",
       "    <div>\n",
       "      \n",
       "      <progress value='10854' max='10854' style='width:300px; height:20px; vertical-align: middle;'></progress>\n",
       "      [10854/10854 1:22:14, Epoch 2/2]\n",
       "    </div>\n",
       "    <table border=\"1\" class=\"dataframe\">\n",
       "  <thead>\n",
       " <tr style=\"text-align: left;\">\n",
       "      <th>Epoch</th>\n",
       "      <th>Training Loss</th>\n",
       "      <th>Validation Loss</th>\n",
       "      <th>Accuracy</th>\n",
       "      <th>F1 Macro</th>\n",
       "    </tr>\n",
       "  </thead>\n",
       "  <tbody>\n",
       "    <tr>\n",
       "      <td>1</td>\n",
       "      <td>0.337200</td>\n",
       "      <td>0.319536</td>\n",
       "      <td>0.875386</td>\n",
       "      <td>0.851450</td>\n",
       "    </tr>\n",
       "    <tr>\n",
       "      <td>2</td>\n",
       "      <td>0.321100</td>\n",
       "      <td>0.289336</td>\n",
       "      <td>0.891325</td>\n",
       "      <td>0.866467</td>\n",
       "    </tr>\n",
       "  </tbody>\n",
       "</table><p>"
      ],
      "text/plain": [
       "<IPython.core.display.HTML object>"
      ]
     },
     "metadata": {},
     "output_type": "display_data"
    },
    {
     "data": {
      "text/plain": [
       "TrainOutput(global_step=10854, training_loss=0.3697683874889041, metrics={'train_runtime': 4952.8026, 'train_samples_per_second': 35.061, 'train_steps_per_second': 2.191, 'total_flos': 2.26875000619008e+16, 'train_loss': 0.3697683874889041, 'epoch': 2.0})"
      ]
     },
     "execution_count": 8,
     "metadata": {},
     "output_type": "execute_result"
    }
   ],
   "source": [
    "# Train\n",
    "trainer.train()"
   ]
  },
  {
   "cell_type": "code",
   "execution_count": null,
   "id": "00571938",
   "metadata": {},
   "outputs": [
    {
     "data": {
      "text/html": [],
      "text/plain": [
       "<IPython.core.display.HTML object>"
      ]
     },
     "metadata": {},
     "output_type": "display_data"
    },
    {
     "name": "stdout",
     "output_type": "stream",
     "text": [
      "\n",
      "=== Classification Report ===\n",
      "              precision    recall  f1-score   support\n",
      "\n",
      "           C       0.84      0.92      0.88      3388\n",
      "           G       0.90      0.91      0.91      5736\n",
      "         W/Q       0.94      0.91      0.92      9830\n",
      "         OTH       0.77      0.74      0.75      2753\n",
      "\n",
      "    accuracy                           0.89     21707\n",
      "   macro avg       0.86      0.87      0.87     21707\n",
      "weighted avg       0.89      0.89      0.89     21707\n",
      "\n",
      "Confusion Matrix:\n",
      " [[3122   42  101  123]\n",
      " [  93 5238  229  176]\n",
      " [ 275  287 8946  322]\n",
      " [ 214  247  250 2042]]\n"
     ]
    },
    {
     "data": {
      "image/png": "[encoded data removed]",
      "text/plain": [
       "<Figure size 640x480 with 2 Axes>"
      ]
     },
     "metadata": {},
     "output_type": "display_data"
    }
   ],
   "source": [
    "# Run predictions\n",
    "preds = trainer.predict(val_ds)\n",
    "y_pred = np.argmax(preds.predictions, axis=1)\n",
    "\n",
    "# Classification Report\n",
    "print(\"\\n=== Classification Report ===\")\n",
    "labels_present = sorted(set(val_labels))\n",
    "target_names_present = [inv_label_map[i] for i in labels_present]\n",
    "\n",
    "print(classification_report(\n",
    "    val_labels,\n",
    "    y_pred,\n",
    "    labels=labels_present,\n",
    "    target_names=target_names_present,\n",
    "    zero_division=0\n",
    "))\n",
    "\n",
    "# Confusion Matrix\n",
    "y_true = val_labels\n",
    "cm = confusion_matrix(y_true, y_pred)\n",
    "print(\"Confusion Matrix:\\n\", cm)\n",
    "\n",
    "# Plot as heatmap\n",
    "labels_order = [inv_label_map[i] for i in range(len(inv_label_map))]  # ['C', 'G', 'W/Q', 'OTH']\n",
    "disp = ConfusionMatrixDisplay(confusion_matrix=cm, display_labels=labels_order)\n",
    "disp.plot(cmap=plt.cm.Blues, xticks_rotation=45)\n",
    "plt.title(\"Confusion Matrix\")\n",
    "plt.tight_layout()\n",
    "plt.show()"
   ]
  },
  {
   "cell_type": "code",
   "execution_count": null,
   "id": "046c0664",
   "metadata": {},
   "outputs": [
    {
     "name": "stdout",
     "output_type": "stream",
     "text": [
      "\n",
      "=== ROC AUCs ===\n",
      "C: AUC = 0.9906\n",
      "G: AUC = 0.9893\n",
      "W/Q: AUC = 0.9838\n",
      "OTH: AUC = 0.9706\n",
      "Micro-average AUC: 0.9863\n",
      "Macro-average AUC: 0.9836\n"
     ]
    },
    {
     "data": {
      "image/png": "[encoded data removed]",
      "text/plain": [
       "<Figure size 700x600 with 1 Axes>"
      ]
     },
     "metadata": {},
     "output_type": "display_data"
    }
   ],
   "source": [
    "# ROC / AUC (one-vs-rest)\n",
    "# Get class probabilities from logits\n",
    "probs_all = softmax(preds.predictions, axis=1)\n",
    "\n",
    "# Classes actually present in the validation labels (avoids ROC errors if a class is missing)\n",
    "labels_present = sorted(set(y_true))\n",
    "class_names_present = [inv_label_map[i] for i in labels_present]\n",
    "\n",
    "# Binarize true labels\n",
    "y_true_bin = label_binarize(np.array(y_true), classes=labels_present)\n",
    "\n",
    "# Align probs to the present classes (columns are class indices)\n",
    "probs = probs_all[:, labels_present]\n",
    "\n",
    "# Compute per-class ROC and AUC\n",
    "fprs, tprs, aucs = {}, {}, {}\n",
    "for j, cls_id in enumerate(labels_present):\n",
    "    # Skip if no positive samples for this class in y_true\n",
    "    if y_true_bin[:, j].sum() == 0:\n",
    "        continue\n",
    "    fpr, tpr, _ = roc_curve(y_true_bin[:, j], probs[:, j])\n",
    "    fprs[cls_id], tprs[cls_id] = fpr, tpr\n",
    "    aucs[cls_id] = auc(fpr, tpr)\n",
    "\n",
    "# Micro-average ROC/AUC\n",
    "fpr_micro, tpr_micro, _ = roc_curve(y_true_bin.ravel(), probs.ravel())\n",
    "auc_micro = auc(fpr_micro, tpr_micro)\n",
    "\n",
    "# Macro-average AUC (mean across available per-class AUCs)\n",
    "auc_macro = float(np.mean(list(aucs.values()))) if len(aucs) > 0 else float(\"nan\")\n",
    "\n",
    "# Print AUCs\n",
    "print(\"\\n=== ROC AUCs ===\")\n",
    "for cls_id in labels_present:\n",
    "    name = inv_label_map[cls_id]\n",
    "    if cls_id in aucs:\n",
    "        print(f\"{name}: AUC = {aucs[cls_id]:.4f}\")\n",
    "    else:\n",
    "        print(f\"{name}: AUC = N/A (no positive examples)\")\n",
    "print(f\"Micro-average AUC: {auc_micro:.4f}\")\n",
    "print(f\"Macro-average AUC: {auc_macro:.4f}\")\n",
    "\n",
    "# Plot ROC curves\n",
    "import matplotlib.pyplot as plt\n",
    "plt.figure(figsize=(7, 6))\n",
    "# Per-class curves\n",
    "for cls_id in labels_present:\n",
    "    if cls_id in fprs:\n",
    "        plt.plot(fprs[cls_id], tprs[cls_id], lw=2,\n",
    "                 label=f\"{inv_label_map[cls_id]} (AUC={aucs[cls_id]:.3f})\")\n",
    "\n",
    "# Micro-average\n",
    "plt.plot(fpr_micro, tpr_micro, lw=2, linestyle=\"--\",\n",
    "         label=f\"micro-average (AUC={auc_micro:.3f})\", alpha=0.9)\n",
    "\n",
    "# Chance line\n",
    "plt.plot([0, 1], [0, 1], color=\"gray\", lw=1, linestyle=\":\")\n",
    "\n",
    "plt.xlim([0.0, 1.0])\n",
    "plt.ylim([0.0, 1.05])\n",
    "plt.xlabel(\"False Positive Rate\")\n",
    "plt.ylabel(\"True Positive Rate\")\n",
    "plt.title(\"ROC Curves — One-vs-Rest\")\n",
    "plt.legend(loc=\"lower right\")\n",
    "plt.tight_layout()\n",
    "plt.show()"
   ]
  },
  {
   "cell_type": "code",
   "execution_count": null,
   "id": "55826255",
   "metadata": {},
   "outputs": [
    {
     "data": {
      "text/plain": [
       "('gpt2\\\\tokenizer_config.json',\n",
       " 'gpt2\\\\special_tokens_map.json',\n",
       " 'gpt2\\\\vocab.json',\n",
       " 'gpt2\\\\merges.txt',\n",
       " 'gpt2\\\\added_tokens.json')"
      ]
     },
     "execution_count": 11,
     "metadata": {},
     "output_type": "execute_result"
    }
   ],
   "source": [
    "# Save model\n",
    "model.save_pretrained(\"3_model/gpt2\")\n",
    "tokenizer.save_pretrained(\"3_model/gpt2\")"
   ]
  },
  {
   "cell_type": "code",
   "execution_count": 12,
   "id": "a8124be2",
   "metadata": {},
   "outputs": [],
   "source": [
    "# --- detect debate/filename column & sample 40 debates ---\n",
    "filename_col = None\n",
    "for cand in [\"filename\", \"file_name\", \"debate_id\", \"doc\", \"source\", \"file\", \"topic_id\"]:\n",
    "    if cand in df.columns:\n",
    "        filename_col = cand\n",
    "        break\n",
    "if filename_col is None:\n",
    "    raise ValueError(\"Please ensure your dataset has a column with debate/filename IDs\")\n",
    "\n",
    "unique_files = df[filename_col].dropna().unique().tolist()\n",
    "rng = np.random.default_rng(42)\n",
    "sampled_files = rng.choice(unique_files, size=min(100, len(unique_files)), replace=False).tolist()\n",
    "df_sample = df[df[filename_col].isin(sampled_files)].copy()"
   ]
  },
  {
   "cell_type": "code",
   "execution_count": 13,
   "id": "25103cc0",
   "metadata": {},
   "outputs": [
    {
     "name": "stdout",
     "output_type": "stream",
     "text": [
      "\n",
      "=== SAMPLING SUMMARY ===\n",
      "Identifier column: filename\n",
      "Unique debates total: 3738\n",
      "Sampled debates: 100\n",
      "Sampled rows: 2931\n",
      "Sample label counts: Counter({2: 1251, 1: 870, 0: 458, 3: 352})\n"
     ]
    }
   ],
   "source": [
    "print(\"\\n=== SAMPLING SUMMARY ===\")\n",
    "print(f\"Identifier column: {filename_col}\")\n",
    "print(f\"Unique debates total: {len(unique_files)}\")\n",
    "print(f\"Sampled debates: {len(sampled_files)}\")\n",
    "print(f\"Sampled rows: {len(df_sample)}\")\n",
    "print(\"Sample label counts:\", Counter(df_sample[\"label\"]))"
   ]
  },
  {
   "cell_type": "code",
   "execution_count": 14,
   "id": "d84d25fe",
   "metadata": {},
   "outputs": [],
   "source": [
    "# --- split sampled subset ---\n",
    "train_texts_s, val_texts_s, train_labels_s, val_labels_s = train_test_split(\n",
    "    df_sample[\"sentence\"].tolist(),\n",
    "    df_sample[\"label\"].tolist(),\n",
    "    test_size=0.2,\n",
    "    stratify=df_sample[\"label\"],\n",
    "    random_state=42\n",
    ")"
   ]
  },
  {
   "cell_type": "code",
   "execution_count": 15,
   "id": "5cb52ab3",
   "metadata": {},
   "outputs": [
    {
     "name": "stdout",
     "output_type": "stream",
     "text": [
      "\n",
      "=== SAMPLED SPLIT SHAPES ===\n",
      "train_texts: 2344 | val_texts: 587\n",
      "Train class balance: Counter({2: 1000, 1: 696, 0: 366, 3: 282})\n",
      "Val class balance: Counter({2: 251, 1: 174, 0: 92, 3: 70})\n"
     ]
    }
   ],
   "source": [
    "print(\"\\n=== SAMPLED SPLIT SHAPES ===\")\n",
    "print(f\"train_texts: {len(train_texts_s)} | val_texts: {len(val_texts_s)}\")\n",
    "print(\"Train class balance:\", Counter(train_labels_s))\n",
    "print(\"Val class balance:\", Counter(val_labels_s))"
   ]
  },
  {
   "cell_type": "code",
   "execution_count": 16,
   "id": "ea04412a",
   "metadata": {},
   "outputs": [],
   "source": [
    "# helper to create datasets\n",
    "def make_hf_datasets(texts_train, labels_train, texts_val, labels_val, max_length=256):\n",
    "    train_ds = Dataset.from_dict({\"text\": texts_train, \"label\": labels_train})\n",
    "    val_ds   = Dataset.from_dict({\"text\": texts_val,   \"label\": labels_val})\n",
    "    def tokenize(batch):\n",
    "        return tokenizer(\n",
    "            batch[\"text\"], padding=\"max_length\", truncation=True,\n",
    "            max_length=max_length, return_tensors=None\n",
    "        )\n",
    "    train_ds = train_ds.map(tokenize, batched=True)\n",
    "    val_ds   = val_ds.map(tokenize, batched=True)\n",
    "    return train_ds, val_ds"
   ]
  },
  {
   "cell_type": "code",
   "execution_count": 19,
   "id": "d12ae67f",
   "metadata": {},
   "outputs": [],
   "source": [
    "# helper to create datasets\n",
    "def make_hf_datasets(texts_train, labels_train, texts_val, labels_val, max_length=256):\n",
    "    train_ds = Dataset.from_dict({\"text\": texts_train, \"label\": labels_train})\n",
    "    val_ds   = Dataset.from_dict({\"text\": texts_val,   \"label\": labels_val})\n",
    "    def tokenize(batch):\n",
    "        return tokenizer(\n",
    "            batch[\"text\"], padding=\"max_length\", truncation=True,\n",
    "            max_length=max_length, return_tensors=None\n",
    "        )\n",
    "    train_ds = train_ds.map(tokenize, batched=True)\n",
    "    val_ds   = val_ds.map(tokenize, batched=True)\n",
    "    return train_ds, val_ds\n",
    "\n",
    "# --- objective for Optuna ---\n",
    "def objective(trial):\n",
    "    lr = trial.suggest_float(\"learning_rate\", 1e-5, 5e-4, log=True)\n",
    "    weight_decay = trial.suggest_float(\"weight_decay\", 0.0, 0.1)\n",
    "    batch_size = trial.suggest_categorical(\"per_device_train_batch_size\", [8, 16])\n",
    "    grad_accum = trial.suggest_categorical(\"gradient_accumulation_steps\", [1, 2, 4])\n",
    "    warmup_ratio = trial.suggest_float(\"warmup_ratio\", 0.0, 0.15)\n",
    "    max_length = trial.suggest_categorical(\"max_length\", [128, 256, 384])\n",
    "    num_epochs = trial.suggest_categorical(\"num_train_epochs\", [1, 2])\n",
    "\n",
    "    train_ds_s, val_ds_s = make_hf_datasets(train_texts_s, train_labels_s,\n",
    "                                            val_texts_s, val_labels_s,\n",
    "                                            max_length=max_length)\n",
    "\n",
    "    model_hpo = GPT2ForSequenceClassification.from_pretrained(\n",
    "        model_ckpt,\n",
    "        num_labels=len(valid_labels),\n",
    "        pad_token_id=tokenizer.eos_token_id\n",
    "    )\n",
    "\n",
    "    args = TrainingArguments(\n",
    "        output_dir=f\"model/gpt2/hpo_trial_{trial.number}\",\n",
    "        overwrite_output_dir=True,\n",
    "        do_train=True,\n",
    "        do_eval=True,\n",
    "        eval_strategy=\"epoch\",\n",
    "        save_strategy=\"epoch\",\n",
    "        load_best_model_at_end=True,\n",
    "        metric_for_best_model=\"f1_macro\",\n",
    "        greater_is_better=True,\n",
    "\n",
    "        per_device_train_batch_size=batch_size,\n",
    "        per_device_eval_batch_size=min(batch_size, 32),\n",
    "        gradient_accumulation_steps=grad_accum,\n",
    "\n",
    "        learning_rate=lr,\n",
    "        weight_decay=weight_decay,\n",
    "        num_train_epochs=num_epochs,\n",
    "        warmup_ratio=warmup_ratio,\n",
    "\n",
    "        fp16=torch.cuda.is_available(),\n",
    "        logging_steps=50,\n",
    "        save_total_limit=1,\n",
    "        report_to=[]\n",
    "    )\n",
    "\n",
    "    trainer_hpo = Trainer(\n",
    "        model=model_hpo,\n",
    "        args=args,\n",
    "        tokenizer=tokenizer,\n",
    "        train_dataset=train_ds_s,\n",
    "        eval_dataset=val_ds_s,\n",
    "        data_collator=DataCollatorWithPadding(tokenizer),\n",
    "        compute_metrics=compute_metrics,\n",
    "        callbacks=[EarlyStoppingCallback(early_stopping_patience=2)]\n",
    "    )\n",
    "\n",
    "    trainer_hpo.train()\n",
    "    eval_res = trainer_hpo.evaluate(val_ds_s)\n",
    "    return eval_res[\"eval_f1_macro\"]"
   ]
  },
  {
   "cell_type": "code",
   "execution_count": 20,
   "id": "be7c1a09",
   "metadata": {},
   "outputs": [
    {
     "name": "stderr",
     "output_type": "stream",
     "text": [
      "[I 2025-09-06 00:01:47,104] A new study created in memory with name: no-name-ff097a48-6cd8-4ce3-8130-7251e7992fed\n",
      "Map: 100%|██████████| 2344/2344 [00:00<00:00, 5017.23 examples/s]\n",
      "Map: 100%|██████████| 587/587 [00:00<00:00, 4372.20 examples/s]\n",
      "Some weights of GPT2ForSequenceClassification were not initialized from the model checkpoint at gpt2 and are newly initialized: ['score.weight']\n",
      "You should probably TRAIN this model on a down-stream task to be able to use it for predictions and inference.\n",
      "C:\\Users\\user\\AppData\\Local\\Temp\\ipykernel_49860\\3203140391.py:60: FutureWarning: `tokenizer` is deprecated and will be removed in version 5.0.0 for `Trainer.__init__`. Use `processing_class` instead.\n",
      "  trainer_hpo = Trainer(\n",
      "Trainer.tokenizer is now deprecated. You should use Trainer.processing_class instead.\n"
     ]
    },
    {
     "data": {
      "text/html": [
       "\n",
       "    <div>\n",
       "      \n",
       "      <progress value='74' max='74' style='width:300px; height:20px; vertical-align: middle;'></progress>\n",
       "      [74/74 00:32, Epoch 1/1]\n",
       "    </div>\n",
       "    <table border=\"1\" class=\"dataframe\">\n",
       "  <thead>\n",
       " <tr style=\"text-align: left;\">\n",
       "      <th>Epoch</th>\n",
       "      <th>Training Loss</th>\n",
       "      <th>Validation Loss</th>\n",
       "      <th>Accuracy</th>\n",
       "      <th>F1 Macro</th>\n",
       "    </tr>\n",
       "  </thead>\n",
       "  <tbody>\n",
       "    <tr>\n",
       "      <td>1</td>\n",
       "      <td>1.695900</td>\n",
       "      <td>1.090111</td>\n",
       "      <td>0.483816</td>\n",
       "      <td>0.373002</td>\n",
       "    </tr>\n",
       "  </tbody>\n",
       "</table><p>"
      ],
      "text/plain": [
       "<IPython.core.display.HTML object>"
      ]
     },
     "metadata": {},
     "output_type": "display_data"
    },
    {
     "data": {
      "text/html": [
       "\n",
       "    <div>\n",
       "      \n",
       "      <progress value='74' max='74' style='width:300px; height:20px; vertical-align: middle;'></progress>\n",
       "      [74/74 00:02]\n",
       "    </div>\n",
       "    "
      ],
      "text/plain": [
       "<IPython.core.display.HTML object>"
      ]
     },
     "metadata": {},
     "output_type": "display_data"
    },
    {
     "name": "stderr",
     "output_type": "stream",
     "text": [
      "[I 2025-09-06 00:02:25,985] Trial 0 finished with value: 0.37300194138579446 and parameters: {'learning_rate': 3.047944796155913e-05, 'weight_decay': 0.035037826137339925, 'per_device_train_batch_size': 8, 'gradient_accumulation_steps': 4, 'warmup_ratio': 0.04419846862756836, 'max_length': 128, 'num_train_epochs': 1}. Best is trial 0 with value: 0.37300194138579446.\n",
      "Map: 100%|██████████| 2344/2344 [00:00<00:00, 4803.56 examples/s]\n",
      "Map: 100%|██████████| 587/587 [00:00<00:00, 4141.01 examples/s]\n",
      "Some weights of GPT2ForSequenceClassification were not initialized from the model checkpoint at gpt2 and are newly initialized: ['score.weight']\n",
      "You should probably TRAIN this model on a down-stream task to be able to use it for predictions and inference.\n",
      "C:\\Users\\user\\AppData\\Local\\Temp\\ipykernel_49860\\3203140391.py:60: FutureWarning: `tokenizer` is deprecated and will be removed in version 5.0.0 for `Trainer.__init__`. Use `processing_class` instead.\n",
      "  trainer_hpo = Trainer(\n",
      "Trainer.tokenizer is now deprecated. You should use Trainer.processing_class instead.\n"
     ]
    },
    {
     "data": {
      "text/html": [
       "\n",
       "    <div>\n",
       "      \n",
       "      <progress value='37' max='37' style='width:300px; height:20px; vertical-align: middle;'></progress>\n",
       "      [37/37 00:30, Epoch 1/1]\n",
       "    </div>\n",
       "    <table border=\"1\" class=\"dataframe\">\n",
       "  <thead>\n",
       " <tr style=\"text-align: left;\">\n",
       "      <th>Epoch</th>\n",
       "      <th>Training Loss</th>\n",
       "      <th>Validation Loss</th>\n",
       "      <th>Accuracy</th>\n",
       "      <th>F1 Macro</th>\n",
       "    </tr>\n",
       "  </thead>\n",
       "  <tbody>\n",
       "    <tr>\n",
       "      <td>1</td>\n",
       "      <td>No log</td>\n",
       "      <td>1.488560</td>\n",
       "      <td>0.187394</td>\n",
       "      <td>0.141103</td>\n",
       "    </tr>\n",
       "  </tbody>\n",
       "</table><p>"
      ],
      "text/plain": [
       "<IPython.core.display.HTML object>"
      ]
     },
     "metadata": {},
     "output_type": "display_data"
    },
    {
     "data": {
      "text/html": [
       "\n",
       "    <div>\n",
       "      \n",
       "      <progress value='37' max='37' style='width:300px; height:20px; vertical-align: middle;'></progress>\n",
       "      [37/37 00:02]\n",
       "    </div>\n",
       "    "
      ],
      "text/plain": [
       "<IPython.core.display.HTML object>"
      ]
     },
     "metadata": {},
     "output_type": "display_data"
    },
    {
     "name": "stderr",
     "output_type": "stream",
     "text": [
      "[I 2025-09-06 00:03:02,274] Trial 1 finished with value: 0.14110336324456813 and parameters: {'learning_rate': 1.1953338238375363e-05, 'weight_decay': 0.0019238362394572884, 'per_device_train_batch_size': 16, 'gradient_accumulation_steps': 4, 'warmup_ratio': 0.07848615292325628, 'max_length': 128, 'num_train_epochs': 1}. Best is trial 0 with value: 0.37300194138579446.\n",
      "Map: 100%|██████████| 2344/2344 [00:00<00:00, 4514.59 examples/s]\n",
      "Map: 100%|██████████| 587/587 [00:00<00:00, 3958.28 examples/s]\n",
      "Some weights of GPT2ForSequenceClassification were not initialized from the model checkpoint at gpt2 and are newly initialized: ['score.weight']\n",
      "You should probably TRAIN this model on a down-stream task to be able to use it for predictions and inference.\n",
      "C:\\Users\\user\\AppData\\Local\\Temp\\ipykernel_49860\\3203140391.py:60: FutureWarning: `tokenizer` is deprecated and will be removed in version 5.0.0 for `Trainer.__init__`. Use `processing_class` instead.\n",
      "  trainer_hpo = Trainer(\n",
      "Trainer.tokenizer is now deprecated. You should use Trainer.processing_class instead.\n"
     ]
    },
    {
     "data": {
      "text/html": [
       "\n",
       "    <div>\n",
       "      \n",
       "      <progress value='37' max='37' style='width:300px; height:20px; vertical-align: middle;'></progress>\n",
       "      [37/37 01:52, Epoch 1/1]\n",
       "    </div>\n",
       "    <table border=\"1\" class=\"dataframe\">\n",
       "  <thead>\n",
       " <tr style=\"text-align: left;\">\n",
       "      <th>Epoch</th>\n",
       "      <th>Training Loss</th>\n",
       "      <th>Validation Loss</th>\n",
       "      <th>Accuracy</th>\n",
       "      <th>F1 Macro</th>\n",
       "    </tr>\n",
       "  </thead>\n",
       "  <tbody>\n",
       "    <tr>\n",
       "      <td>1</td>\n",
       "      <td>No log</td>\n",
       "      <td>1.110856</td>\n",
       "      <td>0.492334</td>\n",
       "      <td>0.426724</td>\n",
       "    </tr>\n",
       "  </tbody>\n",
       "</table><p>"
      ],
      "text/plain": [
       "<IPython.core.display.HTML object>"
      ]
     },
     "metadata": {},
     "output_type": "display_data"
    },
    {
     "data": {
      "text/html": [
       "\n",
       "    <div>\n",
       "      \n",
       "      <progress value='37' max='37' style='width:300px; height:20px; vertical-align: middle;'></progress>\n",
       "      [37/37 00:05]\n",
       "    </div>\n",
       "    "
      ],
      "text/plain": [
       "<IPython.core.display.HTML object>"
      ]
     },
     "metadata": {},
     "output_type": "display_data"
    },
    {
     "name": "stderr",
     "output_type": "stream",
     "text": [
      "[I 2025-09-06 00:05:04,669] Trial 2 finished with value: 0.4267241092241092 and parameters: {'learning_rate': 0.0004443217890082942, 'weight_decay': 0.017280055499107095, 'per_device_train_batch_size': 16, 'gradient_accumulation_steps': 4, 'warmup_ratio': 0.10973637229191119, 'max_length': 256, 'num_train_epochs': 1}. Best is trial 2 with value: 0.4267241092241092.\n",
      "Map: 100%|██████████| 2344/2344 [00:00<00:00, 4358.85 examples/s]\n",
      "Map: 100%|██████████| 587/587 [00:00<00:00, 3733.74 examples/s]\n",
      "Some weights of GPT2ForSequenceClassification were not initialized from the model checkpoint at gpt2 and are newly initialized: ['score.weight']\n",
      "You should probably TRAIN this model on a down-stream task to be able to use it for predictions and inference.\n",
      "C:\\Users\\user\\AppData\\Local\\Temp\\ipykernel_49860\\3203140391.py:60: FutureWarning: `tokenizer` is deprecated and will be removed in version 5.0.0 for `Trainer.__init__`. Use `processing_class` instead.\n",
      "  trainer_hpo = Trainer(\n",
      "Trainer.tokenizer is now deprecated. You should use Trainer.processing_class instead.\n"
     ]
    },
    {
     "data": {
      "text/html": [
       "\n",
       "    <div>\n",
       "      \n",
       "      <progress value='293' max='293' style='width:300px; height:20px; vertical-align: middle;'></progress>\n",
       "      [293/293 01:18, Epoch 1/1]\n",
       "    </div>\n",
       "    <table border=\"1\" class=\"dataframe\">\n",
       "  <thead>\n",
       " <tr style=\"text-align: left;\">\n",
       "      <th>Epoch</th>\n",
       "      <th>Training Loss</th>\n",
       "      <th>Validation Loss</th>\n",
       "      <th>Accuracy</th>\n",
       "      <th>F1 Macro</th>\n",
       "    </tr>\n",
       "  </thead>\n",
       "  <tbody>\n",
       "    <tr>\n",
       "      <td>1</td>\n",
       "      <td>0.856600</td>\n",
       "      <td>0.694056</td>\n",
       "      <td>0.708688</td>\n",
       "      <td>0.675549</td>\n",
       "    </tr>\n",
       "  </tbody>\n",
       "</table><p>"
      ],
      "text/plain": [
       "<IPython.core.display.HTML object>"
      ]
     },
     "metadata": {},
     "output_type": "display_data"
    },
    {
     "data": {
      "text/html": [
       "\n",
       "    <div>\n",
       "      \n",
       "      <progress value='74' max='74' style='width:300px; height:20px; vertical-align: middle;'></progress>\n",
       "      [74/74 00:04]\n",
       "    </div>\n",
       "    "
      ],
      "text/plain": [
       "<IPython.core.display.HTML object>"
      ]
     },
     "metadata": {},
     "output_type": "display_data"
    },
    {
     "name": "stderr",
     "output_type": "stream",
     "text": [
      "[I 2025-09-06 00:06:30,980] Trial 3 finished with value: 0.675548981759988 and parameters: {'learning_rate': 9.654502322046035e-05, 'weight_decay': 0.0550346844165586, 'per_device_train_batch_size': 8, 'gradient_accumulation_steps': 1, 'warmup_ratio': 0.0006336383694570457, 'max_length': 256, 'num_train_epochs': 1}. Best is trial 3 with value: 0.675548981759988.\n",
      "Map: 100%|██████████| 2344/2344 [00:00<00:00, 3849.81 examples/s]\n",
      "Map: 100%|██████████| 587/587 [00:00<00:00, 3378.53 examples/s]\n",
      "Some weights of GPT2ForSequenceClassification were not initialized from the model checkpoint at gpt2 and are newly initialized: ['score.weight']\n",
      "You should probably TRAIN this model on a down-stream task to be able to use it for predictions and inference.\n",
      "C:\\Users\\user\\AppData\\Local\\Temp\\ipykernel_49860\\3203140391.py:60: FutureWarning: `tokenizer` is deprecated and will be removed in version 5.0.0 for `Trainer.__init__`. Use `processing_class` instead.\n",
      "  trainer_hpo = Trainer(\n",
      "Trainer.tokenizer is now deprecated. You should use Trainer.processing_class instead.\n"
     ]
    },
    {
     "data": {
      "text/html": [
       "\n",
       "    <div>\n",
       "      \n",
       "      <progress value='148' max='148' style='width:300px; height:20px; vertical-align: middle;'></progress>\n",
       "      [148/148 03:01, Epoch 2/2]\n",
       "    </div>\n",
       "    <table border=\"1\" class=\"dataframe\">\n",
       "  <thead>\n",
       " <tr style=\"text-align: left;\">\n",
       "      <th>Epoch</th>\n",
       "      <th>Training Loss</th>\n",
       "      <th>Validation Loss</th>\n",
       "      <th>Accuracy</th>\n",
       "      <th>F1 Macro</th>\n",
       "    </tr>\n",
       "  </thead>\n",
       "  <tbody>\n",
       "    <tr>\n",
       "      <td>1</td>\n",
       "      <td>2.339200</td>\n",
       "      <td>1.167844</td>\n",
       "      <td>0.456559</td>\n",
       "      <td>0.365834</td>\n",
       "    </tr>\n",
       "    <tr>\n",
       "      <td>2</td>\n",
       "      <td>1.182700</td>\n",
       "      <td>1.119499</td>\n",
       "      <td>0.482112</td>\n",
       "      <td>0.448826</td>\n",
       "    </tr>\n",
       "  </tbody>\n",
       "</table><p>"
      ],
      "text/plain": [
       "<IPython.core.display.HTML object>"
      ]
     },
     "metadata": {},
     "output_type": "display_data"
    },
    {
     "data": {
      "text/html": [
       "\n",
       "    <div>\n",
       "      \n",
       "      <progress value='74' max='74' style='width:300px; height:20px; vertical-align: middle;'></progress>\n",
       "      [74/74 00:06]\n",
       "    </div>\n",
       "    "
      ],
      "text/plain": [
       "<IPython.core.display.HTML object>"
      ]
     },
     "metadata": {},
     "output_type": "display_data"
    },
    {
     "name": "stderr",
     "output_type": "stream",
     "text": [
      "[I 2025-09-06 00:09:43,815] Trial 4 finished with value: 0.44882585426348426 and parameters: {'learning_rate': 1.3005227860294562e-05, 'weight_decay': 0.06972513229818948, 'per_device_train_batch_size': 8, 'gradient_accumulation_steps': 4, 'warmup_ratio': 0.00802382114564395, 'max_length': 384, 'num_train_epochs': 2}. Best is trial 3 with value: 0.675548981759988.\n",
      "Map: 100%|██████████| 2344/2344 [00:00<00:00, 3816.23 examples/s]\n",
      "Map: 100%|██████████| 587/587 [00:00<00:00, 3345.07 examples/s]\n",
      "Some weights of GPT2ForSequenceClassification were not initialized from the model checkpoint at gpt2 and are newly initialized: ['score.weight']\n",
      "You should probably TRAIN this model on a down-stream task to be able to use it for predictions and inference.\n",
      "C:\\Users\\user\\AppData\\Local\\Temp\\ipykernel_49860\\3203140391.py:60: FutureWarning: `tokenizer` is deprecated and will be removed in version 5.0.0 for `Trainer.__init__`. Use `processing_class` instead.\n",
      "  trainer_hpo = Trainer(\n",
      "Trainer.tokenizer is now deprecated. You should use Trainer.processing_class instead.\n"
     ]
    },
    {
     "data": {
      "text/html": [
       "\n",
       "    <div>\n",
       "      \n",
       "      <progress value='74' max='74' style='width:300px; height:20px; vertical-align: middle;'></progress>\n",
       "      [74/74 01:30, Epoch 1/1]\n",
       "    </div>\n",
       "    <table border=\"1\" class=\"dataframe\">\n",
       "  <thead>\n",
       " <tr style=\"text-align: left;\">\n",
       "      <th>Epoch</th>\n",
       "      <th>Training Loss</th>\n",
       "      <th>Validation Loss</th>\n",
       "      <th>Accuracy</th>\n",
       "      <th>F1 Macro</th>\n",
       "    </tr>\n",
       "  </thead>\n",
       "  <tbody>\n",
       "    <tr>\n",
       "      <td>1</td>\n",
       "      <td>1.658900</td>\n",
       "      <td>1.049984</td>\n",
       "      <td>0.521295</td>\n",
       "      <td>0.476160</td>\n",
       "    </tr>\n",
       "  </tbody>\n",
       "</table><p>"
      ],
      "text/plain": [
       "<IPython.core.display.HTML object>"
      ]
     },
     "metadata": {},
     "output_type": "display_data"
    },
    {
     "data": {
      "text/html": [
       "\n",
       "    <div>\n",
       "      \n",
       "      <progress value='74' max='74' style='width:300px; height:20px; vertical-align: middle;'></progress>\n",
       "      [74/74 00:06]\n",
       "    </div>\n",
       "    "
      ],
      "text/plain": [
       "<IPython.core.display.HTML object>"
      ]
     },
     "metadata": {},
     "output_type": "display_data"
    },
    {
     "name": "stderr",
     "output_type": "stream",
     "text": [
      "[I 2025-09-06 00:11:25,944] Trial 5 finished with value: 0.4761598847559477 and parameters: {'learning_rate': 4.99216222685368e-05, 'weight_decay': 0.07238167085295082, 'per_device_train_batch_size': 8, 'gradient_accumulation_steps': 4, 'warmup_ratio': 0.14762594286011838, 'max_length': 384, 'num_train_epochs': 1}. Best is trial 3 with value: 0.675548981759988.\n",
      "Map: 100%|██████████| 2344/2344 [00:00<00:00, 4374.99 examples/s]\n",
      "Map: 100%|██████████| 587/587 [00:00<00:00, 3799.35 examples/s]\n",
      "Some weights of GPT2ForSequenceClassification were not initialized from the model checkpoint at gpt2 and are newly initialized: ['score.weight']\n",
      "You should probably TRAIN this model on a down-stream task to be able to use it for predictions and inference.\n",
      "C:\\Users\\user\\AppData\\Local\\Temp\\ipykernel_49860\\3203140391.py:60: FutureWarning: `tokenizer` is deprecated and will be removed in version 5.0.0 for `Trainer.__init__`. Use `processing_class` instead.\n",
      "  trainer_hpo = Trainer(\n",
      "Trainer.tokenizer is now deprecated. You should use Trainer.processing_class instead.\n"
     ]
    },
    {
     "data": {
      "text/html": [
       "\n",
       "    <div>\n",
       "      \n",
       "      <progress value='148' max='148' style='width:300px; height:20px; vertical-align: middle;'></progress>\n",
       "      [148/148 01:04, Epoch 2/2]\n",
       "    </div>\n",
       "    <table border=\"1\" class=\"dataframe\">\n",
       "  <thead>\n",
       " <tr style=\"text-align: left;\">\n",
       "      <th>Epoch</th>\n",
       "      <th>Training Loss</th>\n",
       "      <th>Validation Loss</th>\n",
       "      <th>Accuracy</th>\n",
       "      <th>F1 Macro</th>\n",
       "    </tr>\n",
       "  </thead>\n",
       "  <tbody>\n",
       "    <tr>\n",
       "      <td>1</td>\n",
       "      <td>2.361700</td>\n",
       "      <td>1.160982</td>\n",
       "      <td>0.420784</td>\n",
       "      <td>0.401204</td>\n",
       "    </tr>\n",
       "    <tr>\n",
       "      <td>2</td>\n",
       "      <td>1.126300</td>\n",
       "      <td>1.072976</td>\n",
       "      <td>0.504259</td>\n",
       "      <td>0.493542</td>\n",
       "    </tr>\n",
       "  </tbody>\n",
       "</table><p>"
      ],
      "text/plain": [
       "<IPython.core.display.HTML object>"
      ]
     },
     "metadata": {},
     "output_type": "display_data"
    },
    {
     "data": {
      "text/html": [
       "\n",
       "    <div>\n",
       "      \n",
       "      <progress value='74' max='74' style='width:300px; height:20px; vertical-align: middle;'></progress>\n",
       "      [74/74 00:02]\n",
       "    </div>\n",
       "    "
      ],
      "text/plain": [
       "<IPython.core.display.HTML object>"
      ]
     },
     "metadata": {},
     "output_type": "display_data"
    },
    {
     "name": "stderr",
     "output_type": "stream",
     "text": [
      "[I 2025-09-06 00:12:35,352] Trial 6 finished with value: 0.4935421180846717 and parameters: {'learning_rate': 2.759064792483839e-05, 'weight_decay': 0.0841957972412839, 'per_device_train_batch_size': 8, 'gradient_accumulation_steps': 4, 'warmup_ratio': 0.08805813015549584, 'max_length': 128, 'num_train_epochs': 2}. Best is trial 3 with value: 0.675548981759988.\n",
      "Map: 100%|██████████| 2344/2344 [00:00<00:00, 3771.06 examples/s]\n",
      "Map: 100%|██████████| 587/587 [00:00<00:00, 3279.93 examples/s]\n",
      "Some weights of GPT2ForSequenceClassification were not initialized from the model checkpoint at gpt2 and are newly initialized: ['score.weight']\n",
      "You should probably TRAIN this model on a down-stream task to be able to use it for predictions and inference.\n",
      "C:\\Users\\user\\AppData\\Local\\Temp\\ipykernel_49860\\3203140391.py:60: FutureWarning: `tokenizer` is deprecated and will be removed in version 5.0.0 for `Trainer.__init__`. Use `processing_class` instead.\n",
      "  trainer_hpo = Trainer(\n",
      "Trainer.tokenizer is now deprecated. You should use Trainer.processing_class instead.\n"
     ]
    },
    {
     "data": {
      "text/html": [
       "\n",
       "    <div>\n",
       "      \n",
       "      <progress value='586' max='586' style='width:300px; height:20px; vertical-align: middle;'></progress>\n",
       "      [586/586 03:32, Epoch 2/2]\n",
       "    </div>\n",
       "    <table border=\"1\" class=\"dataframe\">\n",
       "  <thead>\n",
       " <tr style=\"text-align: left;\">\n",
       "      <th>Epoch</th>\n",
       "      <th>Training Loss</th>\n",
       "      <th>Validation Loss</th>\n",
       "      <th>Accuracy</th>\n",
       "      <th>F1 Macro</th>\n",
       "    </tr>\n",
       "  </thead>\n",
       "  <tbody>\n",
       "    <tr>\n",
       "      <td>1</td>\n",
       "      <td>0.883900</td>\n",
       "      <td>0.744408</td>\n",
       "      <td>0.681431</td>\n",
       "      <td>0.581702</td>\n",
       "    </tr>\n",
       "    <tr>\n",
       "      <td>2</td>\n",
       "      <td>0.438200</td>\n",
       "      <td>0.579872</td>\n",
       "      <td>0.792164</td>\n",
       "      <td>0.752698</td>\n",
       "    </tr>\n",
       "  </tbody>\n",
       "</table><p>"
      ],
      "text/plain": [
       "<IPython.core.display.HTML object>"
      ]
     },
     "metadata": {},
     "output_type": "display_data"
    },
    {
     "data": {
      "text/html": [
       "\n",
       "    <div>\n",
       "      \n",
       "      <progress value='74' max='74' style='width:300px; height:20px; vertical-align: middle;'></progress>\n",
       "      [74/74 00:06]\n",
       "    </div>\n",
       "    "
      ],
      "text/plain": [
       "<IPython.core.display.HTML object>"
      ]
     },
     "metadata": {},
     "output_type": "display_data"
    },
    {
     "name": "stderr",
     "output_type": "stream",
     "text": [
      "[I 2025-09-06 00:16:17,681] Trial 7 finished with value: 0.7526977360185075 and parameters: {'learning_rate': 0.0004995774303482198, 'weight_decay': 0.0346647373223764, 'per_device_train_batch_size': 8, 'gradient_accumulation_steps': 1, 'warmup_ratio': 0.053645456647558466, 'max_length': 384, 'num_train_epochs': 2}. Best is trial 7 with value: 0.7526977360185075.\n",
      "Map: 100%|██████████| 2344/2344 [00:00<00:00, 4490.73 examples/s]\n",
      "Map: 100%|██████████| 587/587 [00:00<00:00, 3851.65 examples/s]\n",
      "Some weights of GPT2ForSequenceClassification were not initialized from the model checkpoint at gpt2 and are newly initialized: ['score.weight']\n",
      "You should probably TRAIN this model on a down-stream task to be able to use it for predictions and inference.\n",
      "C:\\Users\\user\\AppData\\Local\\Temp\\ipykernel_49860\\3203140391.py:60: FutureWarning: `tokenizer` is deprecated and will be removed in version 5.0.0 for `Trainer.__init__`. Use `processing_class` instead.\n",
      "  trainer_hpo = Trainer(\n",
      "Trainer.tokenizer is now deprecated. You should use Trainer.processing_class instead.\n"
     ]
    },
    {
     "data": {
      "text/html": [
       "\n",
       "    <div>\n",
       "      \n",
       "      <progress value='37' max='37' style='width:300px; height:20px; vertical-align: middle;'></progress>\n",
       "      [37/37 00:30, Epoch 1/1]\n",
       "    </div>\n",
       "    <table border=\"1\" class=\"dataframe\">\n",
       "  <thead>\n",
       " <tr style=\"text-align: left;\">\n",
       "      <th>Epoch</th>\n",
       "      <th>Training Loss</th>\n",
       "      <th>Validation Loss</th>\n",
       "      <th>Accuracy</th>\n",
       "      <th>F1 Macro</th>\n",
       "    </tr>\n",
       "  </thead>\n",
       "  <tbody>\n",
       "    <tr>\n",
       "      <td>1</td>\n",
       "      <td>No log</td>\n",
       "      <td>1.088826</td>\n",
       "      <td>0.517888</td>\n",
       "      <td>0.494735</td>\n",
       "    </tr>\n",
       "  </tbody>\n",
       "</table><p>"
      ],
      "text/plain": [
       "<IPython.core.display.HTML object>"
      ]
     },
     "metadata": {},
     "output_type": "display_data"
    },
    {
     "data": {
      "text/html": [
       "\n",
       "    <div>\n",
       "      \n",
       "      <progress value='37' max='37' style='width:300px; height:20px; vertical-align: middle;'></progress>\n",
       "      [37/37 00:02]\n",
       "    </div>\n",
       "    "
      ],
      "text/plain": [
       "<IPython.core.display.HTML object>"
      ]
     },
     "metadata": {},
     "output_type": "display_data"
    },
    {
     "name": "stderr",
     "output_type": "stream",
     "text": [
      "[I 2025-09-06 00:16:54,468] Trial 8 finished with value: 0.4947352294270153 and parameters: {'learning_rate': 7.770216501780681e-05, 'weight_decay': 0.0726908741610945, 'per_device_train_batch_size': 16, 'gradient_accumulation_steps': 4, 'warmup_ratio': 0.026670721340862385, 'max_length': 128, 'num_train_epochs': 1}. Best is trial 7 with value: 0.7526977360185075.\n",
      "Map: 100%|██████████| 2344/2344 [00:00<00:00, 4071.06 examples/s]\n",
      "Map: 100%|██████████| 587/587 [00:00<00:00, 3597.76 examples/s]\n",
      "Some weights of GPT2ForSequenceClassification were not initialized from the model checkpoint at gpt2 and are newly initialized: ['score.weight']\n",
      "You should probably TRAIN this model on a down-stream task to be able to use it for predictions and inference.\n",
      "C:\\Users\\user\\AppData\\Local\\Temp\\ipykernel_49860\\3203140391.py:60: FutureWarning: `tokenizer` is deprecated and will be removed in version 5.0.0 for `Trainer.__init__`. Use `processing_class` instead.\n",
      "  trainer_hpo = Trainer(\n",
      "Trainer.tokenizer is now deprecated. You should use Trainer.processing_class instead.\n"
     ]
    },
    {
     "data": {
      "text/html": [
       "\n",
       "    <div>\n",
       "      \n",
       "      <progress value='74' max='74' style='width:300px; height:20px; vertical-align: middle;'></progress>\n",
       "      [74/74 01:01, Epoch 1/1]\n",
       "    </div>\n",
       "    <table border=\"1\" class=\"dataframe\">\n",
       "  <thead>\n",
       " <tr style=\"text-align: left;\">\n",
       "      <th>Epoch</th>\n",
       "      <th>Training Loss</th>\n",
       "      <th>Validation Loss</th>\n",
       "      <th>Accuracy</th>\n",
       "      <th>F1 Macro</th>\n",
       "    </tr>\n",
       "  </thead>\n",
       "  <tbody>\n",
       "    <tr>\n",
       "      <td>1</td>\n",
       "      <td>2.640100</td>\n",
       "      <td>1.235818</td>\n",
       "      <td>0.374787</td>\n",
       "      <td>0.338809</td>\n",
       "    </tr>\n",
       "  </tbody>\n",
       "</table><p>"
      ],
      "text/plain": [
       "<IPython.core.display.HTML object>"
      ]
     },
     "metadata": {},
     "output_type": "display_data"
    },
    {
     "data": {
      "text/html": [
       "\n",
       "    <div>\n",
       "      \n",
       "      <progress value='74' max='74' style='width:300px; height:20px; vertical-align: middle;'></progress>\n",
       "      [74/74 00:04]\n",
       "    </div>\n",
       "    "
      ],
      "text/plain": [
       "<IPython.core.display.HTML object>"
      ]
     },
     "metadata": {},
     "output_type": "display_data"
    },
    {
     "name": "stderr",
     "output_type": "stream",
     "text": [
      "[I 2025-09-06 00:18:04,536] Trial 9 finished with value: 0.33880916321904 and parameters: {'learning_rate': 1.0164548127336332e-05, 'weight_decay': 0.025170859901744193, 'per_device_train_batch_size': 8, 'gradient_accumulation_steps': 4, 'warmup_ratio': 0.07930826725942687, 'max_length': 256, 'num_train_epochs': 1}. Best is trial 7 with value: 0.7526977360185075.\n"
     ]
    }
   ],
   "source": [
    "study = optuna.create_study(direction=\"maximize\")\n",
    "study.optimize(objective, n_trials=10, show_progress_bar=False)"
   ]
  },
  {
   "cell_type": "code",
   "execution_count": 21,
   "id": "be8d3161",
   "metadata": {},
   "outputs": [
    {
     "name": "stdout",
     "output_type": "stream",
     "text": [
      "\n",
      "=== HPO BEST TRIAL ===\n",
      "Best f1_macro: 0.7526977360185075\n",
      "Best params: {'learning_rate': 0.0004995774303482198, 'weight_decay': 0.0346647373223764, 'per_device_train_batch_size': 8, 'gradient_accumulation_steps': 1, 'warmup_ratio': 0.053645456647558466, 'max_length': 384, 'num_train_epochs': 2}\n"
     ]
    }
   ],
   "source": [
    "print(\"\\n=== HPO BEST TRIAL ===\")\n",
    "print(\"Best f1_macro:\", study.best_value)\n",
    "print(\"Best params:\", study.best_params)"
   ]
  },
  {
   "cell_type": "code",
   "execution_count": 22,
   "id": "d62f76fb",
   "metadata": {},
   "outputs": [],
   "source": [
    "best_params = study.best_params.copy()\n",
    "best_max_length = best_params.pop(\"max_length\", 256)\n",
    "_ = best_params.pop(\"num_train_epochs\", None)"
   ]
  },
  {
   "cell_type": "code",
   "execution_count": 23,
   "id": "823401e1",
   "metadata": {},
   "outputs": [],
   "source": [
    "# --- split FULL dataset ---\n",
    "train_texts_full, val_texts_full, train_labels_full, val_labels_full = train_test_split(\n",
    "    df[\"sentence\"].tolist(),\n",
    "    df[\"label\"].tolist(),\n",
    "    test_size=0.2,\n",
    "    stratify=df[\"label\"],\n",
    "    random_state=42\n",
    ")"
   ]
  },
  {
   "cell_type": "code",
   "execution_count": 24,
   "id": "bdecf6b3",
   "metadata": {},
   "outputs": [
    {
     "name": "stdout",
     "output_type": "stream",
     "text": [
      "\n",
      "=== FULL SPLIT SHAPES ===\n",
      "train_texts_full: 86825 | val_texts_full: 21707\n",
      "Train balance (full): Counter({2: 39319, 1: 22944, 0: 13552, 3: 11010})\n",
      "Val balance (full): Counter({2: 9830, 1: 5736, 0: 3388, 3: 2753})\n"
     ]
    }
   ],
   "source": [
    "print(\"\\n=== FULL SPLIT SHAPES ===\")\n",
    "print(f\"train_texts_full: {len(train_texts_full)} | val_texts_full: {len(val_texts_full)}\")\n",
    "print(\"Train balance (full):\", Counter(train_labels_full))\n",
    "print(\"Val balance (full):\", Counter(val_labels_full))"
   ]
  },
  {
   "cell_type": "code",
   "execution_count": 25,
   "id": "b2bb4b06",
   "metadata": {},
   "outputs": [
    {
     "name": "stderr",
     "output_type": "stream",
     "text": [
      "Map: 100%|██████████| 86825/86825 [00:18<00:00, 4714.03 examples/s]\n",
      "Map: 100%|██████████| 21707/21707 [00:04<00:00, 4356.20 examples/s]\n"
     ]
    }
   ],
   "source": [
    "train_ds_full, val_ds_full = make_hf_datasets(train_texts_full, train_labels_full,\n",
    "                                              val_texts_full, val_labels_full,\n",
    "                                              max_length=best_max_length)"
   ]
  },
  {
   "cell_type": "code",
   "execution_count": 26,
   "id": "ad5b23ca",
   "metadata": {},
   "outputs": [
    {
     "name": "stderr",
     "output_type": "stream",
     "text": [
      "Some weights of GPT2ForSequenceClassification were not initialized from the model checkpoint at gpt2 and are newly initialized: ['score.weight']\n",
      "You should probably TRAIN this model on a down-stream task to be able to use it for predictions and inference.\n"
     ]
    }
   ],
   "source": [
    "final_epochs = 3\n",
    "\n",
    "model_final = GPT2ForSequenceClassification.from_pretrained(\n",
    "    model_ckpt,\n",
    "    num_labels=len(valid_labels),\n",
    "    pad_token_id=tokenizer.eos_token_id\n",
    ")"
   ]
  },
  {
   "cell_type": "code",
   "execution_count": 27,
   "id": "fdaadbd5",
   "metadata": {},
   "outputs": [],
   "source": [
    "final_args = TrainingArguments(\n",
    "    output_dir=\"model/gpt2/final_best\",\n",
    "    overwrite_output_dir=True,\n",
    "    do_train=True,\n",
    "    do_eval=True,\n",
    "    eval_strategy=\"epoch\",\n",
    "    save_strategy=\"epoch\",\n",
    "    load_best_model_at_end=True,\n",
    "    metric_for_best_model=\"f1_macro\",\n",
    "    greater_is_better=True,\n",
    "\n",
    "    per_device_train_batch_size=best_params.get(\"per_device_train_batch_size\", 8),\n",
    "    per_device_eval_batch_size=min(best_params.get(\"per_device_train_batch_size\", 8), 32),\n",
    "    gradient_accumulation_steps=best_params.get(\"gradient_accumulation_steps\", 2),\n",
    "    learning_rate=best_params.get(\"learning_rate\", 2e-5),\n",
    "    weight_decay=best_params.get(\"weight_decay\", 0.05),\n",
    "    warmup_ratio=best_params.get(\"warmup_ratio\", 0.0),\n",
    "\n",
    "    num_train_epochs=final_epochs,\n",
    "    fp16=torch.cuda.is_available(),\n",
    "    logging_dir=\"model/gpt2/final_best/logs\",\n",
    "    logging_steps=100,\n",
    "    save_total_limit=2,\n",
    "    report_to=[]\n",
    ")"
   ]
  },
  {
   "cell_type": "code",
   "execution_count": 28,
   "id": "2cef03b7",
   "metadata": {},
   "outputs": [
    {
     "name": "stderr",
     "output_type": "stream",
     "text": [
      "C:\\Users\\user\\AppData\\Local\\Temp\\ipykernel_49860\\2712664601.py:1: FutureWarning: `tokenizer` is deprecated and will be removed in version 5.0.0 for `Trainer.__init__`. Use `processing_class` instead.\n",
      "  trainer_final = Trainer(\n"
     ]
    }
   ],
   "source": [
    "trainer_final = Trainer(\n",
    "    model=model_final,\n",
    "    args=final_args,\n",
    "    tokenizer=tokenizer,\n",
    "    train_dataset=train_ds_full,\n",
    "    eval_dataset=val_ds_full,\n",
    "    data_collator=DataCollatorWithPadding(tokenizer),\n",
    "    compute_metrics=compute_metrics,\n",
    "    callbacks=[EarlyStoppingCallback(early_stopping_patience=2)]\n",
    ")"
   ]
  },
  {
   "cell_type": "code",
   "execution_count": 29,
   "id": "9d828733",
   "metadata": {},
   "outputs": [
    {
     "name": "stderr",
     "output_type": "stream",
     "text": [
      "Trainer.tokenizer is now deprecated. You should use Trainer.processing_class instead.\n"
     ]
    },
    {
     "data": {
      "text/html": [
       "\n",
       "    <div>\n",
       "      \n",
       "      <progress value='32562' max='32562' style='width:300px; height:20px; vertical-align: middle;'></progress>\n",
       "      [32562/32562 3:14:03, Epoch 3/3]\n",
       "    </div>\n",
       "    <table border=\"1\" class=\"dataframe\">\n",
       "  <thead>\n",
       " <tr style=\"text-align: left;\">\n",
       "      <th>Epoch</th>\n",
       "      <th>Training Loss</th>\n",
       "      <th>Validation Loss</th>\n",
       "      <th>Accuracy</th>\n",
       "      <th>F1 Macro</th>\n",
       "    </tr>\n",
       "  </thead>\n",
       "  <tbody>\n",
       "    <tr>\n",
       "      <td>1</td>\n",
       "      <td>0.403100</td>\n",
       "      <td>0.431956</td>\n",
       "      <td>0.842493</td>\n",
       "      <td>0.805484</td>\n",
       "    </tr>\n",
       "    <tr>\n",
       "      <td>2</td>\n",
       "      <td>0.310900</td>\n",
       "      <td>0.417319</td>\n",
       "      <td>0.855669</td>\n",
       "      <td>0.824405</td>\n",
       "    </tr>\n",
       "    <tr>\n",
       "      <td>3</td>\n",
       "      <td>0.251100</td>\n",
       "      <td>0.459271</td>\n",
       "      <td>0.859907</td>\n",
       "      <td>0.828359</td>\n",
       "    </tr>\n",
       "  </tbody>\n",
       "</table><p>"
      ],
      "text/plain": [
       "<IPython.core.display.HTML object>"
      ]
     },
     "metadata": {},
     "output_type": "display_data"
    },
    {
     "data": {
      "text/plain": [
       "TrainOutput(global_step=32562, training_loss=0.38410411798634037, metrics={'train_runtime': 11643.5354, 'train_samples_per_second': 22.371, 'train_steps_per_second': 2.797, 'total_flos': 5.10468751392768e+16, 'train_loss': 0.38410411798634037, 'epoch': 3.0})"
      ]
     },
     "execution_count": 29,
     "metadata": {},
     "output_type": "execute_result"
    }
   ],
   "source": [
    "\n",
    "trainer_final.train()"
   ]
  },
  {
   "cell_type": "code",
   "execution_count": 30,
   "id": "7dc13e52",
   "metadata": {},
   "outputs": [
    {
     "data": {
      "text/html": [],
      "text/plain": [
       "<IPython.core.display.HTML object>"
      ]
     },
     "metadata": {},
     "output_type": "display_data"
    },
    {
     "name": "stdout",
     "output_type": "stream",
     "text": [
      "\n",
      "=== FINAL CLASSIFICATION REPORT ===\n",
      "              precision    recall  f1-score   support\n",
      "\n",
      "           C       0.85      0.85      0.85      3388\n",
      "           G       0.85      0.88      0.86      5736\n",
      "         W/Q       0.91      0.91      0.91      9830\n",
      "         OTH       0.72      0.67      0.69      2753\n",
      "\n",
      "    accuracy                           0.86     21707\n",
      "   macro avg       0.83      0.83      0.83     21707\n",
      "weighted avg       0.86      0.86      0.86     21707\n",
      "\n"
     ]
    }
   ],
   "source": [
    "# --- evaluation on full val set ---\n",
    "preds_full = trainer_final.predict(val_ds_full)\n",
    "y_pred_full = np.argmax(preds_full.predictions, axis=1)\n",
    "y_true_full = np.array(val_labels_full)\n",
    "\n",
    "print(\"\\n=== FINAL CLASSIFICATION REPORT ===\")\n",
    "print(classification_report(\n",
    "    y_true_full,\n",
    "    y_pred_full,\n",
    "    labels=sorted(set(y_true_full)),\n",
    "    target_names=[inv_label_map[i] for i in sorted(set(y_true_full))],\n",
    "    zero_division=0\n",
    "))"
   ]
  },
  {
   "cell_type": "code",
   "execution_count": 31,
   "id": "ffed714e",
   "metadata": {},
   "outputs": [
    {
     "data": {
      "image/png": "[encoded data removed]",
      "text/plain": [
       "<Figure size 640x480 with 2 Axes>"
      ]
     },
     "metadata": {},
     "output_type": "display_data"
    }
   ],
   "source": [
    "cm_full = confusion_matrix(y_true_full, y_pred_full)\n",
    "disp = ConfusionMatrixDisplay(confusion_matrix=cm_full,\n",
    "                               display_labels=[inv_label_map[i] for i in range(len(inv_label_map))])\n",
    "disp.plot(cmap=plt.cm.Blues, xticks_rotation=45)\n",
    "plt.title(\"Confusion Matrix — Final GPT-2 Model\")\n",
    "plt.show()"
   ]
  },
  {
   "cell_type": "code",
   "execution_count": 32,
   "id": "587259ae",
   "metadata": {},
   "outputs": [
    {
     "name": "stdout",
     "output_type": "stream",
     "text": [
      "\n",
      "=== ROC AUCs (Final Val) ===\n",
      "C: AUC = 0.9820\n",
      "G: AUC = 0.9790\n",
      "W/Q: AUC = 0.9771\n",
      "OTH: AUC = 0.9538\n",
      "Micro-average AUC: 0.9776\n",
      "Macro-average AUC: 0.9730\n"
     ]
    },
    {
     "data": {
      "image/png": "[encoded data removed]",
      "text/plain": [
       "<Figure size 700x600 with 1 Axes>"
      ]
     },
     "metadata": {},
     "output_type": "display_data"
    }
   ],
   "source": [
    "# --- ROC / AUC ---\n",
    "probs_all_full = softmax(preds_full.predictions, axis=1)\n",
    "labels_present = sorted(set(y_true_full))\n",
    "y_true_bin_full = label_binarize(y_true_full, classes=labels_present)\n",
    "probs_aligned = probs_all_full[:, labels_present]\n",
    "\n",
    "fprs, tprs, aucs = {}, {}, {}\n",
    "for j, cls_id in enumerate(labels_present):\n",
    "    if y_true_bin_full[:, j].sum() == 0:\n",
    "        continue\n",
    "    fpr, tpr, _ = roc_curve(y_true_bin_full[:, j], probs_aligned[:, j])\n",
    "    fprs[cls_id], tprs[cls_id] = fpr, tpr\n",
    "    aucs[cls_id] = auc(fpr, tpr)\n",
    "\n",
    "fpr_micro, tpr_micro, _ = roc_curve(y_true_bin_full.ravel(), probs_aligned.ravel())\n",
    "auc_micro = auc(fpr_micro, tpr_micro)\n",
    "auc_macro = float(np.mean(list(aucs.values()))) if len(aucs) > 0 else float(\"nan\")\n",
    "\n",
    "print(\"\\n=== ROC AUCs (Final Val) ===\")\n",
    "for cls_id in labels_present:\n",
    "    print(f\"{inv_label_map[cls_id]}: AUC = {aucs.get(cls_id, float('nan')):.4f}\")\n",
    "print(f\"Micro-average AUC: {auc_micro:.4f}\")\n",
    "print(f\"Macro-average AUC: {auc_macro:.4f}\")\n",
    "\n",
    "plt.figure(figsize=(7, 6))\n",
    "for cls_id in labels_present:\n",
    "    if cls_id in fprs:\n",
    "        plt.plot(fprs[cls_id], tprs[cls_id], lw=2,\n",
    "                 label=f\"{inv_label_map[cls_id]} (AUC={aucs[cls_id]:.3f})\")\n",
    "plt.plot(fpr_micro, tpr_micro, linestyle=\"--\",\n",
    "         label=f\"micro-average (AUC={auc_micro:.3f})\", alpha=0.9)\n",
    "plt.plot([0, 1], [0, 1], linestyle=\":\", color=\"gray\")\n",
    "plt.xlabel(\"False Positive Rate\"); plt.ylabel(\"True Positive Rate\")\n",
    "plt.title(\"ROC Curves — Final GPT-2 Model\")\n",
    "plt.legend(loc=\"lower right\")\n",
    "plt.show()"
   ]
  },
  {
   "cell_type": "code",
   "execution_count": 33,
   "id": "b2511e4d",
   "metadata": {},
   "outputs": [
    {
     "name": "stdout",
     "output_type": "stream",
     "text": [
      "\n",
      "Saved final best GPT-2 model to: 3_model/gpt2-best\n",
      "Best HPO params used: {'learning_rate': 0.0004995774303482198, 'weight_decay': 0.0346647373223764, 'per_device_train_batch_size': 8, 'gradient_accumulation_steps': 1, 'warmup_ratio': 0.053645456647558466, 'max_length': 384, 'final_epochs': 3}\n"
     ]
    }
   ],
   "source": [
    "# --- save final model ---\n",
    "save_dir = \"3_model/gpt2-best\"\n",
    "model_final.save_pretrained(save_dir)\n",
    "tokenizer.save_pretrained(save_dir)\n",
    "print(f\"\\nSaved final best GPT-2 model to: {save_dir}\")\n",
    "print(\"Best HPO params used:\", {**best_params, \"max_length\": best_max_length, \"final_epochs\": final_epochs})"
   ]
  }
 ],
 "metadata": {
  "kernelspec": {
   "display_name": "Python 3",
   "language": "python",
   "name": "python3"
  },
  "language_info": {
   "codemirror_mode": {
    "name": "ipython",
    "version": 3
   },
   "file_extension": ".py",
   "mimetype": "text/x-python",
   "name": "python",
   "nbconvert_exporter": "python",
   "pygments_lexer": "ipython3",
   "version": "3.12.9"
  }
 },
 "nbformat": 4,
 "nbformat_minor": 5
}
