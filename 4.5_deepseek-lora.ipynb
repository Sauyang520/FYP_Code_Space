{
 "cells": [
  {
   "cell_type": "code",
   "execution_count": 1,
   "id": "8ad62a6c",
   "metadata": {},
   "outputs": [
    {
     "name": "stderr",
     "output_type": "stream",
     "text": [
      "c:\\Users\\user\\AppData\\Local\\Programs\\Python\\Python312\\Lib\\site-packages\\tqdm\\auto.py:21: TqdmWarning: IProgress not found. Please update jupyter and ipywidgets. See https://ipywidgets.readthedocs.io/en/stable/user_install.html\n",
      "  from .autonotebook import tqdm as notebook_tqdm\n"
     ]
    },
    {
     "name": "stdout",
     "output_type": "stream",
     "text": [
      "WARNING:tensorflow:From c:\\Users\\user\\AppData\\Local\\Programs\\Python\\Python312\\Lib\\site-packages\\tf_keras\\src\\losses.py:2976: The name tf.losses.sparse_softmax_cross_entropy is deprecated. Please use tf.compat.v1.losses.sparse_softmax_cross_entropy instead.\n",
      "\n"
     ]
    }
   ],
   "source": [
    "import os\n",
    "os.environ[\"WANDB_DISABLED\"] = \"true\"  # disable W&B\n",
    "import json\n",
    "import random\n",
    "import numpy as np\n",
    "import pandas as pd\n",
    "import torch\n",
    "import matplotlib.pyplot as plt\n",
    "from datasets import Dataset\n",
    "from sklearn.model_selection import train_test_split\n",
    "from sklearn.metrics import (\n",
    "    accuracy_score, f1_score, classification_report,\n",
    "    confusion_matrix, roc_curve, auc, ConfusionMatrixDisplay\n",
    ")\n",
    "from torch.nn.functional import softmax\n",
    "from transformers import (\n",
    "    AutoTokenizer, AutoModelForSequenceClassification,\n",
    "    BitsAndBytesConfig, Trainer, TrainingArguments,\n",
    "    DataCollatorWithPadding, set_seed\n",
    ")\n",
    "from peft import LoraConfig, TaskType, get_peft_model, prepare_model_for_kbit_training\n",
    "import gc, warnings, optuna\n",
    "from collections import Counter\n",
    "from transformers import EarlyStoppingCallback\n",
    "\n",
    "warnings.filterwarnings(\"ignore\")"
   ]
  },
  {
   "cell_type": "code",
   "execution_count": 2,
   "id": "0855e360",
   "metadata": {},
   "outputs": [],
   "source": [
    "# Config the variable so the following set up is easier\n",
    "DATA_CSV = \"2_processed_data/labelled_dataset_revised.csv\"\n",
    "MODEL_CKPT = \"deepseek-ai/DeepSeek-R1-Distill-Qwen-1.5B\"\n",
    "TEXT_COL = \"sentence\"\n",
    "LABEL_COL = \"revised_argument_type\"\n",
    "VALID_LABELS = [\"C\", \"G\", \"W/Q\", \"OTH\"]\n",
    "\n",
    "OUTPUT_DIR = \"3_model/deepseek_qwen1p5b_qlora_cls\"\n",
    "FIG_DIR = os.path.join(OUTPUT_DIR, \"figs\")\n",
    "os.makedirs(FIG_DIR, exist_ok=True)\n",
    "\n",
    "# Reproducibility\n",
    "set_seed(42)\n",
    "random.seed(42)\n",
    "np.random.seed(42)\n",
    "if torch.cuda.is_available():\n",
    "    torch.cuda.manual_seed_all(42)\n",
    "    torch.backends.cuda.matmul.allow_tf32 = True"
   ]
  },
  {
   "cell_type": "code",
   "execution_count": 3,
   "id": "85d5c288",
   "metadata": {},
   "outputs": [],
   "source": [
    "# Load and prepare data\n",
    "df = pd.read_csv(DATA_CSV, encoding=\"latin1\")\n",
    "df = df[df[LABEL_COL].isin(VALID_LABELS)].copy()\n",
    "\n",
    "label2id = {label: i for i, label in enumerate(VALID_LABELS)}\n",
    "id2label = {i: label for label, i in label2id.items()}\n",
    "df[\"label\"] = df[LABEL_COL].map(label2id).astype(int)\n",
    "\n",
    "train_df, val_df = train_test_split(\n",
    "    df[[TEXT_COL, \"label\"]].copy(),\n",
    "    train_size=0.8,\n",
    "    stratify=df[\"label\"],\n",
    "    random_state=42,\n",
    ")"
   ]
  },
  {
   "cell_type": "code",
   "execution_count": 4,
   "id": "1ddc68d5",
   "metadata": {},
   "outputs": [
    {
     "name": "stderr",
     "output_type": "stream",
     "text": [
      "Map: 100%|██████████| 86825/86825 [00:02<00:00, 36886.39 examples/s]\n",
      "Map: 100%|██████████| 21707/21707 [00:00<00:00, 43274.04 examples/s]\n"
     ]
    }
   ],
   "source": [
    "# Tokenizer\n",
    "tokenizer = AutoTokenizer.from_pretrained(MODEL_CKPT, use_fast=True)\n",
    "if tokenizer.pad_token_id is None and tokenizer.eos_token_id is not None:\n",
    "    tokenizer.pad_token_id = tokenizer.eos_token_id\n",
    "tokenizer.padding_side = \"right\"\n",
    "\n",
    "def tokenize_batch(batch):\n",
    "    return tokenizer(\n",
    "        batch[TEXT_COL],\n",
    "        truncation=True,\n",
    "        max_length=256,\n",
    "    )\n",
    "\n",
    "train_ds = Dataset.from_pandas(train_df.reset_index(drop=True)).map(\n",
    "    tokenize_batch, batched=True, remove_columns=[TEXT_COL]\n",
    ")\n",
    "val_ds = Dataset.from_pandas(val_df.reset_index(drop=True)).map(\n",
    "    tokenize_batch, batched=True, remove_columns=[TEXT_COL]\n",
    ")"
   ]
  },
  {
   "cell_type": "code",
   "execution_count": 5,
   "id": "669f6c13",
   "metadata": {},
   "outputs": [],
   "source": [
    "# QLoRA config\n",
    "bf16_ok = torch.cuda.is_available() and torch.cuda.get_device_capability(0)[0] >= 8\n",
    "bnb_config = BitsAndBytesConfig(\n",
    "    load_in_4bit=True,\n",
    "    bnb_4bit_compute_dtype=torch.bfloat16 if bf16_ok else torch.float16,\n",
    "    bnb_4bit_use_double_quant=True,\n",
    "    bnb_4bit_quant_type=\"nf4\",\n",
    ")\n",
    "OFFLOAD_DIR = os.path.join(OUTPUT_DIR, \"offload\")\n",
    "os.makedirs(OFFLOAD_DIR, exist_ok=True)"
   ]
  },
  {
   "cell_type": "code",
   "execution_count": 6,
   "id": "916aa70f",
   "metadata": {},
   "outputs": [
    {
     "name": "stderr",
     "output_type": "stream",
     "text": [
      "Some weights of Qwen2ForSequenceClassification were not initialized from the model checkpoint at deepseek-ai/DeepSeek-R1-Distill-Qwen-1.5B and are newly initialized: ['score.weight']\n",
      "You should probably TRAIN this model on a down-stream task to be able to use it for predictions and inference.\n"
     ]
    },
    {
     "name": "stdout",
     "output_type": "stream",
     "text": [
      "trainable params: 9,238,528 || all params: 1,552,958,976 || trainable%: 0.5949\n"
     ]
    }
   ],
   "source": [
    "# Model\n",
    "base_model = AutoModelForSequenceClassification.from_pretrained(\n",
    "    MODEL_CKPT,\n",
    "    num_labels=len(VALID_LABELS),\n",
    "    quantization_config=bnb_config,\n",
    "    device_map=\"auto\",\n",
    "    trust_remote_code=True,\n",
    "    offload_folder=OFFLOAD_DIR,\n",
    ")\n",
    "base_model.config.pad_token_id = tokenizer.pad_token_id\n",
    "\n",
    "# LoRA\n",
    "base_model = prepare_model_for_kbit_training(base_model)\n",
    "lora_cfg = LoraConfig(\n",
    "    task_type=TaskType.SEQ_CLS,\n",
    "    r=8,\n",
    "    lora_alpha=16,\n",
    "    lora_dropout=0.05,\n",
    "    bias=\"none\",\n",
    "    target_modules=[\n",
    "        \"q_proj\", \"k_proj\", \"v_proj\", \"o_proj\",\n",
    "        \"gate_proj\", \"up_proj\", \"down_proj\"\n",
    "    ],\n",
    ")\n",
    "\n",
    "model = get_peft_model(base_model, lora_cfg)\n",
    "model.print_trainable_parameters()"
   ]
  },
  {
   "cell_type": "code",
   "execution_count": 7,
   "id": "c05735b7",
   "metadata": {},
   "outputs": [],
   "source": [
    "# Data collator\n",
    "data_collator = DataCollatorWithPadding(tokenizer=tokenizer, pad_to_multiple_of=8)\n",
    "\n",
    "# Trainer\n",
    "def compute_metrics(eval_pred):\n",
    "    logits, labels = eval_pred\n",
    "    preds = np.argmax(logits, axis=-1)\n",
    "    return {\n",
    "        \"accuracy\": accuracy_score(labels, preds),\n",
    "        \"f1_macro\": f1_score(labels, preds, average=\"macro\")\n",
    "    }"
   ]
  },
  {
   "cell_type": "code",
   "execution_count": 8,
   "id": "db3f9ce9",
   "metadata": {},
   "outputs": [
    {
     "name": "stderr",
     "output_type": "stream",
     "text": [
      "Using the `WANDB_DISABLED` environment variable is deprecated and will be removed in v5. Use the --report_to flag to control the integrations used for logging result (for instance --report_to none).\n"
     ]
    }
   ],
   "source": [
    "training_args = TrainingArguments(\n",
    "    output_dir=\"logging/deepseek-lora/results\",\n",
    "    overwrite_output_dir=True,\n",
    "    do_train=True,\n",
    "    do_eval=True,\n",
    "    eval_strategy=\"epoch\",\n",
    "    save_strategy=\"epoch\",\n",
    "    load_best_model_at_end=True,\n",
    "    metric_for_best_model=\"f1_macro\",\n",
    "    greater_is_better=True,\n",
    "\n",
    "    per_device_train_batch_size=8,\n",
    "    per_device_eval_batch_size=8,\n",
    "    gradient_accumulation_steps=2,\n",
    "\n",
    "    learning_rate=2e-5,\n",
    "    weight_decay=0.05,\n",
    "    num_train_epochs=2,\n",
    "\n",
    "    fp16=torch.cuda.is_available(),\n",
    "\n",
    "    dataloader_num_workers=4,\n",
    "    dataloader_pin_memory=True,\n",
    "    dataloader_prefetch_factor=2,\n",
    "\n",
    "    logging_dir=\"logging/deepseek-lora/logs\",\n",
    "    logging_steps=100,\n",
    "    save_total_limit=2\n",
    ")\n",
    "\n",
    "trainer = Trainer(\n",
    "    model=model,\n",
    "    args=training_args,\n",
    "    train_dataset=train_ds,\n",
    "    eval_dataset=val_ds,\n",
    "    tokenizer=tokenizer,\n",
    "    data_collator=data_collator,\n",
    "    compute_metrics=compute_metrics,\n",
    ")"
   ]
  },
  {
   "cell_type": "code",
   "execution_count": null,
   "id": "ebe46a98",
   "metadata": {},
   "outputs": [
    {
     "name": "stderr",
     "output_type": "stream",
     "text": [
      "Trainer.tokenizer is now deprecated. You should use Trainer.processing_class instead.\n",
      "The tokenizer has new PAD/BOS/EOS tokens that differ from the model config and generation config. The model config and generation config were aligned accordingly, being updated with the tokenizer's values. Updated tokens: {'bos_token_id': 151646}.\n",
      "`use_cache=True` is incompatible with gradient checkpointing. Setting `use_cache=False`.\n"
     ]
    },
    {
     "data": {
      "text/html": [
       "\n",
       "    <div>\n",
       "      \n",
       "      <progress value='10854' max='10854' style='width:300px; height:20px; vertical-align: middle;'></progress>\n",
       "      [10854/10854 5:43:13, Epoch 2/2]\n",
       "    </div>\n",
       "    <table border=\"1\" class=\"dataframe\">\n",
       "  <thead>\n",
       " <tr style=\"text-align: left;\">\n",
       "      <th>Epoch</th>\n",
       "      <th>Training Loss</th>\n",
       "      <th>Validation Loss</th>\n",
       "      <th>Accuracy</th>\n",
       "      <th>F1 Macro</th>\n",
       "    </tr>\n",
       "  </thead>\n",
       "  <tbody>\n",
       "    <tr>\n",
       "      <td>1</td>\n",
       "      <td>0.696600</td>\n",
       "      <td>0.342662</td>\n",
       "      <td>0.864237</td>\n",
       "      <td>0.838247</td>\n",
       "    </tr>\n",
       "    <tr>\n",
       "      <td>2</td>\n",
       "      <td>0.620300</td>\n",
       "      <td>0.311061</td>\n",
       "      <td>0.882158</td>\n",
       "      <td>0.857177</td>\n",
       "    </tr>\n",
       "  </tbody>\n",
       "</table><p>"
      ],
      "text/plain": [
       "<IPython.core.display.HTML object>"
      ]
     },
     "metadata": {},
     "output_type": "display_data"
    },
    {
     "data": {
      "text/plain": [
       "TrainOutput(global_step=10854, training_loss=0.8118528754798575, metrics={'train_runtime': 20625.7726, 'train_samples_per_second': 8.419, 'train_steps_per_second': 0.526, 'total_flos': 8.310517957767168e+16, 'train_loss': 0.8118528754798575, 'epoch': 2.0})"
      ]
     },
     "execution_count": 9,
     "metadata": {},
     "output_type": "execute_result"
    }
   ],
   "source": [
    "# Train\n",
    "trainer.train()"
   ]
  },
  {
   "cell_type": "code",
   "execution_count": 10,
   "id": "818faec8",
   "metadata": {},
   "outputs": [
    {
     "data": {
      "text/html": [],
      "text/plain": [
       "<IPython.core.display.HTML object>"
      ]
     },
     "metadata": {},
     "output_type": "display_data"
    },
    {
     "name": "stdout",
     "output_type": "stream",
     "text": [
      "\n",
      "=== Classification Report ===\n",
      "              precision    recall  f1-score   support\n",
      "\n",
      "           C       0.88      0.88      0.88      3388\n",
      "           G       0.89      0.89      0.89      5736\n",
      "         W/Q       0.91      0.92      0.92      9830\n",
      "         OTH       0.75      0.73      0.74      2753\n",
      "\n",
      "    accuracy                           0.88     21707\n",
      "   macro avg       0.86      0.85      0.86     21707\n",
      "weighted avg       0.88      0.88      0.88     21707\n",
      "\n",
      "\n",
      "Confusion Matrix:\n",
      " [[2969   56  196  167]\n",
      " [  63 5121  355  197]\n",
      " [ 185  292 9055  298]\n",
      " [ 140  258  351 2004]]\n"
     ]
    },
    {
     "data": {
      "image/png": "[encoded data removed]",
      "text/plain": [
       "<Figure size 640x480 with 2 Axes>"
      ]
     },
     "metadata": {},
     "output_type": "display_data"
    }
   ],
   "source": [
    "# Evaluation\n",
    "# Run predictions\n",
    "preds = trainer.predict(val_ds)\n",
    "y_true = preds.label_ids\n",
    "y_pred = np.argmax(preds.predictions, axis=1)\n",
    "\n",
    "# Classification Report\n",
    "print(\"\\n=== Classification Report ===\")\n",
    "print(classification_report(\n",
    "    y_true,\n",
    "    y_pred,\n",
    "    labels=list(range(len(VALID_LABELS))),\n",
    "    target_names=VALID_LABELS,\n",
    "    zero_division=0\n",
    "))\n",
    "\n",
    "# Confusion Matrix\n",
    "cm = confusion_matrix(y_true, y_pred, labels=list(range(len(VALID_LABELS))))\n",
    "print(\"\\nConfusion Matrix:\\n\", cm)\n",
    "\n",
    "# Plot as heatmap\n",
    "disp = ConfusionMatrixDisplay(confusion_matrix=cm, display_labels=VALID_LABELS)\n",
    "disp.plot(cmap=plt.cm.Blues, xticks_rotation=45)\n",
    "plt.title(\"Confusion Matrix\")\n",
    "plt.tight_layout()\n",
    "plt.show()"
   ]
  },
  {
   "cell_type": "code",
   "execution_count": 11,
   "id": "c872d286",
   "metadata": {},
   "outputs": [
    {
     "data": {
      "image/png": "[encoded data removed]",
      "text/plain": [
       "<Figure size 700x600 with 1 Axes>"
      ]
     },
     "metadata": {},
     "output_type": "display_data"
    }
   ],
   "source": [
    "# ROC curves\n",
    "logits = preds.predictions\n",
    "probs = softmax(torch.tensor(logits), dim=-1).numpy()\n",
    "y_true_bin = np.zeros((len(y_true), len(VALID_LABELS)), dtype=int)\n",
    "for i, lbl in enumerate(y_true):\n",
    "    y_true_bin[i, lbl] = 1\n",
    "\n",
    "fpr, tpr, roc_auc = {}, {}, {}\n",
    "for i in range(len(VALID_LABELS)):\n",
    "    fpr[i], tpr[i], _ = roc_curve(y_true_bin[:, i], probs[:, i])\n",
    "    roc_auc[i] = auc(fpr[i], tpr[i])\n",
    "\n",
    "fpr[\"micro\"], tpr[\"micro\"], _ = roc_curve(y_true_bin.ravel(), probs.ravel())\n",
    "roc_auc[\"micro\"] = auc(fpr[\"micro\"], tpr[\"micro\"])\n",
    "\n",
    "all_fpr = np.unique(np.concatenate([fpr[i] for i in range(len(VALID_LABELS))]))\n",
    "mean_tpr = np.zeros_like(all_fpr)\n",
    "for i in range(len(VALID_LABELS)):\n",
    "    mean_tpr += np.interp(all_fpr, fpr[i], tpr[i])\n",
    "mean_tpr /= len(VALID_LABELS)\n",
    "fpr[\"macro\"], tpr[\"macro\"] = all_fpr, mean_tpr\n",
    "roc_auc[\"macro\"] = auc(fpr[\"macro\"], tpr[\"macro\"])\n",
    "\n",
    "plt.figure(figsize=(7, 6))\n",
    "plt.plot(fpr[\"micro\"], tpr[\"micro\"], label=f\"micro-average (AUC={roc_auc['micro']:.3f})\")\n",
    "plt.plot(fpr[\"macro\"], tpr[\"macro\"], label=f\"macro-average (AUC={roc_auc['macro']:.3f})\")\n",
    "for i in range(len(VALID_LABELS)):\n",
    "    plt.plot(fpr[i], tpr[i], label=f\"{VALID_LABELS[i]} (AUC={roc_auc[i]:.3f})\")\n",
    "plt.plot([0, 1], [0, 1], linestyle=\"--\")\n",
    "plt.xlabel(\"False Positive Rate\")\n",
    "plt.ylabel(\"True Positive Rate\")\n",
    "plt.title(\"ROC Curves\")\n",
    "plt.legend(loc=\"lower right\", fontsize=8)\n",
    "plt.tight_layout()\n",
    "plt.show()"
   ]
  },
  {
   "cell_type": "code",
   "execution_count": 12,
   "id": "58ba3625",
   "metadata": {},
   "outputs": [
    {
     "data": {
      "text/plain": [
       "('3_model/deepseek_qwen1p5b_qlora_cls\\\\tokenizer_config.json',\n",
       " '3_model/deepseek_qwen1p5b_qlora_cls\\\\special_tokens_map.json',\n",
       " '3_model/deepseek_qwen1p5b_qlora_cls\\\\chat_template.jinja',\n",
       " '3_model/deepseek_qwen1p5b_qlora_cls\\\\tokenizer.json')"
      ]
     },
     "execution_count": 12,
     "metadata": {},
     "output_type": "execute_result"
    }
   ],
   "source": [
    "# Save model\n",
    "trainer.save_model(OUTPUT_DIR)\n",
    "tokenizer.save_pretrained(OUTPUT_DIR)"
   ]
  },
  {
   "cell_type": "code",
   "execution_count": 8,
   "id": "30e5ca01",
   "metadata": {},
   "outputs": [],
   "source": [
    "# ---------- 1) Find debate/filename column & sample 40 debates ----------\n",
    "filename_col = None\n",
    "for cand in [\"filename\", \"file_name\", \"debate_id\", \"doc\", \"source\", \"file\", \"topic_id\"]:\n",
    "    if cand in df.columns:\n",
    "        filename_col = cand\n",
    "        break\n",
    "if filename_col is None:\n",
    "    raise ValueError(\"No debate identifier column found. Add one of: \"\n",
    "                     \"['filename','file_name','debate_id','doc','source','file','topic_id']\")\n",
    "\n",
    "unique_files = df[filename_col].dropna().unique().tolist()\n",
    "rng = np.random.default_rng(42)\n",
    "sampled_files = rng.choice(unique_files, size=min(100, len(unique_files)), replace=False).tolist()\n",
    "df_sample = df[df[filename_col].isin(sampled_files)].copy()"
   ]
  },
  {
   "cell_type": "code",
   "execution_count": 9,
   "id": "f21ca60f",
   "metadata": {},
   "outputs": [
    {
     "name": "stdout",
     "output_type": "stream",
     "text": [
      "\n",
      "=== SAMPLING SUMMARY ===\n",
      "Identifier column: filename\n",
      "Unique debates total: 3738\n",
      "Sampled debates: 100\n",
      "Sampled rows: 2931\n",
      "Sample label counts: Counter({2: 1251, 1: 870, 0: 458, 3: 352})\n",
      "Sampled file examples: ['YBA_661_mandatory-retirement_con_DJ_explicit.trs.txt', 'WS_3196_immigration-us_pro.trs.txt', 'SSH_3301_freedom-of-speech_con_DJ_implicit.trs.txt', 'RG_2143_ban-abortions_pro.trs.txt', 'JL_985_free-market_con_TL_implicit.trs.txt']\n"
     ]
    }
   ],
   "source": [
    "print(\"\\n=== SAMPLING SUMMARY ===\")\n",
    "print(f\"Identifier column: {filename_col}\")\n",
    "print(f\"Unique debates total: {len(unique_files)}\")\n",
    "print(f\"Sampled debates: {len(sampled_files)}\")\n",
    "print(f\"Sampled rows: {len(df_sample)}\")\n",
    "print(\"Sample label counts:\", Counter(df_sample[\"label\"]))\n",
    "print(\"Sampled file examples:\", sampled_files[:5])"
   ]
  },
  {
   "cell_type": "code",
   "execution_count": 10,
   "id": "72a2461e",
   "metadata": {},
   "outputs": [],
   "source": [
    "# ---------- 2) Split sampled subset & show shapes ----------\n",
    "train_s, val_s = train_test_split(\n",
    "    df_sample[[TEXT_COL, \"label\"]].copy(),\n",
    "    test_size=0.2,\n",
    "    stratify=df_sample[\"label\"],\n",
    "    random_state=42\n",
    ")"
   ]
  },
  {
   "cell_type": "code",
   "execution_count": 11,
   "id": "fcab794a",
   "metadata": {},
   "outputs": [
    {
     "name": "stdout",
     "output_type": "stream",
     "text": [
      "\n",
      "=== SAMPLED SPLIT SHAPES ===\n",
      "train: 2344 | val: 587\n",
      "Train balance: Counter({2: 1000, 1: 696, 0: 366, 3: 282})\n",
      "Val balance: Counter({2: 251, 1: 174, 0: 92, 3: 70})\n"
     ]
    }
   ],
   "source": [
    "print(\"\\n=== SAMPLED SPLIT SHAPES ===\")\n",
    "print(f\"train: {len(train_s)} | val: {len(val_s)}\")\n",
    "print(\"Train balance:\", Counter(train_s[\"label\"]))\n",
    "print(\"Val balance:\", Counter(val_s[\"label\"]))"
   ]
  },
  {
   "cell_type": "code",
   "execution_count": 12,
   "id": "cf2e2f43",
   "metadata": {},
   "outputs": [],
   "source": [
    "def make_hf_ds(train_df_in, val_df_in, max_length=256):\n",
    "    def tok_fn(batch):\n",
    "        return tokenizer(\n",
    "            batch[TEXT_COL],\n",
    "            truncation=True,\n",
    "            max_length=max_length,\n",
    "        )\n",
    "    tr_ds = Dataset.from_pandas(train_df_in.reset_index(drop=True)).map(\n",
    "        tok_fn, batched=True, remove_columns=[TEXT_COL]\n",
    "    )\n",
    "    va_ds = Dataset.from_pandas(val_df_in.reset_index(drop=True)).map(\n",
    "        tok_fn, batched=True, remove_columns=[TEXT_COL]\n",
    "    )\n",
    "    return tr_ds, va_ds"
   ]
  },
  {
   "cell_type": "code",
   "execution_count": 13,
   "id": "9abbc8d3",
   "metadata": {},
   "outputs": [],
   "source": [
    "# For memory hygiene between trials\n",
    "def free_mem(obj_list):\n",
    "    for o in obj_list:\n",
    "        try:\n",
    "            del o\n",
    "        except:\n",
    "            pass\n",
    "    gc.collect()\n",
    "    if torch.cuda.is_available():\n",
    "        torch.cuda.empty_cache()"
   ]
  },
  {
   "cell_type": "code",
   "execution_count": 14,
   "id": "b3a71cc4",
   "metadata": {},
   "outputs": [],
   "source": [
    "# ---------- 3) Optuna objective (QLoRA) on sampled subset ----------\n",
    "def objective(trial):\n",
    "    # Search space\n",
    "    lr            = trial.suggest_float(\"learning_rate\", 5e-6, 5e-4, log=True)\n",
    "    weight_decay  = trial.suggest_float(\"weight_decay\", 0.0, 0.1)\n",
    "    warmup_ratio  = trial.suggest_float(\"warmup_ratio\", 0.0, 0.15)\n",
    "    batch_size    = trial.suggest_categorical(\"per_device_train_batch_size\", [4, 8])\n",
    "    grad_accum    = trial.suggest_categorical(\"gradient_accumulation_steps\", [1, 2, 4])\n",
    "    max_length    = trial.suggest_categorical(\"max_length\", [128, 192, 256, 320])\n",
    "    num_epochs    = trial.suggest_categorical(\"num_train_epochs\", [1, 2])  # short, fast\n",
    "\n",
    "    # LoRA params\n",
    "    lora_r        = trial.suggest_categorical(\"lora_r\", [4, 8, 16])\n",
    "    lora_alpha    = trial.suggest_categorical(\"lora_alpha\", [8, 16, 32])\n",
    "    lora_dropout  = trial.suggest_float(\"lora_dropout\", 0.0, 0.1)\n",
    "\n",
    "    tr_ds, va_ds = make_hf_ds(train_s, val_s, max_length=max_length)\n",
    "\n",
    "    # Build fresh QLoRA model\n",
    "    bf16_ok = torch.cuda.is_available() and torch.cuda.get_device_capability(0)[0] >= 8\n",
    "    bnb_config_trial = BitsAndBytesConfig(\n",
    "        load_in_4bit=True,\n",
    "        bnb_4bit_compute_dtype=torch.bfloat16 if bf16_ok else torch.float16,\n",
    "        bnb_4bit_use_double_quant=True,\n",
    "        bnb_4bit_quant_type=\"nf4\",\n",
    "    )\n",
    "    off_dir = os.path.join(OUTPUT_DIR, f\"offload_trial_{trial.number}\")\n",
    "    os.makedirs(off_dir, exist_ok=True)\n",
    "\n",
    "    base = AutoModelForSequenceClassification.from_pretrained(\n",
    "        MODEL_CKPT,\n",
    "        num_labels=len(VALID_LABELS),\n",
    "        quantization_config=bnb_config_trial,\n",
    "        device_map=\"auto\",\n",
    "        trust_remote_code=True,\n",
    "        offload_folder=off_dir,\n",
    "    )\n",
    "    base.config.pad_token_id = tokenizer.pad_token_id\n",
    "    base = prepare_model_for_kbit_training(base)\n",
    "\n",
    "    lcfg = LoraConfig(\n",
    "        task_type=TaskType.SEQ_CLS,\n",
    "        r=lora_r,\n",
    "        lora_alpha=lora_alpha,\n",
    "        lora_dropout=lora_dropout,\n",
    "        bias=\"none\",\n",
    "        target_modules=[\n",
    "            \"q_proj\", \"k_proj\", \"v_proj\", \"o_proj\",\n",
    "            \"gate_proj\", \"up_proj\", \"down_proj\"\n",
    "        ],\n",
    "    )\n",
    "    model_hpo = get_peft_model(base, lcfg)\n",
    "\n",
    "    args = TrainingArguments(\n",
    "        output_dir=os.path.join(OUTPUT_DIR, f\"hpo_trial_{trial.number}\"),\n",
    "        overwrite_output_dir=True,\n",
    "        do_train=True,\n",
    "        do_eval=True,\n",
    "        eval_strategy=\"epoch\",\n",
    "        save_strategy=\"epoch\",\n",
    "        load_best_model_at_end=True,\n",
    "        metric_for_best_model=\"f1_macro\",\n",
    "        greater_is_better=True,\n",
    "\n",
    "        per_device_train_batch_size=batch_size,\n",
    "        per_device_eval_batch_size=min(batch_size, 16),\n",
    "        gradient_accumulation_steps=grad_accum,\n",
    "\n",
    "        learning_rate=lr,\n",
    "        weight_decay=weight_decay,\n",
    "        num_train_epochs=num_epochs,\n",
    "        warmup_ratio=warmup_ratio,\n",
    "\n",
    "        fp16=(not bf16_ok) and torch.cuda.is_available(),\n",
    "        bf16=bf16_ok,\n",
    "        logging_steps=50,\n",
    "        save_total_limit=1,\n",
    "        report_to=[],  # keep external loggers off\n",
    "    )\n",
    "\n",
    "    trainer_hpo = Trainer(\n",
    "        model=model_hpo,\n",
    "        args=args,\n",
    "        train_dataset=tr_ds,\n",
    "        eval_dataset=va_ds,\n",
    "        tokenizer=tokenizer,\n",
    "        data_collator=data_collator,\n",
    "        compute_metrics=compute_metrics,\n",
    "        callbacks=[EarlyStoppingCallback(early_stopping_patience=2)],\n",
    "    )\n",
    "\n",
    "    try:\n",
    "        trainer_hpo.train()\n",
    "        metrics = trainer_hpo.evaluate(va_ds)\n",
    "        score = metrics[\"eval_f1_macro\"]\n",
    "    except RuntimeError as e:\n",
    "        # Handle occasional OOMs by returning a poor score\n",
    "        print(f\"[Trial {trial.number}] RuntimeError: {e}\")\n",
    "        score = 0.0\n",
    "\n",
    "    # Cleanup\n",
    "    free_mem([trainer_hpo, model_hpo, base, tr_ds, va_ds])\n",
    "\n",
    "    return score"
   ]
  },
  {
   "cell_type": "code",
   "execution_count": 15,
   "id": "1fc7b23e",
   "metadata": {},
   "outputs": [
    {
     "name": "stderr",
     "output_type": "stream",
     "text": [
      "[I 2025-09-15 15:45:50,035] A new study created in memory with name: no-name-ad0c2e47-59ec-4235-b5a5-68d067404bfb\n",
      "Map: 100%|██████████| 2344/2344 [00:00<00:00, 47338.27 examples/s]\n",
      "Map: 100%|██████████| 587/587 [00:00<00:00, 29998.37 examples/s]\n",
      "Some weights of Qwen2ForSequenceClassification were not initialized from the model checkpoint at deepseek-ai/DeepSeek-R1-Distill-Qwen-1.5B and are newly initialized: ['score.weight']\n",
      "You should probably TRAIN this model on a down-stream task to be able to use it for predictions and inference.\n",
      "Trainer.tokenizer is now deprecated. You should use Trainer.processing_class instead.\n",
      "The tokenizer has new PAD/BOS/EOS tokens that differ from the model config and generation config. The model config and generation config were aligned accordingly, being updated with the tokenizer's values. Updated tokens: {'bos_token_id': 151646}.\n",
      "`use_cache=True` is incompatible with gradient checkpointing. Setting `use_cache=False`.\n"
     ]
    },
    {
     "data": {
      "text/html": [
       "\n",
       "    <div>\n",
       "      \n",
       "      <progress value='294' max='294' style='width:300px; height:20px; vertical-align: middle;'></progress>\n",
       "      [294/294 17:05, Epoch 2/2]\n",
       "    </div>\n",
       "    <table border=\"1\" class=\"dataframe\">\n",
       "  <thead>\n",
       " <tr style=\"text-align: left;\">\n",
       "      <th>Epoch</th>\n",
       "      <th>Training Loss</th>\n",
       "      <th>Validation Loss</th>\n",
       "      <th>Accuracy</th>\n",
       "      <th>F1 Macro</th>\n",
       "    </tr>\n",
       "  </thead>\n",
       "  <tbody>\n",
       "    <tr>\n",
       "      <td>1</td>\n",
       "      <td>3.914500</td>\n",
       "      <td>0.753957</td>\n",
       "      <td>0.695060</td>\n",
       "      <td>0.649366</td>\n",
       "    </tr>\n",
       "    <tr>\n",
       "      <td>2</td>\n",
       "      <td>1.623800</td>\n",
       "      <td>0.696837</td>\n",
       "      <td>0.729131</td>\n",
       "      <td>0.699573</td>\n",
       "    </tr>\n",
       "  </tbody>\n",
       "</table><p>"
      ],
      "text/plain": [
       "<IPython.core.display.HTML object>"
      ]
     },
     "metadata": {},
     "output_type": "display_data"
    },
    {
     "data": {
      "text/html": [
       "\n",
       "    <div>\n",
       "      \n",
       "      <progress value='147' max='147' style='width:300px; height:20px; vertical-align: middle;'></progress>\n",
       "      [147/147 00:54]\n",
       "    </div>\n",
       "    "
      ],
      "text/plain": [
       "<IPython.core.display.HTML object>"
      ]
     },
     "metadata": {},
     "output_type": "display_data"
    },
    {
     "name": "stderr",
     "output_type": "stream",
     "text": [
      "[I 2025-09-15 16:03:58,712] Trial 0 finished with value: 0.6995732201013574 and parameters: {'learning_rate': 0.000369300142326796, 'weight_decay': 0.04987460505955452, 'warmup_ratio': 0.09884061491307483, 'per_device_train_batch_size': 4, 'gradient_accumulation_steps': 4, 'max_length': 256, 'num_train_epochs': 2, 'lora_r': 16, 'lora_alpha': 8, 'lora_dropout': 0.06519842630271083}. Best is trial 0 with value: 0.6995732201013574.\n",
      "Map: 100%|██████████| 2344/2344 [00:00<00:00, 10840.72 examples/s]\n",
      "Map: 100%|██████████| 587/587 [00:00<00:00, 10373.41 examples/s]\n",
      "Some weights of Qwen2ForSequenceClassification were not initialized from the model checkpoint at deepseek-ai/DeepSeek-R1-Distill-Qwen-1.5B and are newly initialized: ['score.weight']\n",
      "You should probably TRAIN this model on a down-stream task to be able to use it for predictions and inference.\n",
      "Trainer.tokenizer is now deprecated. You should use Trainer.processing_class instead.\n",
      "The tokenizer has new PAD/BOS/EOS tokens that differ from the model config and generation config. The model config and generation config were aligned accordingly, being updated with the tokenizer's values. Updated tokens: {'bos_token_id': 151646}.\n"
     ]
    },
    {
     "data": {
      "text/html": [
       "\n",
       "    <div>\n",
       "      \n",
       "      <progress value='1172' max='1172' style='width:300px; height:20px; vertical-align: middle;'></progress>\n",
       "      [1172/1172 23:28, Epoch 2/2]\n",
       "    </div>\n",
       "    <table border=\"1\" class=\"dataframe\">\n",
       "  <thead>\n",
       " <tr style=\"text-align: left;\">\n",
       "      <th>Epoch</th>\n",
       "      <th>Training Loss</th>\n",
       "      <th>Validation Loss</th>\n",
       "      <th>Accuracy</th>\n",
       "      <th>F1 Macro</th>\n",
       "    </tr>\n",
       "  </thead>\n",
       "  <tbody>\n",
       "    <tr>\n",
       "      <td>1</td>\n",
       "      <td>0.756000</td>\n",
       "      <td>0.977158</td>\n",
       "      <td>0.744463</td>\n",
       "      <td>0.703166</td>\n",
       "    </tr>\n",
       "    <tr>\n",
       "      <td>2</td>\n",
       "      <td>0.220900</td>\n",
       "      <td>0.870907</td>\n",
       "      <td>0.805792</td>\n",
       "      <td>0.760266</td>\n",
       "    </tr>\n",
       "  </tbody>\n",
       "</table><p>"
      ],
      "text/plain": [
       "<IPython.core.display.HTML object>"
      ]
     },
     "metadata": {},
     "output_type": "display_data"
    },
    {
     "data": {
      "text/html": [
       "\n",
       "    <div>\n",
       "      \n",
       "      <progress value='147' max='147' style='width:300px; height:20px; vertical-align: middle;'></progress>\n",
       "      [147/147 01:08]\n",
       "    </div>\n",
       "    "
      ],
      "text/plain": [
       "<IPython.core.display.HTML object>"
      ]
     },
     "metadata": {},
     "output_type": "display_data"
    },
    {
     "name": "stderr",
     "output_type": "stream",
     "text": [
      "[I 2025-09-15 16:28:46,675] Trial 1 finished with value: 0.7602662442849624 and parameters: {'learning_rate': 0.00029903900929883776, 'weight_decay': 0.04458935431893464, 'warmup_ratio': 0.10849535763714907, 'per_device_train_batch_size': 4, 'gradient_accumulation_steps': 1, 'max_length': 256, 'num_train_epochs': 2, 'lora_r': 16, 'lora_alpha': 32, 'lora_dropout': 0.08679485645656905}. Best is trial 1 with value: 0.7602662442849624.\n",
      "Map: 100%|██████████| 2344/2344 [00:00<00:00, 7449.42 examples/s]\n",
      "Map: 100%|██████████| 587/587 [00:00<00:00, 6760.16 examples/s]\n",
      "Some weights of Qwen2ForSequenceClassification were not initialized from the model checkpoint at deepseek-ai/DeepSeek-R1-Distill-Qwen-1.5B and are newly initialized: ['score.weight']\n",
      "You should probably TRAIN this model on a down-stream task to be able to use it for predictions and inference.\n",
      "Trainer.tokenizer is now deprecated. You should use Trainer.processing_class instead.\n",
      "The tokenizer has new PAD/BOS/EOS tokens that differ from the model config and generation config. The model config and generation config were aligned accordingly, being updated with the tokenizer's values. Updated tokens: {'bos_token_id': 151646}.\n"
     ]
    },
    {
     "data": {
      "text/html": [
       "\n",
       "    <div>\n",
       "      \n",
       "      <progress value='293' max='293' style='width:300px; height:20px; vertical-align: middle;'></progress>\n",
       "      [293/293 07:06, Epoch 1/1]\n",
       "    </div>\n",
       "    <table border=\"1\" class=\"dataframe\">\n",
       "  <thead>\n",
       " <tr style=\"text-align: left;\">\n",
       "      <th>Epoch</th>\n",
       "      <th>Training Loss</th>\n",
       "      <th>Validation Loss</th>\n",
       "      <th>Accuracy</th>\n",
       "      <th>F1 Macro</th>\n",
       "    </tr>\n",
       "  </thead>\n",
       "  <tbody>\n",
       "    <tr>\n",
       "      <td>1</td>\n",
       "      <td>0.779600</td>\n",
       "      <td>0.662372</td>\n",
       "      <td>0.729131</td>\n",
       "      <td>0.698348</td>\n",
       "    </tr>\n",
       "  </tbody>\n",
       "</table><p>"
      ],
      "text/plain": [
       "<IPython.core.display.HTML object>"
      ]
     },
     "metadata": {},
     "output_type": "display_data"
    },
    {
     "data": {
      "text/html": [
       "\n",
       "    <div>\n",
       "      \n",
       "      <progress value='74' max='74' style='width:300px; height:20px; vertical-align: middle;'></progress>\n",
       "      [74/74 00:22]\n",
       "    </div>\n",
       "    "
      ],
      "text/plain": [
       "<IPython.core.display.HTML object>"
      ]
     },
     "metadata": {},
     "output_type": "display_data"
    },
    {
     "name": "stderr",
     "output_type": "stream",
     "text": [
      "[I 2025-09-15 16:36:28,944] Trial 2 finished with value: 0.6983481708987062 and parameters: {'learning_rate': 0.0001404960120397559, 'weight_decay': 0.0167272530334162, 'warmup_ratio': 0.14825382873989004, 'per_device_train_batch_size': 8, 'gradient_accumulation_steps': 1, 'max_length': 128, 'num_train_epochs': 1, 'lora_r': 16, 'lora_alpha': 32, 'lora_dropout': 0.00016298289894476348}. Best is trial 1 with value: 0.7602662442849624.\n",
      "Map: 100%|██████████| 2344/2344 [00:00<00:00, 29450.73 examples/s]\n",
      "Map: 100%|██████████| 587/587 [00:00<00:00, 32604.41 examples/s]\n",
      "Some weights of Qwen2ForSequenceClassification were not initialized from the model checkpoint at deepseek-ai/DeepSeek-R1-Distill-Qwen-1.5B and are newly initialized: ['score.weight']\n",
      "You should probably TRAIN this model on a down-stream task to be able to use it for predictions and inference.\n",
      "Trainer.tokenizer is now deprecated. You should use Trainer.processing_class instead.\n",
      "The tokenizer has new PAD/BOS/EOS tokens that differ from the model config and generation config. The model config and generation config were aligned accordingly, being updated with the tokenizer's values. Updated tokens: {'bos_token_id': 151646}.\n"
     ]
    },
    {
     "data": {
      "text/html": [
       "\n",
       "    <div>\n",
       "      \n",
       "      <progress value='294' max='294' style='width:300px; height:20px; vertical-align: middle;'></progress>\n",
       "      [294/294 08:54, Epoch 2/2]\n",
       "    </div>\n",
       "    <table border=\"1\" class=\"dataframe\">\n",
       "  <thead>\n",
       " <tr style=\"text-align: left;\">\n",
       "      <th>Epoch</th>\n",
       "      <th>Training Loss</th>\n",
       "      <th>Validation Loss</th>\n",
       "      <th>Accuracy</th>\n",
       "      <th>F1 Macro</th>\n",
       "    </tr>\n",
       "  </thead>\n",
       "  <tbody>\n",
       "    <tr>\n",
       "      <td>1</td>\n",
       "      <td>2.549800</td>\n",
       "      <td>1.187607</td>\n",
       "      <td>0.480409</td>\n",
       "      <td>0.424046</td>\n",
       "    </tr>\n",
       "    <tr>\n",
       "      <td>2</td>\n",
       "      <td>2.084000</td>\n",
       "      <td>1.086036</td>\n",
       "      <td>0.538330</td>\n",
       "      <td>0.491075</td>\n",
       "    </tr>\n",
       "  </tbody>\n",
       "</table><p>"
      ],
      "text/plain": [
       "<IPython.core.display.HTML object>"
      ]
     },
     "metadata": {},
     "output_type": "display_data"
    },
    {
     "data": {
      "text/html": [
       "\n",
       "    <div>\n",
       "      \n",
       "      <progress value='74' max='74' style='width:300px; height:20px; vertical-align: middle;'></progress>\n",
       "      [74/74 00:21]\n",
       "    </div>\n",
       "    "
      ],
      "text/plain": [
       "<IPython.core.display.HTML object>"
      ]
     },
     "metadata": {},
     "output_type": "display_data"
    },
    {
     "name": "stderr",
     "output_type": "stream",
     "text": [
      "[I 2025-09-15 16:45:53,461] Trial 3 finished with value: 0.4910749757361415 and parameters: {'learning_rate': 3.021412115901514e-05, 'weight_decay': 0.010619045650753134, 'warmup_ratio': 0.036456466545646805, 'per_device_train_batch_size': 8, 'gradient_accumulation_steps': 2, 'max_length': 256, 'num_train_epochs': 2, 'lora_r': 16, 'lora_alpha': 16, 'lora_dropout': 0.059438709650110146}. Best is trial 1 with value: 0.7602662442849624.\n",
      "Map: 100%|██████████| 2344/2344 [00:00<00:00, 36900.96 examples/s]\n",
      "Map: 100%|██████████| 587/587 [00:00<00:00, 38538.28 examples/s]\n",
      "Some weights of Qwen2ForSequenceClassification were not initialized from the model checkpoint at deepseek-ai/DeepSeek-R1-Distill-Qwen-1.5B and are newly initialized: ['score.weight']\n",
      "You should probably TRAIN this model on a down-stream task to be able to use it for predictions and inference.\n",
      "Trainer.tokenizer is now deprecated. You should use Trainer.processing_class instead.\n",
      "The tokenizer has new PAD/BOS/EOS tokens that differ from the model config and generation config. The model config and generation config were aligned accordingly, being updated with the tokenizer's values. Updated tokens: {'bos_token_id': 151646}.\n"
     ]
    },
    {
     "data": {
      "text/html": [
       "\n",
       "    <div>\n",
       "      \n",
       "      <progress value='293' max='293' style='width:300px; height:20px; vertical-align: middle;'></progress>\n",
       "      [293/293 05:59, Epoch 1/1]\n",
       "    </div>\n",
       "    <table border=\"1\" class=\"dataframe\">\n",
       "  <thead>\n",
       " <tr style=\"text-align: left;\">\n",
       "      <th>Epoch</th>\n",
       "      <th>Training Loss</th>\n",
       "      <th>Validation Loss</th>\n",
       "      <th>Accuracy</th>\n",
       "      <th>F1 Macro</th>\n",
       "    </tr>\n",
       "  </thead>\n",
       "  <tbody>\n",
       "    <tr>\n",
       "      <td>1</td>\n",
       "      <td>2.572400</td>\n",
       "      <td>1.199193</td>\n",
       "      <td>0.471891</td>\n",
       "      <td>0.421399</td>\n",
       "    </tr>\n",
       "  </tbody>\n",
       "</table><p>"
      ],
      "text/plain": [
       "<IPython.core.display.HTML object>"
      ]
     },
     "metadata": {},
     "output_type": "display_data"
    },
    {
     "data": {
      "text/html": [
       "\n",
       "    <div>\n",
       "      \n",
       "      <progress value='147' max='147' style='width:300px; height:20px; vertical-align: middle;'></progress>\n",
       "      [147/147 00:29]\n",
       "    </div>\n",
       "    "
      ],
      "text/plain": [
       "<IPython.core.display.HTML object>"
      ]
     },
     "metadata": {},
     "output_type": "display_data"
    },
    {
     "name": "stderr",
     "output_type": "stream",
     "text": [
      "[I 2025-09-15 16:52:28,073] Trial 4 finished with value: 0.4213990781229151 and parameters: {'learning_rate': 2.6054722643041416e-05, 'weight_decay': 0.0991558224069729, 'warmup_ratio': 0.14422686206024765, 'per_device_train_batch_size': 4, 'gradient_accumulation_steps': 2, 'max_length': 128, 'num_train_epochs': 1, 'lora_r': 4, 'lora_alpha': 8, 'lora_dropout': 0.05580727552807311}. Best is trial 1 with value: 0.7602662442849624.\n",
      "Map: 100%|██████████| 2344/2344 [00:00<00:00, 35963.50 examples/s]\n",
      "Map: 100%|██████████| 587/587 [00:00<00:00, 23478.79 examples/s]\n",
      "Some weights of Qwen2ForSequenceClassification were not initialized from the model checkpoint at deepseek-ai/DeepSeek-R1-Distill-Qwen-1.5B and are newly initialized: ['score.weight']\n",
      "You should probably TRAIN this model on a down-stream task to be able to use it for predictions and inference.\n",
      "Trainer.tokenizer is now deprecated. You should use Trainer.processing_class instead.\n",
      "The tokenizer has new PAD/BOS/EOS tokens that differ from the model config and generation config. The model config and generation config were aligned accordingly, being updated with the tokenizer's values. Updated tokens: {'bos_token_id': 151646}.\n"
     ]
    },
    {
     "data": {
      "text/html": [
       "\n",
       "    <div>\n",
       "      \n",
       "      <progress value='1172' max='1172' style='width:300px; height:20px; vertical-align: middle;'></progress>\n",
       "      [1172/1172 20:58, Epoch 2/2]\n",
       "    </div>\n",
       "    <table border=\"1\" class=\"dataframe\">\n",
       "  <thead>\n",
       " <tr style=\"text-align: left;\">\n",
       "      <th>Epoch</th>\n",
       "      <th>Training Loss</th>\n",
       "      <th>Validation Loss</th>\n",
       "      <th>Accuracy</th>\n",
       "      <th>F1 Macro</th>\n",
       "    </tr>\n",
       "  </thead>\n",
       "  <tbody>\n",
       "    <tr>\n",
       "      <td>1</td>\n",
       "      <td>0.902300</td>\n",
       "      <td>0.825696</td>\n",
       "      <td>0.681431</td>\n",
       "      <td>0.660494</td>\n",
       "    </tr>\n",
       "    <tr>\n",
       "      <td>2</td>\n",
       "      <td>0.442200</td>\n",
       "      <td>0.884647</td>\n",
       "      <td>0.722317</td>\n",
       "      <td>0.684196</td>\n",
       "    </tr>\n",
       "  </tbody>\n",
       "</table><p>"
      ],
      "text/plain": [
       "<IPython.core.display.HTML object>"
      ]
     },
     "metadata": {},
     "output_type": "display_data"
    },
    {
     "data": {
      "text/html": [
       "\n",
       "    <div>\n",
       "      \n",
       "      <progress value='147' max='147' style='width:300px; height:20px; vertical-align: middle;'></progress>\n",
       "      [147/147 00:51]\n",
       "    </div>\n",
       "    "
      ],
      "text/plain": [
       "<IPython.core.display.HTML object>"
      ]
     },
     "metadata": {},
     "output_type": "display_data"
    },
    {
     "name": "stderr",
     "output_type": "stream",
     "text": [
      "[I 2025-09-15 17:14:23,950] Trial 5 finished with value: 0.6841962887490853 and parameters: {'learning_rate': 5.452399901571248e-05, 'weight_decay': 0.013470192283752925, 'warmup_ratio': 0.10129909389793358, 'per_device_train_batch_size': 4, 'gradient_accumulation_steps': 1, 'max_length': 256, 'num_train_epochs': 2, 'lora_r': 4, 'lora_alpha': 32, 'lora_dropout': 0.019958146036485915}. Best is trial 1 with value: 0.7602662442849624.\n",
      "Map: 100%|██████████| 2344/2344 [00:00<00:00, 10184.10 examples/s]\n",
      "Map: 100%|██████████| 587/587 [00:00<00:00, 9853.03 examples/s]\n",
      "Some weights of Qwen2ForSequenceClassification were not initialized from the model checkpoint at deepseek-ai/DeepSeek-R1-Distill-Qwen-1.5B and are newly initialized: ['score.weight']\n",
      "You should probably TRAIN this model on a down-stream task to be able to use it for predictions and inference.\n",
      "Trainer.tokenizer is now deprecated. You should use Trainer.processing_class instead.\n",
      "The tokenizer has new PAD/BOS/EOS tokens that differ from the model config and generation config. The model config and generation config were aligned accordingly, being updated with the tokenizer's values. Updated tokens: {'bos_token_id': 151646}.\n"
     ]
    },
    {
     "data": {
      "text/html": [
       "\n",
       "    <div>\n",
       "      \n",
       "      <progress value='586' max='586' style='width:300px; height:20px; vertical-align: middle;'></progress>\n",
       "      [586/586 08:18, Epoch 1/1]\n",
       "    </div>\n",
       "    <table border=\"1\" class=\"dataframe\">\n",
       "  <thead>\n",
       " <tr style=\"text-align: left;\">\n",
       "      <th>Epoch</th>\n",
       "      <th>Training Loss</th>\n",
       "      <th>Validation Loss</th>\n",
       "      <th>Accuracy</th>\n",
       "      <th>F1 Macro</th>\n",
       "    </tr>\n",
       "  </thead>\n",
       "  <tbody>\n",
       "    <tr>\n",
       "      <td>1</td>\n",
       "      <td>1.311500</td>\n",
       "      <td>1.191328</td>\n",
       "      <td>0.468484</td>\n",
       "      <td>0.417155</td>\n",
       "    </tr>\n",
       "  </tbody>\n",
       "</table><p>"
      ],
      "text/plain": [
       "<IPython.core.display.HTML object>"
      ]
     },
     "metadata": {},
     "output_type": "display_data"
    },
    {
     "data": {
      "text/html": [
       "\n",
       "    <div>\n",
       "      \n",
       "      <progress value='147' max='147' style='width:300px; height:20px; vertical-align: middle;'></progress>\n",
       "      [147/147 00:33]\n",
       "    </div>\n",
       "    "
      ],
      "text/plain": [
       "<IPython.core.display.HTML object>"
      ]
     },
     "metadata": {},
     "output_type": "display_data"
    },
    {
     "name": "stderr",
     "output_type": "stream",
     "text": [
      "[I 2025-09-15 17:23:27,373] Trial 6 finished with value: 0.41715463922958984 and parameters: {'learning_rate': 9.422531933554203e-06, 'weight_decay': 0.051914081195789136, 'warmup_ratio': 0.08433656461796456, 'per_device_train_batch_size': 4, 'gradient_accumulation_steps': 1, 'max_length': 256, 'num_train_epochs': 1, 'lora_r': 16, 'lora_alpha': 32, 'lora_dropout': 0.06840781348124646}. Best is trial 1 with value: 0.7602662442849624.\n",
      "Map: 100%|██████████| 2344/2344 [00:00<00:00, 21504.26 examples/s]\n",
      "Map: 100%|██████████| 587/587 [00:00<00:00, 16758.03 examples/s]\n",
      "Some weights of Qwen2ForSequenceClassification were not initialized from the model checkpoint at deepseek-ai/DeepSeek-R1-Distill-Qwen-1.5B and are newly initialized: ['score.weight']\n",
      "You should probably TRAIN this model on a down-stream task to be able to use it for predictions and inference.\n",
      "Trainer.tokenizer is now deprecated. You should use Trainer.processing_class instead.\n",
      "The tokenizer has new PAD/BOS/EOS tokens that differ from the model config and generation config. The model config and generation config were aligned accordingly, being updated with the tokenizer's values. Updated tokens: {'bos_token_id': 151646}.\n"
     ]
    },
    {
     "data": {
      "text/html": [
       "\n",
       "    <div>\n",
       "      \n",
       "      <progress value='147' max='147' style='width:300px; height:20px; vertical-align: middle;'></progress>\n",
       "      [147/147 07:55, Epoch 1/1]\n",
       "    </div>\n",
       "    <table border=\"1\" class=\"dataframe\">\n",
       "  <thead>\n",
       " <tr style=\"text-align: left;\">\n",
       "      <th>Epoch</th>\n",
       "      <th>Training Loss</th>\n",
       "      <th>Validation Loss</th>\n",
       "      <th>Accuracy</th>\n",
       "      <th>F1 Macro</th>\n",
       "    </tr>\n",
       "  </thead>\n",
       "  <tbody>\n",
       "    <tr>\n",
       "      <td>1</td>\n",
       "      <td>4.495400</td>\n",
       "      <td>1.073807</td>\n",
       "      <td>0.546848</td>\n",
       "      <td>0.517898</td>\n",
       "    </tr>\n",
       "  </tbody>\n",
       "</table><p>"
      ],
      "text/plain": [
       "<IPython.core.display.HTML object>"
      ]
     },
     "metadata": {},
     "output_type": "display_data"
    },
    {
     "data": {
      "text/html": [
       "\n",
       "    <div>\n",
       "      \n",
       "      <progress value='147' max='147' style='width:300px; height:20px; vertical-align: middle;'></progress>\n",
       "      [147/147 00:28]\n",
       "    </div>\n",
       "    "
      ],
      "text/plain": [
       "<IPython.core.display.HTML object>"
      ]
     },
     "metadata": {},
     "output_type": "display_data"
    },
    {
     "name": "stderr",
     "output_type": "stream",
     "text": [
      "[I 2025-09-15 17:32:02,551] Trial 7 finished with value: 0.5178976057864307 and parameters: {'learning_rate': 7.144018569908581e-05, 'weight_decay': 0.03951375201907297, 'warmup_ratio': 0.043917396920792585, 'per_device_train_batch_size': 4, 'gradient_accumulation_steps': 4, 'max_length': 192, 'num_train_epochs': 1, 'lora_r': 16, 'lora_alpha': 16, 'lora_dropout': 0.09882204568903563}. Best is trial 1 with value: 0.7602662442849624.\n",
      "Map: 100%|██████████| 2344/2344 [00:00<00:00, 33749.90 examples/s]\n",
      "Map: 100%|██████████| 587/587 [00:00<00:00, 25013.02 examples/s]\n",
      "Some weights of Qwen2ForSequenceClassification were not initialized from the model checkpoint at deepseek-ai/DeepSeek-R1-Distill-Qwen-1.5B and are newly initialized: ['score.weight']\n",
      "You should probably TRAIN this model on a down-stream task to be able to use it for predictions and inference.\n",
      "Trainer.tokenizer is now deprecated. You should use Trainer.processing_class instead.\n",
      "The tokenizer has new PAD/BOS/EOS tokens that differ from the model config and generation config. The model config and generation config were aligned accordingly, being updated with the tokenizer's values. Updated tokens: {'bos_token_id': 151646}.\n"
     ]
    },
    {
     "data": {
      "text/html": [
       "\n",
       "    <div>\n",
       "      \n",
       "      <progress value='293' max='293' style='width:300px; height:20px; vertical-align: middle;'></progress>\n",
       "      [293/293 09:14, Epoch 1/1]\n",
       "    </div>\n",
       "    <table border=\"1\" class=\"dataframe\">\n",
       "  <thead>\n",
       " <tr style=\"text-align: left;\">\n",
       "      <th>Epoch</th>\n",
       "      <th>Training Loss</th>\n",
       "      <th>Validation Loss</th>\n",
       "      <th>Accuracy</th>\n",
       "      <th>F1 Macro</th>\n",
       "    </tr>\n",
       "  </thead>\n",
       "  <tbody>\n",
       "    <tr>\n",
       "      <td>1</td>\n",
       "      <td>2.587700</td>\n",
       "      <td>1.265057</td>\n",
       "      <td>0.419080</td>\n",
       "      <td>0.352539</td>\n",
       "    </tr>\n",
       "  </tbody>\n",
       "</table><p>"
      ],
      "text/plain": [
       "<IPython.core.display.HTML object>"
      ]
     },
     "metadata": {},
     "output_type": "display_data"
    },
    {
     "data": {
      "text/html": [
       "\n",
       "    <div>\n",
       "      \n",
       "      <progress value='147' max='147' style='width:300px; height:20px; vertical-align: middle;'></progress>\n",
       "      [147/147 01:08]\n",
       "    </div>\n",
       "    "
      ],
      "text/plain": [
       "<IPython.core.display.HTML object>"
      ]
     },
     "metadata": {},
     "output_type": "display_data"
    },
    {
     "name": "stderr",
     "output_type": "stream",
     "text": [
      "[I 2025-09-15 17:42:32,991] Trial 8 finished with value: 0.35253913271510107 and parameters: {'learning_rate': 1.884515013407498e-05, 'weight_decay': 0.06101264159582823, 'warmup_ratio': 0.14369175148089675, 'per_device_train_batch_size': 4, 'gradient_accumulation_steps': 2, 'max_length': 256, 'num_train_epochs': 1, 'lora_r': 8, 'lora_alpha': 16, 'lora_dropout': 0.0329328563898069}. Best is trial 1 with value: 0.7602662442849624.\n",
      "Map: 100%|██████████| 2344/2344 [00:00<00:00, 8419.87 examples/s]\n",
      "Map: 100%|██████████| 587/587 [00:00<00:00, 6418.04 examples/s]\n",
      "Some weights of Qwen2ForSequenceClassification were not initialized from the model checkpoint at deepseek-ai/DeepSeek-R1-Distill-Qwen-1.5B and are newly initialized: ['score.weight']\n",
      "You should probably TRAIN this model on a down-stream task to be able to use it for predictions and inference.\n",
      "Trainer.tokenizer is now deprecated. You should use Trainer.processing_class instead.\n",
      "The tokenizer has new PAD/BOS/EOS tokens that differ from the model config and generation config. The model config and generation config were aligned accordingly, being updated with the tokenizer's values. Updated tokens: {'bos_token_id': 151646}.\n"
     ]
    },
    {
     "data": {
      "text/html": [
       "\n",
       "    <div>\n",
       "      \n",
       "      <progress value='148' max='148' style='width:300px; height:20px; vertical-align: middle;'></progress>\n",
       "      [148/148 12:09, Epoch 2/2]\n",
       "    </div>\n",
       "    <table border=\"1\" class=\"dataframe\">\n",
       "  <thead>\n",
       " <tr style=\"text-align: left;\">\n",
       "      <th>Epoch</th>\n",
       "      <th>Training Loss</th>\n",
       "      <th>Validation Loss</th>\n",
       "      <th>Accuracy</th>\n",
       "      <th>F1 Macro</th>\n",
       "    </tr>\n",
       "  </thead>\n",
       "  <tbody>\n",
       "    <tr>\n",
       "      <td>1</td>\n",
       "      <td>8.494900</td>\n",
       "      <td>1.414586</td>\n",
       "      <td>0.361158</td>\n",
       "      <td>0.284017</td>\n",
       "    </tr>\n",
       "    <tr>\n",
       "      <td>2</td>\n",
       "      <td>5.453500</td>\n",
       "      <td>1.333498</td>\n",
       "      <td>0.403748</td>\n",
       "      <td>0.320296</td>\n",
       "    </tr>\n",
       "  </tbody>\n",
       "</table><p>"
      ],
      "text/plain": [
       "<IPython.core.display.HTML object>"
      ]
     },
     "metadata": {},
     "output_type": "display_data"
    },
    {
     "data": {
      "text/html": [
       "\n",
       "    <div>\n",
       "      \n",
       "      <progress value='74' max='74' style='width:300px; height:20px; vertical-align: middle;'></progress>\n",
       "      [74/74 00:20]\n",
       "    </div>\n",
       "    "
      ],
      "text/plain": [
       "<IPython.core.display.HTML object>"
      ]
     },
     "metadata": {},
     "output_type": "display_data"
    },
    {
     "name": "stderr",
     "output_type": "stream",
     "text": [
      "[I 2025-09-15 17:55:22,249] Trial 9 finished with value: 0.32029580665442586 and parameters: {'learning_rate': 2.558442486638553e-05, 'weight_decay': 0.033171249106276744, 'warmup_ratio': 0.11785696986814453, 'per_device_train_batch_size': 8, 'gradient_accumulation_steps': 4, 'max_length': 320, 'num_train_epochs': 2, 'lora_r': 4, 'lora_alpha': 8, 'lora_dropout': 0.018319959979593226}. Best is trial 1 with value: 0.7602662442849624.\n"
     ]
    }
   ],
   "source": [
    "study = optuna.create_study(direction=\"maximize\")\n",
    "study.optimize(objective, n_trials=10, show_progress_bar=False)"
   ]
  },
  {
   "cell_type": "code",
   "execution_count": 16,
   "id": "16fd73a7",
   "metadata": {},
   "outputs": [
    {
     "name": "stdout",
     "output_type": "stream",
     "text": [
      "\n",
      "=== HPO BEST TRIAL ===\n",
      "Best f1_macro: 0.7602662442849624\n",
      "Best params: {'learning_rate': 0.00029903900929883776, 'weight_decay': 0.04458935431893464, 'warmup_ratio': 0.10849535763714907, 'per_device_train_batch_size': 4, 'gradient_accumulation_steps': 1, 'max_length': 256, 'num_train_epochs': 2, 'lora_r': 16, 'lora_alpha': 32, 'lora_dropout': 0.08679485645656905}\n"
     ]
    }
   ],
   "source": [
    "print(\"\\n=== HPO BEST TRIAL ===\")\n",
    "print(\"Best f1_macro:\", study.best_value)\n",
    "print(\"Best params:\", study.best_params)"
   ]
  },
  {
   "cell_type": "code",
   "execution_count": 17,
   "id": "99578262",
   "metadata": {},
   "outputs": [],
   "source": [
    "best = study.best_params.copy()\n",
    "best_max_len = best.pop(\"max_length\", 256)\n",
    "_ = best.pop(\"num_train_epochs\", None)"
   ]
  },
  {
   "cell_type": "code",
   "execution_count": 18,
   "id": "ad8489ae",
   "metadata": {},
   "outputs": [],
   "source": [
    "# ---------- 4) Final training on FULL dataset with best params ----------\n",
    "train_full, val_full = train_test_split(\n",
    "    df[[TEXT_COL, \"label\"]].copy(),\n",
    "    test_size=0.2,\n",
    "    stratify=df[\"label\"],\n",
    "    random_state=42\n",
    ")"
   ]
  },
  {
   "cell_type": "code",
   "execution_count": 19,
   "id": "02c53f04",
   "metadata": {},
   "outputs": [
    {
     "name": "stdout",
     "output_type": "stream",
     "text": [
      "\n",
      "=== FULL SPLIT SHAPES ===\n",
      "train: 86825 | val: 21707\n",
      "Train balance: Counter({2: 39319, 1: 22944, 0: 13552, 3: 11010})\n",
      "Val balance: Counter({2: 9830, 1: 5736, 0: 3388, 3: 2753})\n"
     ]
    }
   ],
   "source": [
    "print(\"\\n=== FULL SPLIT SHAPES ===\")\n",
    "print(f\"train: {len(train_full)} | val: {len(val_full)}\")\n",
    "print(\"Train balance:\", Counter(train_full[\"label\"]))\n",
    "print(\"Val balance:\", Counter(val_full[\"label\"]))"
   ]
  },
  {
   "cell_type": "code",
   "execution_count": 20,
   "id": "03ea246f",
   "metadata": {},
   "outputs": [
    {
     "name": "stderr",
     "output_type": "stream",
     "text": [
      "Map: 100%|██████████| 86825/86825 [00:03<00:00, 23457.03 examples/s]\n",
      "Map: 100%|██████████| 21707/21707 [00:01<00:00, 20547.45 examples/s]\n"
     ]
    }
   ],
   "source": [
    "train_ds_full, val_ds_full = make_hf_ds(train_full, val_full, max_length=best_max_len)"
   ]
  },
  {
   "cell_type": "code",
   "execution_count": 21,
   "id": "96e60c10",
   "metadata": {},
   "outputs": [],
   "source": [
    "# Fresh model w/ best LoRA hyperparams\n",
    "bf16_ok = torch.cuda.is_available() and torch.cuda.get_device_capability(0)[0] >= 8\n",
    "bnb_config_final = BitsAndBytesConfig(\n",
    "    load_in_4bit=True,\n",
    "    bnb_4bit_compute_dtype=torch.bfloat16 if bf16_ok else torch.float16,\n",
    "    bnb_4bit_use_double_quant=True,\n",
    "    bnb_4bit_quant_type=\"nf4\",\n",
    ")\n",
    "OFFLOAD_DIR_FINAL = os.path.join(OUTPUT_DIR, \"offload_final\")\n",
    "os.makedirs(OFFLOAD_DIR_FINAL, exist_ok=True)"
   ]
  },
  {
   "cell_type": "code",
   "execution_count": 22,
   "id": "f71128d7",
   "metadata": {},
   "outputs": [
    {
     "name": "stderr",
     "output_type": "stream",
     "text": [
      "Some weights of Qwen2ForSequenceClassification were not initialized from the model checkpoint at deepseek-ai/DeepSeek-R1-Distill-Qwen-1.5B and are newly initialized: ['score.weight']\n",
      "You should probably TRAIN this model on a down-stream task to be able to use it for predictions and inference.\n"
     ]
    }
   ],
   "source": [
    "base_final = AutoModelForSequenceClassification.from_pretrained(\n",
    "    MODEL_CKPT,\n",
    "    num_labels=len(VALID_LABELS),\n",
    "    quantization_config=bnb_config_final,\n",
    "    device_map=\"auto\",\n",
    "    trust_remote_code=True,\n",
    "    offload_folder=OFFLOAD_DIR_FINAL,\n",
    ")\n",
    "base_final.config.pad_token_id = tokenizer.pad_token_id\n",
    "base_final = prepare_model_for_kbit_training(base_final)"
   ]
  },
  {
   "cell_type": "code",
   "execution_count": 23,
   "id": "2476babe",
   "metadata": {},
   "outputs": [
    {
     "name": "stdout",
     "output_type": "stream",
     "text": [
      "trainable params: 18,470,912 || all params: 1,562,191,360 || trainable%: 1.1824\n"
     ]
    }
   ],
   "source": [
    "lcfg_final = LoraConfig(\n",
    "    task_type=TaskType.SEQ_CLS,\n",
    "    r=best.get(\"lora_r\", 8),\n",
    "    lora_alpha=best.get(\"lora_alpha\", 16),\n",
    "    lora_dropout=best.get(\"lora_dropout\", 0.05),\n",
    "    bias=\"none\",\n",
    "    target_modules=[\n",
    "        \"q_proj\", \"k_proj\", \"v_proj\", \"o_proj\",\n",
    "        \"gate_proj\", \"up_proj\", \"down_proj\"\n",
    "    ],\n",
    ")\n",
    "model_final = get_peft_model(base_final, lcfg_final)\n",
    "model_final.print_trainable_parameters()"
   ]
  },
  {
   "cell_type": "code",
   "execution_count": 24,
   "id": "558783b7",
   "metadata": {},
   "outputs": [],
   "source": [
    "final_epochs = 3\n",
    "\n",
    "final_args = TrainingArguments(\n",
    "    output_dir=os.path.join(OUTPUT_DIR, \"final_best\"),\n",
    "    overwrite_output_dir=True,\n",
    "    do_train=True,\n",
    "    do_eval=True,\n",
    "    eval_strategy=\"epoch\",\n",
    "    save_strategy=\"epoch\",\n",
    "    load_best_model_at_end=True,\n",
    "    metric_for_best_model=\"f1_macro\",\n",
    "    greater_is_better=True,\n",
    "\n",
    "    per_device_train_batch_size=best.get(\"per_device_train_batch_size\", 8),\n",
    "    per_device_eval_batch_size=min(best.get(\"per_device_train_batch_size\", 8), 16),\n",
    "    gradient_accumulation_steps=best.get(\"gradient_accumulation_steps\", 2),\n",
    "\n",
    "    learning_rate=best.get(\"learning_rate\", 2e-5),\n",
    "    weight_decay=best.get(\"weight_decay\", 0.05),\n",
    "    warmup_ratio=best.get(\"warmup_ratio\", 0.0),\n",
    "\n",
    "    num_train_epochs=final_epochs,\n",
    "    fp16=(not bf16_ok) and torch.cuda.is_available(),\n",
    "    bf16=bf16_ok,\n",
    "\n",
    "    logging_dir=os.path.join(OUTPUT_DIR, \"final_best\", \"logs\"),\n",
    "    logging_steps=100,\n",
    "    save_total_limit=2,\n",
    "    report_to=[],\n",
    ")"
   ]
  },
  {
   "cell_type": "code",
   "execution_count": 25,
   "id": "5cea7491",
   "metadata": {},
   "outputs": [],
   "source": [
    "trainer_final = Trainer(\n",
    "    model=model_final,\n",
    "    args=final_args,\n",
    "    train_dataset=train_ds_full,\n",
    "    eval_dataset=val_ds_full,\n",
    "    tokenizer=tokenizer,\n",
    "    data_collator=data_collator,\n",
    "    compute_metrics=compute_metrics,\n",
    "    callbacks=[EarlyStoppingCallback(early_stopping_patience=2)],\n",
    ")"
   ]
  },
  {
   "cell_type": "code",
   "execution_count": 26,
   "id": "e6dd4722",
   "metadata": {},
   "outputs": [
    {
     "name": "stderr",
     "output_type": "stream",
     "text": [
      "Trainer.tokenizer is now deprecated. You should use Trainer.processing_class instead.\n",
      "The tokenizer has new PAD/BOS/EOS tokens that differ from the model config and generation config. The model config and generation config were aligned accordingly, being updated with the tokenizer's values. Updated tokens: {'bos_token_id': 151646}.\n"
     ]
    },
    {
     "data": {
      "text/html": [
       "\n",
       "    <div>\n",
       "      \n",
       "      <progress value='65121' max='65121' style='width:300px; height:20px; vertical-align: middle;'></progress>\n",
       "      [65121/65121 13:18:46, Epoch 3/3]\n",
       "    </div>\n",
       "    <table border=\"1\" class=\"dataframe\">\n",
       "  <thead>\n",
       " <tr style=\"text-align: left;\">\n",
       "      <th>Epoch</th>\n",
       "      <th>Training Loss</th>\n",
       "      <th>Validation Loss</th>\n",
       "      <th>Accuracy</th>\n",
       "      <th>F1 Macro</th>\n",
       "    </tr>\n",
       "  </thead>\n",
       "  <tbody>\n",
       "    <tr>\n",
       "      <td>1</td>\n",
       "      <td>0.439800</td>\n",
       "      <td>0.420502</td>\n",
       "      <td>0.849726</td>\n",
       "      <td>0.816477</td>\n",
       "    </tr>\n",
       "    <tr>\n",
       "      <td>2</td>\n",
       "      <td>0.337100</td>\n",
       "      <td>0.382693</td>\n",
       "      <td>0.877689</td>\n",
       "      <td>0.850030</td>\n",
       "    </tr>\n",
       "    <tr>\n",
       "      <td>3</td>\n",
       "      <td>0.253200</td>\n",
       "      <td>0.344611</td>\n",
       "      <td>0.897222</td>\n",
       "      <td>0.872568</td>\n",
       "    </tr>\n",
       "  </tbody>\n",
       "</table><p>"
      ],
      "text/plain": [
       "<IPython.core.display.HTML object>"
      ]
     },
     "metadata": {},
     "output_type": "display_data"
    },
    {
     "data": {
      "text/plain": [
       "TrainOutput(global_step=65121, training_loss=0.42971302107217, metrics={'train_runtime': 47926.8015, 'train_samples_per_second': 5.435, 'train_steps_per_second': 1.359, 'total_flos': 1.0772518569546547e+17, 'train_loss': 0.42971302107217, 'epoch': 3.0})"
      ]
     },
     "execution_count": 26,
     "metadata": {},
     "output_type": "execute_result"
    }
   ],
   "source": [
    "trainer_final.train()"
   ]
  },
  {
   "cell_type": "code",
   "execution_count": 27,
   "id": "9b3892df",
   "metadata": {},
   "outputs": [
    {
     "data": {
      "text/html": [],
      "text/plain": [
       "<IPython.core.display.HTML object>"
      ]
     },
     "metadata": {},
     "output_type": "display_data"
    },
    {
     "name": "stdout",
     "output_type": "stream",
     "text": [
      "\n",
      "=== FINAL CLASSIFICATION REPORT ===\n",
      "              precision    recall  f1-score   support\n",
      "\n",
      "           C       0.90      0.89      0.90      3388\n",
      "           G       0.89      0.93      0.91      5736\n",
      "         W/Q       0.94      0.92      0.93      9830\n",
      "         OTH       0.76      0.75      0.76      2753\n",
      "\n",
      "    accuracy                           0.90     21707\n",
      "   macro avg       0.87      0.87      0.87     21707\n",
      "weighted avg       0.90      0.90      0.90     21707\n",
      "\n"
     ]
    }
   ],
   "source": [
    "# ---------- 5) Evaluation on full val ----------\n",
    "preds_final = trainer_final.predict(val_ds_full)\n",
    "y_true_final = preds_final.label_ids\n",
    "y_pred_final = np.argmax(preds_final.predictions, axis=1)\n",
    "\n",
    "print(\"\\n=== FINAL CLASSIFICATION REPORT ===\")\n",
    "print(classification_report(\n",
    "    y_true_final,\n",
    "    y_pred_final,\n",
    "    labels=list(range(len(VALID_LABELS))),\n",
    "    target_names=VALID_LABELS,\n",
    "    zero_division=0\n",
    "))"
   ]
  },
  {
   "cell_type": "code",
   "execution_count": 28,
   "id": "aa0bf8f6",
   "metadata": {},
   "outputs": [
    {
     "name": "stdout",
     "output_type": "stream",
     "text": [
      "\n",
      "Confusion Matrix:\n",
      " [[3031   61  139  157]\n",
      " [  57 5307  208  164]\n",
      " [ 138  292 9068  332]\n",
      " [ 157  299  227 2070]]\n"
     ]
    },
    {
     "data": {
      "image/png": "[encoded data removed]",
      "text/plain": [
       "<Figure size 640x480 with 2 Axes>"
      ]
     },
     "metadata": {},
     "output_type": "display_data"
    }
   ],
   "source": [
    "cm_final = confusion_matrix(y_true_final, y_pred_final,\n",
    "                            labels=list(range(len(VALID_LABELS))))\n",
    "print(\"\\nConfusion Matrix:\\n\", cm_final)\n",
    "disp = ConfusionMatrixDisplay(confusion_matrix=cm_final, display_labels=VALID_LABELS)\n",
    "disp.plot(cmap=plt.cm.Blues, xticks_rotation=45)\n",
    "plt.title(\"Confusion Matrix — Final DeepSeek QLoRA\")\n",
    "plt.tight_layout()\n",
    "plt.show()"
   ]
  },
  {
   "cell_type": "code",
   "execution_count": 29,
   "id": "f2486f0b",
   "metadata": {},
   "outputs": [
    {
     "data": {
      "image/png": "[encoded data removed]",
      "text/plain": [
       "<Figure size 700x600 with 1 Axes>"
      ]
     },
     "metadata": {},
     "output_type": "display_data"
    }
   ],
   "source": [
    "# ---------- 6) ROC curves ----------\n",
    "logits = preds_final.predictions\n",
    "probs = softmax(torch.tensor(logits), dim=-1).numpy()\n",
    "y_true_bin = np.zeros((len(y_true_final), len(VALID_LABELS)), dtype=int)\n",
    "for i, lbl in enumerate(y_true_final):\n",
    "    y_true_bin[i, lbl] = 1\n",
    "\n",
    "fpr, tpr, roc_auc = {}, {}, {}\n",
    "for i in range(len(VALID_LABELS)):\n",
    "    fpr[i], tpr[i], _ = roc_curve(y_true_bin[:, i], probs[:, i])\n",
    "    roc_auc[i] = auc(fpr[i], tpr[i])\n",
    "\n",
    "fpr[\"micro\"], tpr[\"micro\"], _ = roc_curve(y_true_bin.ravel(), probs.ravel())\n",
    "roc_auc[\"micro\"] = auc(fpr[\"micro\"], tpr[\"micro\"])\n",
    "\n",
    "all_fpr = np.unique(np.concatenate([fpr[i] for i in range(len(VALID_LABELS))]))\n",
    "mean_tpr = np.zeros_like(all_fpr)\n",
    "for i in range(len(VALID_LABELS)):\n",
    "    mean_tpr += np.interp(all_fpr, fpr[i], tpr[i])\n",
    "mean_tpr /= len(VALID_LABELS)\n",
    "fpr[\"macro\"], tpr[\"macro\"] = all_fpr, mean_tpr\n",
    "roc_auc[\"macro\"] = auc(fpr[\"macro\"], tpr[\"macro\"])\n",
    "\n",
    "plt.figure(figsize=(7, 6))\n",
    "plt.plot(fpr[\"micro\"], tpr[\"micro\"], label=f\"micro-average (AUC={roc_auc['micro']:.3f})\")\n",
    "plt.plot(fpr[\"macro\"], tpr[\"macro\"], label=f\"macro-average (AUC={roc_auc['macro']:.3f})\")\n",
    "for i in range(len(VALID_LABELS)):\n",
    "    plt.plot(fpr[i], tpr[i], label=f\"{VALID_LABELS[i]} (AUC={roc_auc[i]:.3f})\")\n",
    "plt.plot([0, 1], [0, 1], linestyle=\"--\")\n",
    "plt.xlabel(\"False Positive Rate\")\n",
    "plt.ylabel(\"True Positive Rate\")\n",
    "plt.title(\"ROC Curves — Final DeepSeek QLoRA\")\n",
    "plt.legend(loc=\"lower right\", fontsize=8)\n",
    "plt.tight_layout()\n",
    "plt.show()"
   ]
  },
  {
   "cell_type": "code",
   "execution_count": 30,
   "id": "e81a22d8",
   "metadata": {},
   "outputs": [
    {
     "name": "stdout",
     "output_type": "stream",
     "text": [
      "\n",
      "Saved final best model to: 3_model/deepseek_qwen1p5b_qlora_cls\\best\n",
      "Best HPO params used: {'learning_rate': 0.00029903900929883776, 'weight_decay': 0.04458935431893464, 'warmup_ratio': 0.10849535763714907, 'per_device_train_batch_size': 4, 'gradient_accumulation_steps': 1, 'lora_r': 16, 'lora_alpha': 32, 'lora_dropout': 0.08679485645656905, 'max_length': 256, 'final_epochs': 3}\n"
     ]
    }
   ],
   "source": [
    "# ---------- 7) Save best model ----------\n",
    "BEST_DIR = os.path.join(OUTPUT_DIR, \"best\")\n",
    "trainer_final.save_model(BEST_DIR)\n",
    "tokenizer.save_pretrained(BEST_DIR)\n",
    "print(f\"\\nSaved final best model to: {BEST_DIR}\")\n",
    "print(\"Best HPO params used:\", {**best, \"max_length\": best_max_len, \"final_epochs\": final_epochs})"
   ]
  }
 ],
 "metadata": {
  "kernelspec": {
   "display_name": "Python 3",
   "language": "python",
   "name": "python3"
  },
  "language_info": {
   "codemirror_mode": {
    "name": "ipython",
    "version": 3
   },
   "file_extension": ".py",
   "mimetype": "text/x-python",
   "name": "python",
   "nbconvert_exporter": "python",
   "pygments_lexer": "ipython3",
   "version": "3.12.9"
  }
 },
 "nbformat": 4,
 "nbformat_minor": 5
}
