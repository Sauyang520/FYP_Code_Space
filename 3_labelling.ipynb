{
 "cells": [
  {
   "cell_type": "markdown",
   "id": "c9330763",
   "metadata": {},
   "source": [
    "Label all sentences using transfer learning model"
   ]
  },
  {
   "cell_type": "code",
   "execution_count": 1,
   "id": "8e45d76d",
   "metadata": {},
   "outputs": [
    {
     "name": "stderr",
     "output_type": "stream",
     "text": [
      "c:\\Users\\user\\AppData\\Local\\Programs\\Python\\Python312\\Lib\\site-packages\\tqdm\\auto.py:21: TqdmWarning: IProgress not found. Please update jupyter and ipywidgets. See https://ipywidgets.readthedocs.io/en/stable/user_install.html\n",
      "  from .autonotebook import tqdm as notebook_tqdm\n"
     ]
    }
   ],
   "source": [
    "import pandas as pd\n",
    "import torch\n",
    "from transformers import AutoTokenizer, AutoModelForSequenceClassification\n",
    "from datasets import Dataset\n",
    "from torch.nn.functional import softmax\n",
    "import numpy as np\n",
    "from tqdm import tqdm"
   ]
  },
  {
   "cell_type": "code",
   "execution_count": 2,
   "id": "6de2e9b1",
   "metadata": {},
   "outputs": [],
   "source": [
    "# Load saved model\n",
    "model_path = \"3_model/transfer-learning/deberta-v3-tuned-final\"\n",
    "tokenizer = AutoTokenizer.from_pretrained(model_path)\n",
    "model = AutoModelForSequenceClassification.from_pretrained(model_path)\n",
    "model.eval()\n",
    "\n",
    "if torch.cuda.is_available():\n",
    "    model.cuda()"
   ]
  },
  {
   "cell_type": "code",
   "execution_count": 3,
   "id": "04548f2c",
   "metadata": {},
   "outputs": [],
   "source": [
    "# Load datasets\n",
    "df_labeled = pd.read_csv(\"2_processed_data/sampling_labelled.csv\", encoding='latin1')\n",
    "df_full = pd.read_csv(\"2_processed_data/processed_dataset.csv\", encoding='latin1')"
   ]
  },
  {
   "cell_type": "code",
   "execution_count": 4,
   "id": "7384ece0",
   "metadata": {},
   "outputs": [],
   "source": [
    "# Map known labels to full dataset\n",
    "valid_labels = ['C', 'G', 'W/Q', 'OTH']\n",
    "label_map = {label: i for i, label in enumerate(valid_labels)}\n",
    "inv_label_map = {v: k for k, v in label_map.items()}\n",
    "\n",
    "# Ensure clean types\n",
    "df_labeled = df_labeled[df_labeled['argument_type'].isin(valid_labels)].copy()\n",
    "df_labeled['argument_type'] = df_labeled['argument_type'].astype(str)\n",
    "df_full['sentence'] = df_full['sentence'].astype(str)\n",
    "\n",
    "# Assign known labels from sampling to processed dataset\n",
    "df_full['argument_type'] = df_full['sentence'].map(\n",
    "    df_labeled.drop_duplicates(subset='sentence').set_index('sentence')['argument_type']\n",
    ")"
   ]
  },
  {
   "cell_type": "code",
   "execution_count": 5,
   "id": "6223dea1",
   "metadata": {},
   "outputs": [],
   "source": [
    "# Identify sentences to predict\n",
    "df_to_predict = df_full[df_full['argument_type'].isna()].copy()\n",
    "sentences_to_predict = df_to_predict['sentence'].tolist()"
   ]
  },
  {
   "cell_type": "code",
   "execution_count": 6,
   "id": "bdd62d04",
   "metadata": {},
   "outputs": [
    {
     "name": "stderr",
     "output_type": "stream",
     "text": [
      "100%|██████████| 6508/6508 [07:07<00:00, 15.21it/s]\n"
     ]
    }
   ],
   "source": [
    "# Predict using the model\n",
    "batch_size = 16\n",
    "predicted_labels = []\n",
    "\n",
    "for i in tqdm(range(0, len(sentences_to_predict), batch_size)):\n",
    "    batch_sentences = sentences_to_predict[i:i+batch_size]\n",
    "    encodings = tokenizer(batch_sentences, padding=True, truncation=True, return_tensors=\"pt\", max_length=256)\n",
    "    if torch.cuda.is_available():\n",
    "        encodings = {k: v.cuda() for k, v in encodings.items()}\n",
    "\n",
    "    with torch.no_grad():\n",
    "        outputs = model(**encodings)\n",
    "        probs = softmax(outputs.logits, dim=1)\n",
    "        preds = torch.argmax(probs, dim=1).cpu().numpy()\n",
    "        predicted_labels.extend(preds)"
   ]
  },
  {
   "cell_type": "code",
   "execution_count": 7,
   "id": "e3183575",
   "metadata": {},
   "outputs": [],
   "source": [
    "# Update predictions back to dataframe\n",
    "df_full.loc[df_full['argument_type'].isna(), 'argument_type'] = [inv_label_map[p] for p in predicted_labels]"
   ]
  },
  {
   "cell_type": "code",
   "execution_count": 8,
   "id": "f11579a8",
   "metadata": {},
   "outputs": [],
   "source": [
    "# Save the final fully labeled dataset\n",
    "df_full.to_csv(\"2_processed_data/labelled_dataset.csv\", index=False)"
   ]
  }
 ],
 "metadata": {
  "kernelspec": {
   "display_name": "Python 3",
   "language": "python",
   "name": "python3"
  },
  "language_info": {
   "codemirror_mode": {
    "name": "ipython",
    "version": 3
   },
   "file_extension": ".py",
   "mimetype": "text/x-python",
   "name": "python",
   "nbconvert_exporter": "python",
   "pygments_lexer": "ipython3",
   "version": "3.12.9"
  }
 },
 "nbformat": 4,
 "nbformat_minor": 5
}
