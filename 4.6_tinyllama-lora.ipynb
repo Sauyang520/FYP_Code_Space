{
 "cells": [
  {
   "cell_type": "code",
   "execution_count": 1,
   "id": "ac948566",
   "metadata": {},
   "outputs": [
    {
     "name": "stderr",
     "output_type": "stream",
     "text": [
      "c:\\Users\\user\\AppData\\Local\\Programs\\Python\\Python312\\Lib\\site-packages\\tqdm\\auto.py:21: TqdmWarning: IProgress not found. Please update jupyter and ipywidgets. See https://ipywidgets.readthedocs.io/en/stable/user_install.html\n",
      "  from .autonotebook import tqdm as notebook_tqdm\n"
     ]
    },
    {
     "name": "stdout",
     "output_type": "stream",
     "text": [
      "WARNING:tensorflow:From c:\\Users\\user\\AppData\\Local\\Programs\\Python\\Python312\\Lib\\site-packages\\tf_keras\\src\\losses.py:2976: The name tf.losses.sparse_softmax_cross_entropy is deprecated. Please use tf.compat.v1.losses.sparse_softmax_cross_entropy instead.\n",
      "\n"
     ]
    }
   ],
   "source": [
    "import os\n",
    "import numpy as np\n",
    "import pandas as pd\n",
    "import torch\n",
    "import matplotlib.pyplot as plt\n",
    "from datasets import Dataset\n",
    "from sklearn.model_selection import train_test_split\n",
    "from sklearn.metrics import classification_report, confusion_matrix, ConfusionMatrixDisplay\n",
    "from transformers import (\n",
    "    AutoTokenizer,\n",
    "    AutoModelForSequenceClassification,\n",
    "    TrainingArguments,\n",
    "    Trainer,\n",
    "    DataCollatorWithPadding,\n",
    "    BitsAndBytesConfig,\n",
    ")\n",
    "from peft import LoraConfig, get_peft_model, TaskType, prepare_model_for_kbit_training\n",
    "from scipy.special import softmax\n",
    "from sklearn.preprocessing import label_binarize\n",
    "from sklearn.metrics import roc_curve, auc\n",
    "import optuna, gc\n",
    "from collections import Counter\n",
    "from transformers import EarlyStoppingCallback"
   ]
  },
  {
   "cell_type": "code",
   "execution_count": 2,
   "id": "0bd6e9b8",
   "metadata": {},
   "outputs": [],
   "source": [
    "# Config the variable\n",
    "CSV_PATH  = \"2_processed_data/labelled_dataset_revised.csv\"\n",
    "TEXT_COL  = \"sentence\"\n",
    "LABEL_COL = \"revised_argument_type\"\n",
    "VALID = ['C', 'G', 'W/Q', 'OTH']\n",
    "\n",
    "# Load and data preparation\n",
    "df = pd.read_csv(CSV_PATH).dropna(subset=[TEXT_COL, LABEL_COL])\n",
    "df = df[df[LABEL_COL].isin(VALID)].copy()\n",
    "\n",
    "label2id = {l:i for i,l in enumerate(VALID)}\n",
    "id2label = {i:l for l,i in label2id.items()}\n",
    "df[\"label\"] = df[LABEL_COL].map(label2id).astype(int)\n",
    "\n",
    "train_texts, val_texts, train_labels, val_labels = train_test_split(\n",
    "    df[TEXT_COL].astype(str).tolist(),\n",
    "    df[\"label\"].tolist(),\n",
    "    test_size=0.2, stratify=df[\"label\"], random_state=42\n",
    ")"
   ]
  },
  {
   "cell_type": "code",
   "execution_count": 3,
   "id": "eb9c31b1",
   "metadata": {},
   "outputs": [
    {
     "name": "stderr",
     "output_type": "stream",
     "text": [
      "Map: 100%|██████████| 86825/86825 [00:03<00:00, 28490.36 examples/s]\n",
      "Map: 100%|██████████| 21707/21707 [00:00<00:00, 31302.64 examples/s]\n"
     ]
    }
   ],
   "source": [
    "# Model and Tokenizer\n",
    "model_ckpt = \"TinyLlama/TinyLlama-1.1B-Chat-v1.0\"\n",
    "\n",
    "tokenizer = AutoTokenizer.from_pretrained(model_ckpt, use_fast=True, trust_remote_code=True)\n",
    "if tokenizer.pad_token is None:\n",
    "    tokenizer.pad_token = tokenizer.eos_token\n",
    "tokenizer.padding_side = \"right\"\n",
    "\n",
    "MAX_LEN = 96\n",
    "\n",
    "def tokenize(batch):\n",
    "    return tokenizer(\n",
    "        batch[\"text\"],\n",
    "        truncation=True,\n",
    "        padding=\"max_length\",\n",
    "        max_length=MAX_LEN\n",
    "    )\n",
    "\n",
    "train_ds = Dataset.from_dict({\"text\": train_texts, \"label\": train_labels}).map(\n",
    "    tokenize, batched=True, num_proc=1, remove_columns=[\"text\"]\n",
    ")\n",
    "val_ds = Dataset.from_dict({\"text\": val_texts, \"label\": val_labels}).map(\n",
    "    tokenize, batched=True, num_proc=1, remove_columns=[\"text\"]\n",
    ")\n",
    "\n",
    "cols = [\"input_ids\", \"attention_mask\", \"label\"]\n",
    "train_ds = train_ds.with_format(type=\"torch\", columns=cols)\n",
    "val_ds   = val_ds.with_format(type=\"torch\", columns=cols)"
   ]
  },
  {
   "cell_type": "code",
   "execution_count": 4,
   "id": "51143816",
   "metadata": {},
   "outputs": [
    {
     "name": "stderr",
     "output_type": "stream",
     "text": [
      "Some weights of LlamaForSequenceClassification were not initialized from the model checkpoint at TinyLlama/TinyLlama-1.1B-Chat-v1.0 and are newly initialized: ['score.weight']\n",
      "You should probably TRAIN this model on a down-stream task to be able to use it for predictions and inference.\n"
     ]
    },
    {
     "name": "stdout",
     "output_type": "stream",
     "text": [
      "trainable params: 6,316,032 || all params: 1,040,836,608 || trainable%: 0.6068\n"
     ]
    }
   ],
   "source": [
    "# QLoRA (4-bit) + LoRA\n",
    "# 4-bit quantization config for QLoRA\n",
    "bnb_config = BitsAndBytesConfig(\n",
    "    load_in_4bit=True,\n",
    "    bnb_4bit_use_double_quant=True,\n",
    "    bnb_4bit_quant_type=\"nf4\",\n",
    ")\n",
    "\n",
    "# Load base model quantized in 4-bit\n",
    "base_model = AutoModelForSequenceClassification.from_pretrained(\n",
    "    model_ckpt,\n",
    "    num_labels=len(VALID),\n",
    "    quantization_config=bnb_config,\n",
    "    device_map=\"auto\",\n",
    "    trust_remote_code=True,\n",
    ")\n",
    "base_model.config.pad_token_id = tokenizer.pad_token_id\n",
    "\n",
    "# Prepare for k-bit training + LoRA\n",
    "base_model = prepare_model_for_kbit_training(base_model)\n",
    "\n",
    "lora_cfg = LoraConfig(\n",
    "    task_type=TaskType.SEQ_CLS,\n",
    "    r=8,\n",
    "    lora_alpha=16,\n",
    "    lora_dropout=0.05,\n",
    "    bias=\"none\",\n",
    "    target_modules=[\"q_proj\",\"k_proj\",\"v_proj\",\"o_proj\",\"gate_proj\",\"up_proj\",\"down_proj\"],\n",
    ")\n",
    "model = get_peft_model(base_model, lora_cfg)\n",
    "model.print_trainable_parameters()\n",
    "\n",
    "data_collator = DataCollatorWithPadding(tokenizer=tokenizer, pad_to_multiple_of=8)"
   ]
  },
  {
   "cell_type": "code",
   "execution_count": 5,
   "id": "dbf962bd",
   "metadata": {},
   "outputs": [],
   "source": [
    "# Metrics\n",
    "def compute_metrics(pred):\n",
    "    from sklearn.metrics import accuracy_score, f1_score\n",
    "    labels = pred.label_ids\n",
    "    preds = np.argmax(pred.predictions, axis=1)\n",
    "    return {\"accuracy\": accuracy_score(labels, preds), \"f1_macro\": f1_score(labels, preds, average=\"macro\")}"
   ]
  },
  {
   "cell_type": "code",
   "execution_count": null,
   "id": "e121f945",
   "metadata": {},
   "outputs": [],
   "source": [
    "# Training\n",
    "args = TrainingArguments(\n",
    "    output_dir=\"model/llama_qlora/results\",\n",
    "    overwrite_output_dir=True,\n",
    "    do_train=True,\n",
    "    do_eval=True,\n",
    "    eval_strategy=\"epoch\",\n",
    "    save_strategy=\"no\",\n",
    "    load_best_model_at_end=False,\n",
    "\n",
    "    per_device_train_batch_size=8,\n",
    "    per_device_eval_batch_size=8,\n",
    "    gradient_accumulation_steps=2,\n",
    "\n",
    "    learning_rate=2e-5,\n",
    "    weight_decay=0.05,\n",
    "    num_train_epochs=2,\n",
    "\n",
    "    optim=\"paged_adamw_8bit\",\n",
    "\n",
    "    dataloader_num_workers=4,\n",
    "    dataloader_pin_memory=True,\n",
    "    dataloader_prefetch_factor=2,\n",
    "\n",
    "    logging_dir=\"model/llama_qlora/logs\",\n",
    "    logging_steps=100,\n",
    "    report_to=2,\n",
    ")"
   ]
  },
  {
   "cell_type": "code",
   "execution_count": null,
   "id": "042016ee",
   "metadata": {},
   "outputs": [
    {
     "name": "stderr",
     "output_type": "stream",
     "text": [
      "C:\\Users\\user\\AppData\\Local\\Temp\\ipykernel_19060\\3792864128.py:1: FutureWarning: `tokenizer` is deprecated and will be removed in version 5.0.0 for `Trainer.__init__`. Use `processing_class` instead.\n",
      "  trainer = Trainer(\n"
     ]
    }
   ],
   "source": [
    "# Trainer\n",
    "trainer = Trainer(\n",
    "    model=model,\n",
    "    args=args,\n",
    "    train_dataset=train_ds,\n",
    "    eval_dataset=val_ds,\n",
    "    tokenizer=tokenizer,\n",
    "    data_collator=data_collator,\n",
    "    compute_metrics=compute_metrics,\n",
    ")"
   ]
  },
  {
   "cell_type": "code",
   "execution_count": null,
   "id": "bc984edc",
   "metadata": {},
   "outputs": [
    {
     "name": "stderr",
     "output_type": "stream",
     "text": [
      "`use_cache=True` is incompatible with gradient checkpointing. Setting `use_cache=False`.\n",
      "c:\\Users\\user\\AppData\\Local\\Programs\\Python\\Python312\\Lib\\site-packages\\torch\\_dynamo\\eval_frame.py:632: UserWarning: torch.utils.checkpoint: the use_reentrant parameter should be passed explicitly. In version 2.5 we will raise an exception if use_reentrant is not passed. use_reentrant=False is recommended, but if you need to preserve the current default behavior, you can pass use_reentrant=True. Refer to docs for more details on the differences between the two variants.\n",
      "  return fn(*args, **kwargs)\n"
     ]
    },
    {
     "data": {
      "text/html": [
       "\n",
       "    <div>\n",
       "      \n",
       "      <progress value='10854' max='10854' style='width:300px; height:20px; vertical-align: middle;'></progress>\n",
       "      [10854/10854 9:19:19, Epoch 2/2]\n",
       "    </div>\n",
       "    <table border=\"1\" class=\"dataframe\">\n",
       "  <thead>\n",
       " <tr style=\"text-align: left;\">\n",
       "      <th>Epoch</th>\n",
       "      <th>Training Loss</th>\n",
       "      <th>Validation Loss</th>\n",
       "      <th>Accuracy</th>\n",
       "      <th>F1 Macro</th>\n",
       "    </tr>\n",
       "  </thead>\n",
       "  <tbody>\n",
       "    <tr>\n",
       "      <td>1</td>\n",
       "      <td>2.579900</td>\n",
       "      <td>0.324109</td>\n",
       "      <td>0.876491</td>\n",
       "      <td>0.850472</td>\n",
       "    </tr>\n",
       "    <tr>\n",
       "      <td>2</td>\n",
       "      <td>2.267000</td>\n",
       "      <td>0.294225</td>\n",
       "      <td>0.888699</td>\n",
       "      <td>0.863847</td>\n",
       "    </tr>\n",
       "  </tbody>\n",
       "</table><p>"
      ],
      "text/plain": [
       "<IPython.core.display.HTML object>"
      ]
     },
     "metadata": {},
     "output_type": "display_data"
    },
    {
     "name": "stderr",
     "output_type": "stream",
     "text": [
      "c:\\Users\\user\\AppData\\Local\\Programs\\Python\\Python312\\Lib\\site-packages\\torch\\_dynamo\\eval_frame.py:632: UserWarning: torch.utils.checkpoint: the use_reentrant parameter should be passed explicitly. In version 2.5 we will raise an exception if use_reentrant is not passed. use_reentrant=False is recommended, but if you need to preserve the current default behavior, you can pass use_reentrant=True. Refer to docs for more details on the differences between the two variants.\n",
      "  return fn(*args, **kwargs)\n"
     ]
    },
    {
     "data": {
      "text/plain": [
       "TrainOutput(global_step=10854, training_loss=3.0659375195128056, metrics={'train_runtime': 33563.1427, 'train_samples_per_second': 5.174, 'train_steps_per_second': 0.323, 'total_flos': 9.75519075336192e+16, 'train_loss': 3.0659375195128056, 'epoch': 2.0})"
      ]
     },
     "execution_count": 9,
     "metadata": {},
     "output_type": "execute_result"
    }
   ],
   "source": [
    "# Train\n",
    "trainer.train()"
   ]
  },
  {
   "cell_type": "code",
   "execution_count": null,
   "id": "e6078656",
   "metadata": {},
   "outputs": [
    {
     "data": {
      "text/html": [],
      "text/plain": [
       "<IPython.core.display.HTML object>"
      ]
     },
     "metadata": {},
     "output_type": "display_data"
    },
    {
     "name": "stdout",
     "output_type": "stream",
     "text": [
      "\n",
      "=== Classification Report (LLaMA QLoRA) ===\n",
      "              precision    recall  f1-score   support\n",
      "\n",
      "           C       0.89      0.88      0.88      3388\n",
      "           G       0.90      0.91      0.91      5736\n",
      "         W/Q       0.91      0.93      0.92      9830\n",
      "         OTH       0.78      0.72      0.75      2753\n",
      "\n",
      "    accuracy                           0.89     21707\n",
      "   macro avg       0.87      0.86      0.86     21707\n",
      "weighted avg       0.89      0.89      0.89     21707\n",
      "\n",
      "Confusion Matrix:\n",
      " [[2989   44  203  152]\n",
      " [  53 5222  308  153]\n",
      " [ 169  294 9096  271]\n",
      " [ 156  243  370 1984]]\n"
     ]
    },
    {
     "data": {
      "image/png": "[encoded data removed]",
      "text/plain": [
       "<Figure size 640x480 with 2 Axes>"
      ]
     },
     "metadata": {},
     "output_type": "display_data"
    }
   ],
   "source": [
    "# Evaluation\n",
    "preds = trainer.predict(val_ds)\n",
    "y_pred = np.argmax(preds.predictions, axis=1)\n",
    "y_true = np.array(val_labels)\n",
    "\n",
    "print(\"\\n=== Classification Report (LLaMA QLoRA) ===\")\n",
    "print(classification_report(\n",
    "    y_true, y_pred,\n",
    "    labels=list(range(len(VALID))),\n",
    "    target_names=[id2label[i] for i in range(len(VALID))],\n",
    "    zero_division=0\n",
    "))\n",
    "\n",
    "cm = confusion_matrix(y_true, y_pred, labels=list(range(len(VALID))))\n",
    "print(\"Confusion Matrix:\\n\", cm)\n",
    "disp = ConfusionMatrixDisplay(confusion_matrix=cm, display_labels=[id2label[i] for i in range(len(VALID))])\n",
    "disp.plot(cmap=plt.cm.Blues, xticks_rotation=45)\n",
    "plt.title(\"Confusion Matrix — LLaMA QLoRA\")\n",
    "plt.tight_layout(); plt.show()"
   ]
  },
  {
   "cell_type": "code",
   "execution_count": null,
   "id": "c19e965e",
   "metadata": {},
   "outputs": [
    {
     "name": "stdout",
     "output_type": "stream",
     "text": [
      "\n",
      "=== ROC AUCs ===\n",
      "C: AUC = 0.9906\n",
      "G: AUC = 0.9888\n",
      "W/Q: AUC = 0.9823\n",
      "OTH: AUC = 0.9689\n",
      "Micro-average AUC: 0.9859\n",
      "Macro-average AUC: 0.9827\n"
     ]
    },
    {
     "data": {
      "image/png": "[encoded data removed]",
      "text/plain": [
       "<Figure size 700x600 with 1 Axes>"
      ]
     },
     "metadata": {},
     "output_type": "display_data"
    }
   ],
   "source": [
    "# ROC / AUC (one-vs-rest)\n",
    "# Map ids to names from VALID list\n",
    "inv_label_map = {i: name for i, name in enumerate(VALID)}\n",
    "\n",
    "# Get class probabilities from logits\n",
    "probs_all = softmax(preds.predictions, axis=1)  # shape: (n_samples, n_classes)\n",
    "\n",
    "# Classes actually present in the validation labels (avoids ROC errors if a class is missing)\n",
    "labels_present = sorted(set(y_true))\n",
    "class_names_present = [inv_label_map[i] for i in labels_present]\n",
    "\n",
    "# Binarize true labels over the present classes (keeps shapes aligned)\n",
    "y_true_bin = label_binarize(np.array(y_true), classes=labels_present)\n",
    "\n",
    "# Align probs to the present classes (columns are class indices)\n",
    "probs = probs_all[:, labels_present]\n",
    "\n",
    "# Compute per-class ROC and AUC\n",
    "fprs, tprs, aucs = {}, {}, {}\n",
    "for j, cls_id in enumerate(labels_present):\n",
    "    # Skip if no positive samples for this class in y_true\n",
    "    if y_true_bin[:, j].sum() == 0:\n",
    "        continue\n",
    "    fpr, tpr, _ = roc_curve(y_true_bin[:, j], probs[:, j])\n",
    "    fprs[cls_id], tprs[cls_id] = fpr, tpr\n",
    "    aucs[cls_id] = auc(fpr, tpr)\n",
    "\n",
    "# Micro-average ROC/AUC\n",
    "fpr_micro, tpr_micro, _ = roc_curve(y_true_bin.ravel(), probs.ravel())\n",
    "auc_micro = auc(fpr_micro, tpr_micro)\n",
    "\n",
    "# Macro-average AUC (mean across available per-class AUCs)\n",
    "auc_macro = float(np.mean(list(aucs.values()))) if len(aucs) > 0 else float(\"nan\")\n",
    "\n",
    "# Print AUCs\n",
    "print(\"\\n=== ROC AUCs ===\")\n",
    "for cls_id in labels_present:\n",
    "    name = inv_label_map[cls_id]\n",
    "    if cls_id in aucs:\n",
    "        print(f\"{name}: AUC = {aucs[cls_id]:.4f}\")\n",
    "    else:\n",
    "        print(f\"{name}: AUC = N/A (no positive examples)\")\n",
    "print(f\"Micro-average AUC: {auc_micro:.4f}\")\n",
    "print(f\"Macro-average AUC: {auc_macro:.4f}\")\n",
    "\n",
    "# Plot ROC curves\n",
    "plt.figure(figsize=(7, 6))\n",
    "\n",
    "# Per-class curves\n",
    "for cls_id in labels_present:\n",
    "    if cls_id in fprs:\n",
    "        plt.plot(fprs[cls_id], tprs[cls_id], lw=2,\n",
    "                 label=f\"{inv_label_map[cls_id]} (AUC={aucs[cls_id]:.3f})\")\n",
    "\n",
    "# Micro-average\n",
    "plt.plot(fpr_micro, tpr_micro, lw=2, linestyle=\"--\",\n",
    "         label=f\"micro-average (AUC={auc_micro:.3f})\", alpha=0.9)\n",
    "\n",
    "# Chance line\n",
    "plt.plot([0, 1], [0, 1], color=\"gray\", lw=1, linestyle=\":\")\n",
    "\n",
    "plt.xlim([0.0, 1.0])\n",
    "plt.ylim([0.0, 1.05])\n",
    "plt.xlabel(\"False Positive Rate\")\n",
    "plt.ylabel(\"True Positive Rate\")\n",
    "plt.title(\"ROC Curves — One-vs-Rest (LLaMA LoRA)\")\n",
    "plt.legend(loc=\"lower right\")\n",
    "plt.tight_layout()\n",
    "plt.show()"
   ]
  },
  {
   "cell_type": "code",
   "execution_count": null,
   "id": "00571938",
   "metadata": {},
   "outputs": [
    {
     "name": "stdout",
     "output_type": "stream",
     "text": [
      "Saved LoRA adapter to: llama_qlora/adapter\n"
     ]
    }
   ],
   "source": [
    "# Save LoRA adapter + tokenizer\n",
    "adapter_dir = \"3_model/llama_qlora\"\n",
    "os.makedirs(adapter_dir, exist_ok=True)\n",
    "trainer.model.save_pretrained(adapter_dir)\n",
    "tokenizer.save_pretrained(adapter_dir)\n",
    "print(\"Saved LoRA adapter to:\", adapter_dir)"
   ]
  },
  {
   "cell_type": "code",
   "execution_count": 6,
   "id": "e4f45c04",
   "metadata": {},
   "outputs": [],
   "source": [
    "# --- detect debate/filename column ---\n",
    "filename_col = None\n",
    "for cand in [\"filename\", \"file_name\", \"debate_id\", \"doc\", \"source\", \"file\", \"topic_id\"]:\n",
    "    if cand in df.columns:\n",
    "        filename_col = cand\n",
    "        break\n",
    "if filename_col is None:\n",
    "    raise ValueError(\"No debate identifier column found. Please ensure dataset has an ID column.\")\n",
    "\n",
    "# --- sample 40 debates ---\n",
    "unique_files = df[filename_col].dropna().unique().tolist()\n",
    "rng = np.random.default_rng(42)\n",
    "sampled_files = rng.choice(unique_files, size=min(100, len(unique_files)), replace=False).tolist()\n",
    "df_sample = df[df[filename_col].isin(sampled_files)].copy()"
   ]
  },
  {
   "cell_type": "code",
   "execution_count": 7,
   "id": "29df8421",
   "metadata": {},
   "outputs": [
    {
     "name": "stdout",
     "output_type": "stream",
     "text": [
      "\n",
      "=== SAMPLE SUMMARY ===\n",
      "Sampled debates: 100, Rows: 2931\n",
      "Label balance: Counter({2: 1251, 1: 870, 0: 458, 3: 352})\n",
      "Sampled file examples: ['YBA_661_mandatory-retirement_con_DJ_explicit.trs.txt', 'WS_3196_immigration-us_pro.trs.txt', 'SSH_3301_freedom-of-speech_con_DJ_implicit.trs.txt', 'RG_2143_ban-abortions_pro.trs.txt', 'JL_985_free-market_con_TL_implicit.trs.txt']\n"
     ]
    }
   ],
   "source": [
    "print(\"\\n=== SAMPLE SUMMARY ===\")\n",
    "print(f\"Sampled debates: {len(sampled_files)}, Rows: {len(df_sample)}\")\n",
    "print(\"Label balance:\", Counter(df_sample[\"label\"]))\n",
    "print(\"Sampled file examples:\", sampled_files[:5])"
   ]
  },
  {
   "cell_type": "code",
   "execution_count": 8,
   "id": "a2b13173",
   "metadata": {},
   "outputs": [],
   "source": [
    "# --- split sampled subset ---\n",
    "train_s, val_s = train_test_split(\n",
    "    df_sample[[TEXT_COL, \"label\"]],\n",
    "    test_size=0.2,\n",
    "    stratify=df_sample[\"label\"],\n",
    "    random_state=42\n",
    ")"
   ]
  },
  {
   "cell_type": "code",
   "execution_count": 9,
   "id": "72c793a0",
   "metadata": {},
   "outputs": [
    {
     "name": "stdout",
     "output_type": "stream",
     "text": [
      "\n",
      "=== SAMPLE SPLIT ===\n",
      "Train: 2344 | Val: 587\n",
      "Train balance: Counter({2: 1000, 1: 696, 0: 366, 3: 282})\n",
      "Val balance: Counter({2: 251, 1: 174, 0: 92, 3: 70})\n"
     ]
    }
   ],
   "source": [
    "print(\"\\n=== SAMPLE SPLIT ===\")\n",
    "print(f\"Train: {len(train_s)} | Val: {len(val_s)}\")\n",
    "print(\"Train balance:\", Counter(train_s[\"label\"]))\n",
    "print(\"Val balance:\", Counter(val_s[\"label\"]))"
   ]
  },
  {
   "cell_type": "code",
   "execution_count": 10,
   "id": "5f655727",
   "metadata": {},
   "outputs": [],
   "source": [
    "def make_hf_ds(train_df, val_df, max_length=96):\n",
    "    def tok_fn(batch):\n",
    "        return tokenizer(\n",
    "            batch[TEXT_COL],\n",
    "            truncation=True,\n",
    "            padding=\"max_length\",\n",
    "            max_length=max_length,\n",
    "        )\n",
    "    tr_ds = Dataset.from_pandas(train_df.reset_index(drop=True)).map(\n",
    "        tok_fn, batched=True, remove_columns=[TEXT_COL]\n",
    "    )\n",
    "    va_ds = Dataset.from_pandas(val_df.reset_index(drop=True)).map(\n",
    "        tok_fn, batched=True, remove_columns=[TEXT_COL]\n",
    "    )\n",
    "    cols = [\"input_ids\", \"attention_mask\", \"label\"]\n",
    "    return tr_ds.with_format(type=\"torch\", columns=cols), va_ds.with_format(type=\"torch\", columns=cols)"
   ]
  },
  {
   "cell_type": "code",
   "execution_count": 11,
   "id": "3f642d2a",
   "metadata": {},
   "outputs": [],
   "source": [
    "def free_mem(objs):\n",
    "    for o in objs:\n",
    "        try: del o\n",
    "        except: pass\n",
    "    gc.collect()\n",
    "    if torch.cuda.is_available():\n",
    "        torch.cuda.empty_cache()\n"
   ]
  },
  {
   "cell_type": "code",
   "execution_count": 16,
   "id": "ca2db86b",
   "metadata": {},
   "outputs": [],
   "source": [
    "# --- objective ---\n",
    "def objective(trial):\n",
    "    lr           = trial.suggest_float(\"learning_rate\", 5e-6, 5e-4, log=True)\n",
    "    weight_decay = trial.suggest_float(\"weight_decay\", 0.0, 0.1)\n",
    "    warmup_ratio = trial.suggest_float(\"warmup_ratio\", 0.0, 0.15)\n",
    "    batch_size   = trial.suggest_categorical(\"per_device_train_batch_size\", [2, 4])\n",
    "    grad_accum   = trial.suggest_categorical(\"gradient_accumulation_steps\", [4, 8])\n",
    "    max_len      = trial.suggest_categorical(\"max_length\", [64, 96, 128])\n",
    "    num_epochs   = trial.suggest_categorical(\"num_train_epochs\", [1, 2])\n",
    "\n",
    "    # LoRA params\n",
    "    lora_r       = trial.suggest_categorical(\"lora_r\", [4, 8, 16])\n",
    "    lora_alpha   = trial.suggest_categorical(\"lora_alpha\", [8, 16, 32])\n",
    "    lora_dropout = trial.suggest_float(\"lora_dropout\", 0.0, 0.1)\n",
    "\n",
    "    tr_ds, va_ds = make_hf_ds(train_s, val_s, max_length=max_len)\n",
    "\n",
    "    base = AutoModelForSequenceClassification.from_pretrained(\n",
    "        model_ckpt,\n",
    "        num_labels=len(VALID),\n",
    "        quantization_config=bnb_config,\n",
    "        device_map=\"auto\",\n",
    "        trust_remote_code=True,\n",
    "    )\n",
    "    base.config.pad_token_id = tokenizer.pad_token_id\n",
    "    base = prepare_model_for_kbit_training(base)\n",
    "\n",
    "    lcfg = LoraConfig(\n",
    "        task_type=TaskType.SEQ_CLS,\n",
    "        r=lora_r, lora_alpha=lora_alpha, lora_dropout=lora_dropout,\n",
    "        bias=\"none\",\n",
    "        target_modules=[\"q_proj\",\"k_proj\",\"v_proj\",\"o_proj\",\"gate_proj\",\"up_proj\",\"down_proj\"],\n",
    "    )\n",
    "    model_hpo = get_peft_model(base, lcfg)\n",
    "\n",
    "    args = TrainingArguments(\n",
    "        output_dir=f\"model/llama_qlora/hpo_trial_{trial.number}\",\n",
    "        per_device_train_batch_size=batch_size,\n",
    "        per_device_eval_batch_size=min(batch_size, 8),\n",
    "        gradient_accumulation_steps=grad_accum,\n",
    "        learning_rate=lr,\n",
    "        weight_decay=weight_decay,\n",
    "        warmup_ratio=warmup_ratio,\n",
    "        num_train_epochs=num_epochs,\n",
    "        eval_strategy=\"epoch\",\n",
    "        save_strategy=\"no\",\n",
    "        logging_steps=50,\n",
    "        report_to=[],\n",
    "    )\n",
    "\n",
    "    trainer_hpo = Trainer(\n",
    "        model=model_hpo,\n",
    "        args=args,\n",
    "        train_dataset=tr_ds,\n",
    "        eval_dataset=va_ds,\n",
    "        tokenizer=tokenizer,\n",
    "        data_collator=data_collator,\n",
    "        compute_metrics=compute_metrics,\n",
    "        # callbacks=[EarlyStoppingCallback(early_stopping_patience=2)],\n",
    "    )\n",
    "\n",
    "    try:\n",
    "        trainer_hpo.train()\n",
    "        score = trainer_hpo.evaluate(va_ds)[\"eval_f1_macro\"]\n",
    "    except RuntimeError as e:\n",
    "        print(f\"[Trial {trial.number}] OOM: {e}\")\n",
    "        score = 0.0\n",
    "\n",
    "    free_mem([trainer_hpo, model_hpo, base, tr_ds, va_ds])\n",
    "    return score"
   ]
  },
  {
   "cell_type": "code",
   "execution_count": 19,
   "id": "d196b8fd",
   "metadata": {},
   "outputs": [
    {
     "name": "stderr",
     "output_type": "stream",
     "text": [
      "[I 2025-09-07 00:02:13,997] A new study created in memory with name: no-name-73b50a62-fe46-48d6-972e-eefc58a0860f\n",
      "Map: 100%|██████████| 2344/2344 [00:00<00:00, 39571.14 examples/s]\n",
      "Map: 100%|██████████| 587/587 [00:00<00:00, 30854.38 examples/s]\n",
      "Some weights of LlamaForSequenceClassification were not initialized from the model checkpoint at TinyLlama/TinyLlama-1.1B-Chat-v1.0 and are newly initialized: ['score.weight']\n",
      "You should probably TRAIN this model on a down-stream task to be able to use it for predictions and inference.\n",
      "C:\\Users\\user\\AppData\\Local\\Temp\\ipykernel_70304\\1634882094.py:51: FutureWarning: `tokenizer` is deprecated and will be removed in version 5.0.0 for `Trainer.__init__`. Use `processing_class` instead.\n",
      "  trainer_hpo = Trainer(\n",
      "Trainer.tokenizer is now deprecated. You should use Trainer.processing_class instead.\n"
     ]
    },
    {
     "data": {
      "text/html": [
       "\n",
       "    <div>\n",
       "      \n",
       "      <progress value='147' max='147' style='width:300px; height:20px; vertical-align: middle;'></progress>\n",
       "      [147/147 05:29, Epoch 1/1]\n",
       "    </div>\n",
       "    <table border=\"1\" class=\"dataframe\">\n",
       "  <thead>\n",
       " <tr style=\"text-align: left;\">\n",
       "      <th>Epoch</th>\n",
       "      <th>Training Loss</th>\n",
       "      <th>Validation Loss</th>\n",
       "      <th>Accuracy</th>\n",
       "      <th>F1 Macro</th>\n",
       "    </tr>\n",
       "  </thead>\n",
       "  <tbody>\n",
       "    <tr>\n",
       "      <td>1</td>\n",
       "      <td>5.898200</td>\n",
       "      <td>1.452420</td>\n",
       "      <td>0.403748</td>\n",
       "      <td>0.266555</td>\n",
       "    </tr>\n",
       "  </tbody>\n",
       "</table><p>"
      ],
      "text/plain": [
       "<IPython.core.display.HTML object>"
      ]
     },
     "metadata": {},
     "output_type": "display_data"
    },
    {
     "data": {
      "text/html": [
       "\n",
       "    <div>\n",
       "      \n",
       "      <progress value='147' max='147' style='width:300px; height:20px; vertical-align: middle;'></progress>\n",
       "      [147/147 00:25]\n",
       "    </div>\n",
       "    "
      ],
      "text/plain": [
       "<IPython.core.display.HTML object>"
      ]
     },
     "metadata": {},
     "output_type": "display_data"
    },
    {
     "name": "stderr",
     "output_type": "stream",
     "text": [
      "[I 2025-09-07 00:08:15,114] Trial 0 finished with value: 0.26655510783673014 and parameters: {'learning_rate': 1.5312868633051215e-05, 'weight_decay': 0.03160324942258293, 'warmup_ratio': 0.052950769455300736, 'per_device_train_batch_size': 4, 'gradient_accumulation_steps': 4, 'max_length': 64, 'num_train_epochs': 1, 'lora_r': 16, 'lora_alpha': 8, 'lora_dropout': 0.07824220129105786}. Best is trial 0 with value: 0.26655510783673014.\n",
      "Map: 100%|██████████| 2344/2344 [00:00<00:00, 22524.71 examples/s]\n",
      "Map: 100%|██████████| 587/587 [00:00<00:00, 29340.93 examples/s]\n",
      "Some weights of LlamaForSequenceClassification were not initialized from the model checkpoint at TinyLlama/TinyLlama-1.1B-Chat-v1.0 and are newly initialized: ['score.weight']\n",
      "You should probably TRAIN this model on a down-stream task to be able to use it for predictions and inference.\n",
      "C:\\Users\\user\\AppData\\Local\\Temp\\ipykernel_70304\\1634882094.py:51: FutureWarning: `tokenizer` is deprecated and will be removed in version 5.0.0 for `Trainer.__init__`. Use `processing_class` instead.\n",
      "  trainer_hpo = Trainer(\n",
      "Trainer.tokenizer is now deprecated. You should use Trainer.processing_class instead.\n",
      "c:\\Users\\user\\AppData\\Local\\Programs\\Python\\Python312\\Lib\\site-packages\\torch\\_dynamo\\eval_frame.py:632: UserWarning: torch.utils.checkpoint: the use_reentrant parameter should be passed explicitly. In version 2.5 we will raise an exception if use_reentrant is not passed. use_reentrant=False is recommended, but if you need to preserve the current default behavior, you can pass use_reentrant=True. Refer to docs for more details on the differences between the two variants.\n",
      "  return fn(*args, **kwargs)\n"
     ]
    },
    {
     "data": {
      "text/html": [
       "\n",
       "    <div>\n",
       "      \n",
       "      <progress value='147' max='147' style='width:300px; height:20px; vertical-align: middle;'></progress>\n",
       "      [147/147 07:06, Epoch 1/1]\n",
       "    </div>\n",
       "    <table border=\"1\" class=\"dataframe\">\n",
       "  <thead>\n",
       " <tr style=\"text-align: left;\">\n",
       "      <th>Epoch</th>\n",
       "      <th>Training Loss</th>\n",
       "      <th>Validation Loss</th>\n",
       "      <th>Accuracy</th>\n",
       "      <th>F1 Macro</th>\n",
       "    </tr>\n",
       "  </thead>\n",
       "  <tbody>\n",
       "    <tr>\n",
       "      <td>1</td>\n",
       "      <td>4.736300</td>\n",
       "      <td>1.066071</td>\n",
       "      <td>0.538330</td>\n",
       "      <td>0.512124</td>\n",
       "    </tr>\n",
       "  </tbody>\n",
       "</table><p>"
      ],
      "text/plain": [
       "<IPython.core.display.HTML object>"
      ]
     },
     "metadata": {},
     "output_type": "display_data"
    },
    {
     "data": {
      "text/html": [
       "\n",
       "    <div>\n",
       "      \n",
       "      <progress value='147' max='147' style='width:300px; height:20px; vertical-align: middle;'></progress>\n",
       "      [147/147 00:32]\n",
       "    </div>\n",
       "    "
      ],
      "text/plain": [
       "<IPython.core.display.HTML object>"
      ]
     },
     "metadata": {},
     "output_type": "display_data"
    },
    {
     "name": "stderr",
     "output_type": "stream",
     "text": [
      "[I 2025-09-07 00:16:00,570] Trial 1 finished with value: 0.5121236952502615 and parameters: {'learning_rate': 3.601923684544893e-05, 'weight_decay': 0.0625624119486144, 'warmup_ratio': 0.1459507533093667, 'per_device_train_batch_size': 4, 'gradient_accumulation_steps': 4, 'max_length': 96, 'num_train_epochs': 1, 'lora_r': 16, 'lora_alpha': 32, 'lora_dropout': 0.021841059641805508}. Best is trial 1 with value: 0.5121236952502615.\n",
      "Map: 100%|██████████| 2344/2344 [00:00<00:00, 28585.69 examples/s]\n",
      "Map: 100%|██████████| 587/587 [00:00<00:00, 26630.93 examples/s]\n",
      "Some weights of LlamaForSequenceClassification were not initialized from the model checkpoint at TinyLlama/TinyLlama-1.1B-Chat-v1.0 and are newly initialized: ['score.weight']\n",
      "You should probably TRAIN this model on a down-stream task to be able to use it for predictions and inference.\n",
      "C:\\Users\\user\\AppData\\Local\\Temp\\ipykernel_70304\\1634882094.py:51: FutureWarning: `tokenizer` is deprecated and will be removed in version 5.0.0 for `Trainer.__init__`. Use `processing_class` instead.\n",
      "  trainer_hpo = Trainer(\n",
      "Trainer.tokenizer is now deprecated. You should use Trainer.processing_class instead.\n",
      "c:\\Users\\user\\AppData\\Local\\Programs\\Python\\Python312\\Lib\\site-packages\\torch\\_dynamo\\eval_frame.py:632: UserWarning: torch.utils.checkpoint: the use_reentrant parameter should be passed explicitly. In version 2.5 we will raise an exception if use_reentrant is not passed. use_reentrant=False is recommended, but if you need to preserve the current default behavior, you can pass use_reentrant=True. Refer to docs for more details on the differences between the two variants.\n",
      "  return fn(*args, **kwargs)\n"
     ]
    },
    {
     "data": {
      "text/html": [
       "\n",
       "    <div>\n",
       "      \n",
       "      <progress value='74' max='74' style='width:300px; height:20px; vertical-align: middle;'></progress>\n",
       "      [74/74 05:19, Epoch 1/1]\n",
       "    </div>\n",
       "    <table border=\"1\" class=\"dataframe\">\n",
       "  <thead>\n",
       " <tr style=\"text-align: left;\">\n",
       "      <th>Epoch</th>\n",
       "      <th>Training Loss</th>\n",
       "      <th>Validation Loss</th>\n",
       "      <th>Accuracy</th>\n",
       "      <th>F1 Macro</th>\n",
       "    </tr>\n",
       "  </thead>\n",
       "  <tbody>\n",
       "    <tr>\n",
       "      <td>1</td>\n",
       "      <td>12.012300</td>\n",
       "      <td>1.333470</td>\n",
       "      <td>0.379898</td>\n",
       "      <td>0.284632</td>\n",
       "    </tr>\n",
       "  </tbody>\n",
       "</table><p>"
      ],
      "text/plain": [
       "<IPython.core.display.HTML object>"
      ]
     },
     "metadata": {},
     "output_type": "display_data"
    },
    {
     "data": {
      "text/html": [
       "\n",
       "    <div>\n",
       "      \n",
       "      <progress value='147' max='147' style='width:300px; height:20px; vertical-align: middle;'></progress>\n",
       "      [147/147 00:25]\n",
       "    </div>\n",
       "    "
      ],
      "text/plain": [
       "<IPython.core.display.HTML object>"
      ]
     },
     "metadata": {},
     "output_type": "display_data"
    },
    {
     "name": "stderr",
     "output_type": "stream",
     "text": [
      "[I 2025-09-07 00:21:53,661] Trial 2 finished with value: 0.2846318048460521 and parameters: {'learning_rate': 3.556032377035645e-05, 'weight_decay': 0.007302121375464388, 'warmup_ratio': 0.032059286905494505, 'per_device_train_batch_size': 4, 'gradient_accumulation_steps': 8, 'max_length': 64, 'num_train_epochs': 1, 'lora_r': 16, 'lora_alpha': 16, 'lora_dropout': 0.05208307958070305}. Best is trial 1 with value: 0.5121236952502615.\n",
      "Map: 100%|██████████| 2344/2344 [00:00<00:00, 25612.20 examples/s]\n",
      "Map: 100%|██████████| 587/587 [00:00<00:00, 27952.50 examples/s]\n",
      "Some weights of LlamaForSequenceClassification were not initialized from the model checkpoint at TinyLlama/TinyLlama-1.1B-Chat-v1.0 and are newly initialized: ['score.weight']\n",
      "You should probably TRAIN this model on a down-stream task to be able to use it for predictions and inference.\n",
      "C:\\Users\\user\\AppData\\Local\\Temp\\ipykernel_70304\\1634882094.py:51: FutureWarning: `tokenizer` is deprecated and will be removed in version 5.0.0 for `Trainer.__init__`. Use `processing_class` instead.\n",
      "  trainer_hpo = Trainer(\n",
      "Trainer.tokenizer is now deprecated. You should use Trainer.processing_class instead.\n",
      "c:\\Users\\user\\AppData\\Local\\Programs\\Python\\Python312\\Lib\\site-packages\\torch\\_dynamo\\eval_frame.py:632: UserWarning: torch.utils.checkpoint: the use_reentrant parameter should be passed explicitly. In version 2.5 we will raise an exception if use_reentrant is not passed. use_reentrant=False is recommended, but if you need to preserve the current default behavior, you can pass use_reentrant=True. Refer to docs for more details on the differences between the two variants.\n",
      "  return fn(*args, **kwargs)\n"
     ]
    },
    {
     "data": {
      "text/html": [
       "\n",
       "    <div>\n",
       "      \n",
       "      <progress value='293' max='293' style='width:300px; height:20px; vertical-align: middle;'></progress>\n",
       "      [293/293 09:28, Epoch 1/1]\n",
       "    </div>\n",
       "    <table border=\"1\" class=\"dataframe\">\n",
       "  <thead>\n",
       " <tr style=\"text-align: left;\">\n",
       "      <th>Epoch</th>\n",
       "      <th>Training Loss</th>\n",
       "      <th>Validation Loss</th>\n",
       "      <th>Accuracy</th>\n",
       "      <th>F1 Macro</th>\n",
       "    </tr>\n",
       "  </thead>\n",
       "  <tbody>\n",
       "    <tr>\n",
       "      <td>1</td>\n",
       "      <td>3.454200</td>\n",
       "      <td>0.775512</td>\n",
       "      <td>0.684838</td>\n",
       "      <td>0.637278</td>\n",
       "    </tr>\n",
       "  </tbody>\n",
       "</table><p>"
      ],
      "text/plain": [
       "<IPython.core.display.HTML object>"
      ]
     },
     "metadata": {},
     "output_type": "display_data"
    },
    {
     "data": {
      "text/html": [
       "\n",
       "    <div>\n",
       "      \n",
       "      <progress value='294' max='294' style='width:300px; height:20px; vertical-align: middle;'></progress>\n",
       "      [294/294 00:43]\n",
       "    </div>\n",
       "    "
      ],
      "text/plain": [
       "<IPython.core.display.HTML object>"
      ]
     },
     "metadata": {},
     "output_type": "display_data"
    },
    {
     "name": "stderr",
     "output_type": "stream",
     "text": [
      "[I 2025-09-07 00:32:10,001] Trial 3 finished with value: 0.6372780454871406 and parameters: {'learning_rate': 7.448221240526385e-05, 'weight_decay': 0.0008753959467410866, 'warmup_ratio': 0.12289487475080486, 'per_device_train_batch_size': 2, 'gradient_accumulation_steps': 4, 'max_length': 96, 'num_train_epochs': 1, 'lora_r': 16, 'lora_alpha': 32, 'lora_dropout': 0.02494485553131992}. Best is trial 3 with value: 0.6372780454871406.\n",
      "Map: 100%|██████████| 2344/2344 [00:00<00:00, 29991.39 examples/s]\n",
      "Map: 100%|██████████| 587/587 [00:00<00:00, 29347.93 examples/s]\n",
      "Some weights of LlamaForSequenceClassification were not initialized from the model checkpoint at TinyLlama/TinyLlama-1.1B-Chat-v1.0 and are newly initialized: ['score.weight']\n",
      "You should probably TRAIN this model on a down-stream task to be able to use it for predictions and inference.\n",
      "C:\\Users\\user\\AppData\\Local\\Temp\\ipykernel_70304\\1634882094.py:51: FutureWarning: `tokenizer` is deprecated and will be removed in version 5.0.0 for `Trainer.__init__`. Use `processing_class` instead.\n",
      "  trainer_hpo = Trainer(\n",
      "Trainer.tokenizer is now deprecated. You should use Trainer.processing_class instead.\n",
      "c:\\Users\\user\\AppData\\Local\\Programs\\Python\\Python312\\Lib\\site-packages\\torch\\_dynamo\\eval_frame.py:632: UserWarning: torch.utils.checkpoint: the use_reentrant parameter should be passed explicitly. In version 2.5 we will raise an exception if use_reentrant is not passed. use_reentrant=False is recommended, but if you need to preserve the current default behavior, you can pass use_reentrant=True. Refer to docs for more details on the differences between the two variants.\n",
      "  return fn(*args, **kwargs)\n"
     ]
    },
    {
     "data": {
      "text/html": [
       "\n",
       "    <div>\n",
       "      \n",
       "      <progress value='294' max='294' style='width:300px; height:20px; vertical-align: middle;'></progress>\n",
       "      [294/294 10:52, Epoch 2/2]\n",
       "    </div>\n",
       "    <table border=\"1\" class=\"dataframe\">\n",
       "  <thead>\n",
       " <tr style=\"text-align: left;\">\n",
       "      <th>Epoch</th>\n",
       "      <th>Training Loss</th>\n",
       "      <th>Validation Loss</th>\n",
       "      <th>Accuracy</th>\n",
       "      <th>F1 Macro</th>\n",
       "    </tr>\n",
       "  </thead>\n",
       "  <tbody>\n",
       "    <tr>\n",
       "      <td>1</td>\n",
       "      <td>6.076700</td>\n",
       "      <td>1.428290</td>\n",
       "      <td>0.340716</td>\n",
       "      <td>0.242722</td>\n",
       "    </tr>\n",
       "    <tr>\n",
       "      <td>2</td>\n",
       "      <td>5.351300</td>\n",
       "      <td>1.345584</td>\n",
       "      <td>0.388416</td>\n",
       "      <td>0.283921</td>\n",
       "    </tr>\n",
       "  </tbody>\n",
       "</table><p>"
      ],
      "text/plain": [
       "<IPython.core.display.HTML object>"
      ]
     },
     "metadata": {},
     "output_type": "display_data"
    },
    {
     "name": "stderr",
     "output_type": "stream",
     "text": [
      "c:\\Users\\user\\AppData\\Local\\Programs\\Python\\Python312\\Lib\\site-packages\\torch\\_dynamo\\eval_frame.py:632: UserWarning: torch.utils.checkpoint: the use_reentrant parameter should be passed explicitly. In version 2.5 we will raise an exception if use_reentrant is not passed. use_reentrant=False is recommended, but if you need to preserve the current default behavior, you can pass use_reentrant=True. Refer to docs for more details on the differences between the two variants.\n",
      "  return fn(*args, **kwargs)\n"
     ]
    },
    {
     "data": {
      "text/html": [
       "\n",
       "    <div>\n",
       "      \n",
       "      <progress value='147' max='147' style='width:300px; height:20px; vertical-align: middle;'></progress>\n",
       "      [147/147 00:25]\n",
       "    </div>\n",
       "    "
      ],
      "text/plain": [
       "<IPython.core.display.HTML object>"
      ]
     },
     "metadata": {},
     "output_type": "display_data"
    },
    {
     "name": "stderr",
     "output_type": "stream",
     "text": [
      "[I 2025-09-07 00:43:32,884] Trial 4 finished with value: 0.28392139608091743 and parameters: {'learning_rate': 1.3074404194880005e-05, 'weight_decay': 0.01674716973931245, 'warmup_ratio': 0.125090853679508, 'per_device_train_batch_size': 4, 'gradient_accumulation_steps': 4, 'max_length': 64, 'num_train_epochs': 2, 'lora_r': 4, 'lora_alpha': 8, 'lora_dropout': 0.03896899055663627}. Best is trial 3 with value: 0.6372780454871406.\n",
      "Map: 100%|██████████| 2344/2344 [00:00<00:00, 26942.49 examples/s]\n",
      "Map: 100%|██████████| 587/587 [00:00<00:00, 26663.52 examples/s]\n",
      "Some weights of LlamaForSequenceClassification were not initialized from the model checkpoint at TinyLlama/TinyLlama-1.1B-Chat-v1.0 and are newly initialized: ['score.weight']\n",
      "You should probably TRAIN this model on a down-stream task to be able to use it for predictions and inference.\n",
      "C:\\Users\\user\\AppData\\Local\\Temp\\ipykernel_70304\\1634882094.py:51: FutureWarning: `tokenizer` is deprecated and will be removed in version 5.0.0 for `Trainer.__init__`. Use `processing_class` instead.\n",
      "  trainer_hpo = Trainer(\n",
      "Trainer.tokenizer is now deprecated. You should use Trainer.processing_class instead.\n",
      "c:\\Users\\user\\AppData\\Local\\Programs\\Python\\Python312\\Lib\\site-packages\\torch\\_dynamo\\eval_frame.py:632: UserWarning: torch.utils.checkpoint: the use_reentrant parameter should be passed explicitly. In version 2.5 we will raise an exception if use_reentrant is not passed. use_reentrant=False is recommended, but if you need to preserve the current default behavior, you can pass use_reentrant=True. Refer to docs for more details on the differences between the two variants.\n",
      "  return fn(*args, **kwargs)\n"
     ]
    },
    {
     "data": {
      "text/html": [
       "\n",
       "    <div>\n",
       "      \n",
       "      <progress value='294' max='294' style='width:300px; height:20px; vertical-align: middle;'></progress>\n",
       "      [294/294 10:51, Epoch 2/2]\n",
       "    </div>\n",
       "    <table border=\"1\" class=\"dataframe\">\n",
       "  <thead>\n",
       " <tr style=\"text-align: left;\">\n",
       "      <th>Epoch</th>\n",
       "      <th>Training Loss</th>\n",
       "      <th>Validation Loss</th>\n",
       "      <th>Accuracy</th>\n",
       "      <th>F1 Macro</th>\n",
       "    </tr>\n",
       "  </thead>\n",
       "  <tbody>\n",
       "    <tr>\n",
       "      <td>1</td>\n",
       "      <td>6.332900</td>\n",
       "      <td>1.457549</td>\n",
       "      <td>0.328790</td>\n",
       "      <td>0.221499</td>\n",
       "    </tr>\n",
       "    <tr>\n",
       "      <td>2</td>\n",
       "      <td>5.898200</td>\n",
       "      <td>1.411649</td>\n",
       "      <td>0.340716</td>\n",
       "      <td>0.226088</td>\n",
       "    </tr>\n",
       "  </tbody>\n",
       "</table><p>"
      ],
      "text/plain": [
       "<IPython.core.display.HTML object>"
      ]
     },
     "metadata": {},
     "output_type": "display_data"
    },
    {
     "name": "stderr",
     "output_type": "stream",
     "text": [
      "c:\\Users\\user\\AppData\\Local\\Programs\\Python\\Python312\\Lib\\site-packages\\torch\\_dynamo\\eval_frame.py:632: UserWarning: torch.utils.checkpoint: the use_reentrant parameter should be passed explicitly. In version 2.5 we will raise an exception if use_reentrant is not passed. use_reentrant=False is recommended, but if you need to preserve the current default behavior, you can pass use_reentrant=True. Refer to docs for more details on the differences between the two variants.\n",
      "  return fn(*args, **kwargs)\n"
     ]
    },
    {
     "data": {
      "text/html": [
       "\n",
       "    <div>\n",
       "      \n",
       "      <progress value='147' max='147' style='width:300px; height:20px; vertical-align: middle;'></progress>\n",
       "      [147/147 00:25]\n",
       "    </div>\n",
       "    "
      ],
      "text/plain": [
       "<IPython.core.display.HTML object>"
      ]
     },
     "metadata": {},
     "output_type": "display_data"
    },
    {
     "name": "stderr",
     "output_type": "stream",
     "text": [
      "[I 2025-09-07 00:54:54,999] Trial 5 finished with value: 0.22608847554211792 and parameters: {'learning_rate': 6.301690669874866e-06, 'weight_decay': 0.07340380320813211, 'warmup_ratio': 0.11771053175066101, 'per_device_train_batch_size': 4, 'gradient_accumulation_steps': 4, 'max_length': 64, 'num_train_epochs': 2, 'lora_r': 8, 'lora_alpha': 16, 'lora_dropout': 0.0404120981538865}. Best is trial 3 with value: 0.6372780454871406.\n",
      "Map: 100%|██████████| 2344/2344 [00:00<00:00, 24823.94 examples/s]\n",
      "Map: 100%|██████████| 587/587 [00:00<00:00, 20241.18 examples/s]\n",
      "Some weights of LlamaForSequenceClassification were not initialized from the model checkpoint at TinyLlama/TinyLlama-1.1B-Chat-v1.0 and are newly initialized: ['score.weight']\n",
      "You should probably TRAIN this model on a down-stream task to be able to use it for predictions and inference.\n",
      "C:\\Users\\user\\AppData\\Local\\Temp\\ipykernel_70304\\1634882094.py:51: FutureWarning: `tokenizer` is deprecated and will be removed in version 5.0.0 for `Trainer.__init__`. Use `processing_class` instead.\n",
      "  trainer_hpo = Trainer(\n",
      "Trainer.tokenizer is now deprecated. You should use Trainer.processing_class instead.\n",
      "c:\\Users\\user\\AppData\\Local\\Programs\\Python\\Python312\\Lib\\site-packages\\torch\\_dynamo\\eval_frame.py:632: UserWarning: torch.utils.checkpoint: the use_reentrant parameter should be passed explicitly. In version 2.5 we will raise an exception if use_reentrant is not passed. use_reentrant=False is recommended, but if you need to preserve the current default behavior, you can pass use_reentrant=True. Refer to docs for more details on the differences between the two variants.\n",
      "  return fn(*args, **kwargs)\n"
     ]
    },
    {
     "data": {
      "text/html": [
       "\n",
       "    <div>\n",
       "      \n",
       "      <progress value='147' max='147' style='width:300px; height:20px; vertical-align: middle;'></progress>\n",
       "      [147/147 09:22, Epoch 1/1]\n",
       "    </div>\n",
       "    <table border=\"1\" class=\"dataframe\">\n",
       "  <thead>\n",
       " <tr style=\"text-align: left;\">\n",
       "      <th>Epoch</th>\n",
       "      <th>Training Loss</th>\n",
       "      <th>Validation Loss</th>\n",
       "      <th>Accuracy</th>\n",
       "      <th>F1 Macro</th>\n",
       "    </tr>\n",
       "  </thead>\n",
       "  <tbody>\n",
       "    <tr>\n",
       "      <td>1</td>\n",
       "      <td>10.858400</td>\n",
       "      <td>1.242625</td>\n",
       "      <td>0.427598</td>\n",
       "      <td>0.352511</td>\n",
       "    </tr>\n",
       "  </tbody>\n",
       "</table><p>"
      ],
      "text/plain": [
       "<IPython.core.display.HTML object>"
      ]
     },
     "metadata": {},
     "output_type": "display_data"
    },
    {
     "data": {
      "text/html": [
       "\n",
       "    <div>\n",
       "      \n",
       "      <progress value='294' max='294' style='width:300px; height:20px; vertical-align: middle;'></progress>\n",
       "      [294/294 00:42]\n",
       "    </div>\n",
       "    "
      ],
      "text/plain": [
       "<IPython.core.display.HTML object>"
      ]
     },
     "metadata": {},
     "output_type": "display_data"
    },
    {
     "name": "stderr",
     "output_type": "stream",
     "text": [
      "[I 2025-09-07 01:05:07,561] Trial 6 finished with value: 0.3525111452088656 and parameters: {'learning_rate': 3.882536707141186e-05, 'weight_decay': 0.02220610037029891, 'warmup_ratio': 0.039235722439650525, 'per_device_train_batch_size': 2, 'gradient_accumulation_steps': 8, 'max_length': 96, 'num_train_epochs': 1, 'lora_r': 8, 'lora_alpha': 8, 'lora_dropout': 0.08500990749227726}. Best is trial 3 with value: 0.6372780454871406.\n",
      "Map: 100%|██████████| 2344/2344 [00:00<00:00, 25093.16 examples/s]\n",
      "Map: 100%|██████████| 587/587 [00:00<00:00, 25522.27 examples/s]\n",
      "Some weights of LlamaForSequenceClassification were not initialized from the model checkpoint at TinyLlama/TinyLlama-1.1B-Chat-v1.0 and are newly initialized: ['score.weight']\n",
      "You should probably TRAIN this model on a down-stream task to be able to use it for predictions and inference.\n",
      "C:\\Users\\user\\AppData\\Local\\Temp\\ipykernel_70304\\1634882094.py:51: FutureWarning: `tokenizer` is deprecated and will be removed in version 5.0.0 for `Trainer.__init__`. Use `processing_class` instead.\n",
      "  trainer_hpo = Trainer(\n",
      "Trainer.tokenizer is now deprecated. You should use Trainer.processing_class instead.\n",
      "c:\\Users\\user\\AppData\\Local\\Programs\\Python\\Python312\\Lib\\site-packages\\torch\\_dynamo\\eval_frame.py:632: UserWarning: torch.utils.checkpoint: the use_reentrant parameter should be passed explicitly. In version 2.5 we will raise an exception if use_reentrant is not passed. use_reentrant=False is recommended, but if you need to preserve the current default behavior, you can pass use_reentrant=True. Refer to docs for more details on the differences between the two variants.\n",
      "  return fn(*args, **kwargs)\n"
     ]
    },
    {
     "data": {
      "text/html": [
       "\n",
       "    <div>\n",
       "      \n",
       "      <progress value='294' max='294' style='width:300px; height:20px; vertical-align: middle;'></progress>\n",
       "      [294/294 18:57, Epoch 2/2]\n",
       "    </div>\n",
       "    <table border=\"1\" class=\"dataframe\">\n",
       "  <thead>\n",
       " <tr style=\"text-align: left;\">\n",
       "      <th>Epoch</th>\n",
       "      <th>Training Loss</th>\n",
       "      <th>Validation Loss</th>\n",
       "      <th>Accuracy</th>\n",
       "      <th>F1 Macro</th>\n",
       "    </tr>\n",
       "  </thead>\n",
       "  <tbody>\n",
       "    <tr>\n",
       "      <td>1</td>\n",
       "      <td>7.921000</td>\n",
       "      <td>0.720629</td>\n",
       "      <td>0.710392</td>\n",
       "      <td>0.661447</td>\n",
       "    </tr>\n",
       "    <tr>\n",
       "      <td>2</td>\n",
       "      <td>3.516600</td>\n",
       "      <td>0.681470</td>\n",
       "      <td>0.722317</td>\n",
       "      <td>0.668623</td>\n",
       "    </tr>\n",
       "  </tbody>\n",
       "</table><p>"
      ],
      "text/plain": [
       "<IPython.core.display.HTML object>"
      ]
     },
     "metadata": {},
     "output_type": "display_data"
    },
    {
     "name": "stderr",
     "output_type": "stream",
     "text": [
      "c:\\Users\\user\\AppData\\Local\\Programs\\Python\\Python312\\Lib\\site-packages\\torch\\_dynamo\\eval_frame.py:632: UserWarning: torch.utils.checkpoint: the use_reentrant parameter should be passed explicitly. In version 2.5 we will raise an exception if use_reentrant is not passed. use_reentrant=False is recommended, but if you need to preserve the current default behavior, you can pass use_reentrant=True. Refer to docs for more details on the differences between the two variants.\n",
      "  return fn(*args, **kwargs)\n"
     ]
    },
    {
     "data": {
      "text/html": [
       "\n",
       "    <div>\n",
       "      \n",
       "      <progress value='294' max='294' style='width:300px; height:20px; vertical-align: middle;'></progress>\n",
       "      [294/294 00:43]\n",
       "    </div>\n",
       "    "
      ],
      "text/plain": [
       "<IPython.core.display.HTML object>"
      ]
     },
     "metadata": {},
     "output_type": "display_data"
    },
    {
     "name": "stderr",
     "output_type": "stream",
     "text": [
      "[I 2025-09-07 01:24:55,147] Trial 7 finished with value: 0.6686226579061819 and parameters: {'learning_rate': 0.0001593475501651878, 'weight_decay': 0.04011490377308109, 'warmup_ratio': 0.008224698649940703, 'per_device_train_batch_size': 2, 'gradient_accumulation_steps': 8, 'max_length': 96, 'num_train_epochs': 2, 'lora_r': 4, 'lora_alpha': 16, 'lora_dropout': 0.061540017229769685}. Best is trial 7 with value: 0.6686226579061819.\n",
      "Map: 100%|██████████| 2344/2344 [00:00<00:00, 22971.53 examples/s]\n",
      "Map: 100%|██████████| 587/587 [00:00<00:00, 22574.21 examples/s]\n",
      "Some weights of LlamaForSequenceClassification were not initialized from the model checkpoint at TinyLlama/TinyLlama-1.1B-Chat-v1.0 and are newly initialized: ['score.weight']\n",
      "You should probably TRAIN this model on a down-stream task to be able to use it for predictions and inference.\n",
      "C:\\Users\\user\\AppData\\Local\\Temp\\ipykernel_70304\\1634882094.py:51: FutureWarning: `tokenizer` is deprecated and will be removed in version 5.0.0 for `Trainer.__init__`. Use `processing_class` instead.\n",
      "  trainer_hpo = Trainer(\n",
      "Trainer.tokenizer is now deprecated. You should use Trainer.processing_class instead.\n",
      "c:\\Users\\user\\AppData\\Local\\Programs\\Python\\Python312\\Lib\\site-packages\\torch\\_dynamo\\eval_frame.py:632: UserWarning: torch.utils.checkpoint: the use_reentrant parameter should be passed explicitly. In version 2.5 we will raise an exception if use_reentrant is not passed. use_reentrant=False is recommended, but if you need to preserve the current default behavior, you can pass use_reentrant=True. Refer to docs for more details on the differences between the two variants.\n",
      "  return fn(*args, **kwargs)\n"
     ]
    },
    {
     "data": {
      "text/html": [
       "\n",
       "    <div>\n",
       "      \n",
       "      <progress value='147' max='147' style='width:300px; height:20px; vertical-align: middle;'></progress>\n",
       "      [147/147 09:25, Epoch 1/1]\n",
       "    </div>\n",
       "    <table border=\"1\" class=\"dataframe\">\n",
       "  <thead>\n",
       " <tr style=\"text-align: left;\">\n",
       "      <th>Epoch</th>\n",
       "      <th>Training Loss</th>\n",
       "      <th>Validation Loss</th>\n",
       "      <th>Accuracy</th>\n",
       "      <th>F1 Macro</th>\n",
       "    </tr>\n",
       "  </thead>\n",
       "  <tbody>\n",
       "    <tr>\n",
       "      <td>1</td>\n",
       "      <td>12.644200</td>\n",
       "      <td>1.496632</td>\n",
       "      <td>0.289608</td>\n",
       "      <td>0.234290</td>\n",
       "    </tr>\n",
       "  </tbody>\n",
       "</table><p>"
      ],
      "text/plain": [
       "<IPython.core.display.HTML object>"
      ]
     },
     "metadata": {},
     "output_type": "display_data"
    },
    {
     "data": {
      "text/html": [
       "\n",
       "    <div>\n",
       "      \n",
       "      <progress value='294' max='294' style='width:300px; height:20px; vertical-align: middle;'></progress>\n",
       "      [294/294 00:43]\n",
       "    </div>\n",
       "    "
      ],
      "text/plain": [
       "<IPython.core.display.HTML object>"
      ]
     },
     "metadata": {},
     "output_type": "display_data"
    },
    {
     "name": "stderr",
     "output_type": "stream",
     "text": [
      "[I 2025-09-07 01:35:10,841] Trial 8 finished with value: 0.234290354957525 and parameters: {'learning_rate': 5.368256814350094e-06, 'weight_decay': 0.06920683638519667, 'warmup_ratio': 0.0019716362267413134, 'per_device_train_batch_size': 2, 'gradient_accumulation_steps': 8, 'max_length': 96, 'num_train_epochs': 1, 'lora_r': 16, 'lora_alpha': 8, 'lora_dropout': 0.09038543288769499}. Best is trial 7 with value: 0.6686226579061819.\n",
      "Map: 100%|██████████| 2344/2344 [00:00<00:00, 25097.00 examples/s]\n",
      "Map: 100%|██████████| 587/587 [00:00<00:00, 18942.39 examples/s]\n",
      "Some weights of LlamaForSequenceClassification were not initialized from the model checkpoint at TinyLlama/TinyLlama-1.1B-Chat-v1.0 and are newly initialized: ['score.weight']\n",
      "You should probably TRAIN this model on a down-stream task to be able to use it for predictions and inference.\n",
      "C:\\Users\\user\\AppData\\Local\\Temp\\ipykernel_70304\\1634882094.py:51: FutureWarning: `tokenizer` is deprecated and will be removed in version 5.0.0 for `Trainer.__init__`. Use `processing_class` instead.\n",
      "  trainer_hpo = Trainer(\n",
      "Trainer.tokenizer is now deprecated. You should use Trainer.processing_class instead.\n",
      "c:\\Users\\user\\AppData\\Local\\Programs\\Python\\Python312\\Lib\\site-packages\\torch\\_dynamo\\eval_frame.py:632: UserWarning: torch.utils.checkpoint: the use_reentrant parameter should be passed explicitly. In version 2.5 we will raise an exception if use_reentrant is not passed. use_reentrant=False is recommended, but if you need to preserve the current default behavior, you can pass use_reentrant=True. Refer to docs for more details on the differences between the two variants.\n",
      "  return fn(*args, **kwargs)\n"
     ]
    },
    {
     "data": {
      "text/html": [
       "\n",
       "    <div>\n",
       "      \n",
       "      <progress value='147' max='147' style='width:300px; height:20px; vertical-align: middle;'></progress>\n",
       "      [147/147 09:25, Epoch 1/1]\n",
       "    </div>\n",
       "    <table border=\"1\" class=\"dataframe\">\n",
       "  <thead>\n",
       " <tr style=\"text-align: left;\">\n",
       "      <th>Epoch</th>\n",
       "      <th>Training Loss</th>\n",
       "      <th>Validation Loss</th>\n",
       "      <th>Accuracy</th>\n",
       "      <th>F1 Macro</th>\n",
       "    </tr>\n",
       "  </thead>\n",
       "  <tbody>\n",
       "    <tr>\n",
       "      <td>1</td>\n",
       "      <td>11.972200</td>\n",
       "      <td>1.468514</td>\n",
       "      <td>0.332198</td>\n",
       "      <td>0.228369</td>\n",
       "    </tr>\n",
       "  </tbody>\n",
       "</table><p>"
      ],
      "text/plain": [
       "<IPython.core.display.HTML object>"
      ]
     },
     "metadata": {},
     "output_type": "display_data"
    },
    {
     "data": {
      "text/html": [
       "\n",
       "    <div>\n",
       "      \n",
       "      <progress value='294' max='294' style='width:300px; height:20px; vertical-align: middle;'></progress>\n",
       "      [294/294 00:43]\n",
       "    </div>\n",
       "    "
      ],
      "text/plain": [
       "<IPython.core.display.HTML object>"
      ]
     },
     "metadata": {},
     "output_type": "display_data"
    },
    {
     "name": "stderr",
     "output_type": "stream",
     "text": [
      "[I 2025-09-07 01:45:26,249] Trial 9 finished with value: 0.22836921054490236 and parameters: {'learning_rate': 7.998898737699603e-06, 'weight_decay': 0.005444100064996827, 'warmup_ratio': 0.014033972073078504, 'per_device_train_batch_size': 2, 'gradient_accumulation_steps': 8, 'max_length': 96, 'num_train_epochs': 1, 'lora_r': 16, 'lora_alpha': 16, 'lora_dropout': 0.035040059052860006}. Best is trial 7 with value: 0.6686226579061819.\n"
     ]
    }
   ],
   "source": [
    "study = optuna.create_study(direction=\"maximize\")\n",
    "study.optimize(objective, n_trials=10, show_progress_bar=False)"
   ]
  },
  {
   "cell_type": "code",
   "execution_count": 20,
   "id": "b2350997",
   "metadata": {},
   "outputs": [
    {
     "name": "stdout",
     "output_type": "stream",
     "text": [
      "\n",
      "=== BEST HPO ===\n",
      "f1_macro: 0.6686226579061819\n",
      "params: {'learning_rate': 0.0001593475501651878, 'weight_decay': 0.04011490377308109, 'warmup_ratio': 0.008224698649940703, 'per_device_train_batch_size': 2, 'gradient_accumulation_steps': 8, 'max_length': 96, 'num_train_epochs': 2, 'lora_r': 4, 'lora_alpha': 16, 'lora_dropout': 0.061540017229769685}\n"
     ]
    }
   ],
   "source": [
    "print(\"\\n=== BEST HPO ===\")\n",
    "print(\"f1_macro:\", study.best_value)\n",
    "print(\"params:\", study.best_params)"
   ]
  },
  {
   "cell_type": "code",
   "execution_count": 21,
   "id": "504ab69f",
   "metadata": {},
   "outputs": [],
   "source": [
    "best = study.best_params.copy()\n",
    "best_max_len = best.pop(\"max_length\", MAX_LEN)\n",
    "_ = best.pop(\"num_train_epochs\", None)"
   ]
  },
  {
   "cell_type": "code",
   "execution_count": 22,
   "id": "1a5b2f8a",
   "metadata": {},
   "outputs": [
    {
     "name": "stderr",
     "output_type": "stream",
     "text": [
      "Map: 100%|██████████| 86825/86825 [00:03<00:00, 25601.82 examples/s]\n",
      "Map: 100%|██████████| 21707/21707 [00:00<00:00, 26956.79 examples/s]\n"
     ]
    }
   ],
   "source": [
    "# --- retrain on full dataset ---\n",
    "train_full, val_full = train_test_split(\n",
    "    df[[TEXT_COL, \"label\"]],\n",
    "    test_size=0.2,\n",
    "    stratify=df[\"label\"],\n",
    "    random_state=42\n",
    ")\n",
    "train_ds_full, val_ds_full = make_hf_ds(train_full, val_full, max_length=best_max_len)"
   ]
  },
  {
   "cell_type": "code",
   "execution_count": 23,
   "id": "1a688680",
   "metadata": {},
   "outputs": [
    {
     "name": "stderr",
     "output_type": "stream",
     "text": [
      "Some weights of LlamaForSequenceClassification were not initialized from the model checkpoint at TinyLlama/TinyLlama-1.1B-Chat-v1.0 and are newly initialized: ['score.weight']\n",
      "You should probably TRAIN this model on a down-stream task to be able to use it for predictions and inference.\n"
     ]
    }
   ],
   "source": [
    "base_final = AutoModelForSequenceClassification.from_pretrained(\n",
    "    model_ckpt,\n",
    "    num_labels=len(VALID),\n",
    "    quantization_config=bnb_config,\n",
    "    device_map=\"auto\",\n",
    "    trust_remote_code=True,\n",
    ")\n",
    "base_final.config.pad_token_id = tokenizer.pad_token_id\n",
    "base_final = prepare_model_for_kbit_training(base_final)"
   ]
  },
  {
   "cell_type": "code",
   "execution_count": 24,
   "id": "6283d223",
   "metadata": {},
   "outputs": [],
   "source": [
    "lcfg_final = LoraConfig(\n",
    "    task_type=TaskType.SEQ_CLS,\n",
    "    r=best.get(\"lora_r\", 8),\n",
    "    lora_alpha=best.get(\"lora_alpha\", 16),\n",
    "    lora_dropout=best.get(\"lora_dropout\", 0.05),\n",
    "    bias=\"none\",\n",
    "    target_modules=[\"q_proj\",\"k_proj\",\"v_proj\",\"o_proj\",\"gate_proj\",\"up_proj\",\"down_proj\"],\n",
    ")\n",
    "model_final = get_peft_model(base_final, lcfg_final)"
   ]
  },
  {
   "cell_type": "code",
   "execution_count": 25,
   "id": "23b59bf1",
   "metadata": {},
   "outputs": [],
   "source": [
    "final_epochs = 3\n",
    "args_final = TrainingArguments(\n",
    "    output_dir=\"model/llama_qlora/final_best\",\n",
    "    per_device_train_batch_size=best.get(\"per_device_train_batch_size\", 2),\n",
    "    per_device_eval_batch_size=min(best.get(\"per_device_train_batch_size\", 2), 8),\n",
    "    gradient_accumulation_steps=best.get(\"gradient_accumulation_steps\", 8),\n",
    "    learning_rate=best.get(\"learning_rate\", 2e-5),\n",
    "    weight_decay=best.get(\"weight_decay\", 0.01),\n",
    "    warmup_ratio=best.get(\"warmup_ratio\", 0.0),\n",
    "    num_train_epochs=final_epochs,\n",
    "    eval_strategy=\"epoch\",\n",
    "    save_strategy=\"no\",\n",
    "    logging_steps=100,\n",
    "    report_to=[],\n",
    ")"
   ]
  },
  {
   "cell_type": "code",
   "execution_count": 28,
   "id": "f20cb0ae",
   "metadata": {},
   "outputs": [
    {
     "name": "stderr",
     "output_type": "stream",
     "text": [
      "C:\\Users\\user\\AppData\\Local\\Temp\\ipykernel_70304\\4125956908.py:1: FutureWarning: `tokenizer` is deprecated and will be removed in version 5.0.0 for `Trainer.__init__`. Use `processing_class` instead.\n",
      "  trainer_final = Trainer(\n"
     ]
    }
   ],
   "source": [
    "trainer_final = Trainer(\n",
    "    model=model_final,\n",
    "    args=args_final,\n",
    "    train_dataset=train_ds_full,\n",
    "    eval_dataset=val_ds_full,\n",
    "    tokenizer=tokenizer,\n",
    "    data_collator=data_collator,\n",
    "    compute_metrics=compute_metrics,\n",
    "    # callbacks=[EarlyStoppingCallback(early_stopping_patience=2)],\n",
    ")"
   ]
  },
  {
   "cell_type": "code",
   "execution_count": 29,
   "id": "98a7c61e",
   "metadata": {},
   "outputs": [
    {
     "name": "stderr",
     "output_type": "stream",
     "text": [
      "Trainer.tokenizer is now deprecated. You should use Trainer.processing_class instead.\n",
      "c:\\Users\\user\\AppData\\Local\\Programs\\Python\\Python312\\Lib\\site-packages\\torch\\_dynamo\\eval_frame.py:632: UserWarning: torch.utils.checkpoint: the use_reentrant parameter should be passed explicitly. In version 2.5 we will raise an exception if use_reentrant is not passed. use_reentrant=False is recommended, but if you need to preserve the current default behavior, you can pass use_reentrant=True. Refer to docs for more details on the differences between the two variants.\n",
      "  return fn(*args, **kwargs)\n"
     ]
    },
    {
     "data": {
      "text/html": [
       "\n",
       "    <div>\n",
       "      \n",
       "      <progress value='16281' max='16281' style='width:300px; height:20px; vertical-align: middle;'></progress>\n",
       "      [16281/16281 17:31:08, Epoch 3/3]\n",
       "    </div>\n",
       "    <table border=\"1\" class=\"dataframe\">\n",
       "  <thead>\n",
       " <tr style=\"text-align: left;\">\n",
       "      <th>Epoch</th>\n",
       "      <th>Training Loss</th>\n",
       "      <th>Validation Loss</th>\n",
       "      <th>Accuracy</th>\n",
       "      <th>F1 Macro</th>\n",
       "    </tr>\n",
       "  </thead>\n",
       "  <tbody>\n",
       "    <tr>\n",
       "      <td>1</td>\n",
       "      <td>2.348600</td>\n",
       "      <td>0.260566</td>\n",
       "      <td>0.899894</td>\n",
       "      <td>0.875657</td>\n",
       "    </tr>\n",
       "    <tr>\n",
       "      <td>2</td>\n",
       "      <td>1.708300</td>\n",
       "      <td>0.276121</td>\n",
       "      <td>0.912885</td>\n",
       "      <td>0.890937</td>\n",
       "    </tr>\n",
       "    <tr>\n",
       "      <td>3</td>\n",
       "      <td>0.852600</td>\n",
       "      <td>0.573133</td>\n",
       "      <td>0.915788</td>\n",
       "      <td>0.894718</td>\n",
       "    </tr>\n",
       "  </tbody>\n",
       "</table><p>"
      ],
      "text/plain": [
       "<IPython.core.display.HTML object>"
      ]
     },
     "metadata": {},
     "output_type": "display_data"
    },
    {
     "name": "stderr",
     "output_type": "stream",
     "text": [
      "c:\\Users\\user\\AppData\\Local\\Programs\\Python\\Python312\\Lib\\site-packages\\torch\\_dynamo\\eval_frame.py:632: UserWarning: torch.utils.checkpoint: the use_reentrant parameter should be passed explicitly. In version 2.5 we will raise an exception if use_reentrant is not passed. use_reentrant=False is recommended, but if you need to preserve the current default behavior, you can pass use_reentrant=True. Refer to docs for more details on the differences between the two variants.\n",
      "  return fn(*args, **kwargs)\n",
      "c:\\Users\\user\\AppData\\Local\\Programs\\Python\\Python312\\Lib\\site-packages\\torch\\_dynamo\\eval_frame.py:632: UserWarning: torch.utils.checkpoint: the use_reentrant parameter should be passed explicitly. In version 2.5 we will raise an exception if use_reentrant is not passed. use_reentrant=False is recommended, but if you need to preserve the current default behavior, you can pass use_reentrant=True. Refer to docs for more details on the differences between the two variants.\n",
      "  return fn(*args, **kwargs)\n"
     ]
    },
    {
     "data": {
      "text/plain": [
       "TrainOutput(global_step=16281, training_loss=1.801593168047911, metrics={'train_runtime': 63072.537, 'train_samples_per_second': 4.13, 'train_steps_per_second': 0.258, 'total_flos': 1.458546673287168e+17, 'train_loss': 1.801593168047911, 'epoch': 3.0})"
      ]
     },
     "execution_count": 29,
     "metadata": {},
     "output_type": "execute_result"
    }
   ],
   "source": [
    "trainer_final.train()"
   ]
  },
  {
   "cell_type": "code",
   "execution_count": 30,
   "id": "8f614503",
   "metadata": {},
   "outputs": [
    {
     "data": {
      "text/html": [],
      "text/plain": [
       "<IPython.core.display.HTML object>"
      ]
     },
     "metadata": {},
     "output_type": "display_data"
    },
    {
     "name": "stdout",
     "output_type": "stream",
     "text": [
      "\n",
      "=== FINAL REPORT (TinyLLaMA QLoRA) ===\n",
      "              precision    recall  f1-score   support\n",
      "\n",
      "           C       0.92      0.90      0.91      3388\n",
      "           G       0.92      0.93      0.93      5736\n",
      "         W/Q       0.95      0.94      0.94      9830\n",
      "         OTH       0.79      0.80      0.80      2753\n",
      "\n",
      "    accuracy                           0.92     21707\n",
      "   macro avg       0.89      0.89      0.89     21707\n",
      "weighted avg       0.92      0.92      0.92     21707\n",
      "\n"
     ]
    }
   ],
   "source": [
    "# --- evaluation ---\n",
    "preds_final = trainer_final.predict(val_ds_full)\n",
    "y_true_final = preds_final.label_ids\n",
    "y_pred_final = np.argmax(preds_final.predictions, axis=1)\n",
    "\n",
    "print(\"\\n=== FINAL REPORT (TinyLLaMA QLoRA) ===\")\n",
    "print(classification_report(\n",
    "    y_true_final, y_pred_final,\n",
    "    labels=list(range(len(VALID))),\n",
    "    target_names=VALID,\n",
    "    zero_division=0\n",
    "))\n"
   ]
  },
  {
   "cell_type": "code",
   "execution_count": 31,
   "id": "d510a40b",
   "metadata": {},
   "outputs": [
    {
     "name": "stdout",
     "output_type": "stream",
     "text": [
      "Confusion Matrix:\n",
      " [[3052   39  124  173]\n",
      " [  33 5341  193  169]\n",
      " [ 114  192 9275  249]\n",
      " [ 111  218  213 2211]]\n"
     ]
    },
    {
     "data": {
      "image/png": "[encoded data removed]",
      "text/plain": [
       "<Figure size 640x480 with 2 Axes>"
      ]
     },
     "metadata": {},
     "output_type": "display_data"
    }
   ],
   "source": [
    "cm = confusion_matrix(y_true_final, y_pred_final, labels=list(range(len(VALID))))\n",
    "print(\"Confusion Matrix:\\n\", cm)\n",
    "ConfusionMatrixDisplay(confusion_matrix=cm, display_labels=VALID).plot(\n",
    "    cmap=plt.cm.Blues, xticks_rotation=45\n",
    ")\n",
    "plt.title(\"Confusion Matrix — Final TinyLLaMA QLoRA\")\n",
    "plt.tight_layout(); plt.show()"
   ]
  },
  {
   "cell_type": "code",
   "execution_count": 32,
   "id": "e15688cc",
   "metadata": {},
   "outputs": [
    {
     "data": {
      "image/png": "[encoded data removed]",
      "text/plain": [
       "<Figure size 700x600 with 1 Axes>"
      ]
     },
     "metadata": {},
     "output_type": "display_data"
    }
   ],
   "source": [
    "# --- ROC/AUC ---\n",
    "probs_all = softmax(preds_final.predictions, axis=1)\n",
    "y_true_bin = label_binarize(y_true_final, classes=list(range(len(VALID))))\n",
    "fpr, tpr, roc_auc = {}, {}, {}\n",
    "for i in range(len(VALID)):\n",
    "    if y_true_bin[:, i].sum() > 0:\n",
    "        fpr[i], tpr[i], _ = roc_curve(y_true_bin[:, i], probs_all[:, i])\n",
    "        roc_auc[i] = auc(fpr[i], tpr[i])\n",
    "fpr[\"micro\"], tpr[\"micro\"], _ = roc_curve(y_true_bin.ravel(), probs_all.ravel())\n",
    "roc_auc[\"micro\"] = auc(fpr[\"micro\"], tpr[\"micro\"])\n",
    "roc_auc[\"macro\"] = np.mean(list(roc_auc.values()))\n",
    "\n",
    "plt.figure(figsize=(7,6))\n",
    "for i in range(len(VALID)):\n",
    "    if i in fpr:\n",
    "        plt.plot(fpr[i], tpr[i], label=f\"{VALID[i]} (AUC={roc_auc[i]:.3f})\")\n",
    "plt.plot(fpr[\"micro\"], tpr[\"micro\"], linestyle=\"--\", label=f\"micro (AUC={roc_auc['micro']:.3f})\")\n",
    "plt.plot([0,1],[0,1],\"--\",color=\"gray\")\n",
    "plt.xlabel(\"False Positive Rate\"); plt.ylabel(\"True Positive Rate\")\n",
    "plt.title(\"ROC Curves — Final TinyLLaMA QLoRA\")\n",
    "plt.legend(loc=\"lower right\"); plt.tight_layout(); plt.show()"
   ]
  },
  {
   "cell_type": "code",
   "execution_count": 33,
   "id": "7c9c474c",
   "metadata": {},
   "outputs": [
    {
     "name": "stdout",
     "output_type": "stream",
     "text": [
      "Saved final best TinyLLaMA QLoRA model to: 3_model/tinyllama_qlora_best\n",
      "Best HPO params: {'learning_rate': 0.0001593475501651878, 'weight_decay': 0.04011490377308109, 'warmup_ratio': 0.008224698649940703, 'per_device_train_batch_size': 2, 'gradient_accumulation_steps': 8, 'lora_r': 4, 'lora_alpha': 16, 'lora_dropout': 0.061540017229769685, 'max_length': 96, 'final_epochs': 3}\n"
     ]
    }
   ],
   "source": [
    "# --- save best model ---\n",
    "SAVE_DIR = \"3_model/tinyllama_qlora_best\"\n",
    "trainer_final.save_model(SAVE_DIR)\n",
    "tokenizer.save_pretrained(SAVE_DIR)\n",
    "print(\"Saved final best TinyLLaMA QLoRA model to:\", SAVE_DIR)\n",
    "print(\"Best HPO params:\", {**best, \"max_length\": best_max_len, \"final_epochs\": final_epochs})"
   ]
  }
 ],
 "metadata": {
  "kernelspec": {
   "display_name": "Python 3",
   "language": "python",
   "name": "python3"
  },
  "language_info": {
   "codemirror_mode": {
    "name": "ipython",
    "version": 3
   },
   "file_extension": ".py",
   "mimetype": "text/x-python",
   "name": "python",
   "nbconvert_exporter": "python",
   "pygments_lexer": "ipython3",
   "version": "3.12.9"
  }
 },
 "nbformat": 4,
 "nbformat_minor": 5
}
