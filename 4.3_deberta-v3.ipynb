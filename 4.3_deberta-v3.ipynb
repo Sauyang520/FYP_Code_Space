{
 "cells": [
  {
   "cell_type": "code",
   "execution_count": 12,
   "id": "be399956",
   "metadata": {},
   "outputs": [],
   "source": [
    "import pandas as pd\n",
    "import numpy as np\n",
    "import torch\n",
    "from sklearn.model_selection import train_test_split\n",
    "from sklearn.metrics import classification_report, accuracy_score, f1_score\n",
    "from transformers import (\n",
    "    AutoTokenizer,\n",
    "    AutoModelForSequenceClassification,\n",
    "    Trainer,\n",
    "    TrainingArguments,\n",
    "    DataCollatorWithPadding\n",
    ")\n",
    "from datasets import Dataset\n",
    "from sklearn.preprocessing import label_binarize\n",
    "from sklearn.metrics import confusion_matrix, ConfusionMatrixDisplay, roc_curve, auc\n",
    "from scipy.special import softmax\n",
    "import matplotlib.pyplot as plt\n",
    "import optuna\n",
    "from collections import Counter\n",
    "from transformers import EarlyStoppingCallback"
   ]
  },
  {
   "cell_type": "code",
   "execution_count": 13,
   "id": "c168911e",
   "metadata": {},
   "outputs": [],
   "source": [
    "# Load dataset\n",
    "file_path = \"2_processed_data/labelled_dataset_revised.csv\"\n",
    "df = pd.read_csv(file_path, encoding=\"latin1\")\n",
    "\n",
    "valid = ['C', 'G', 'W/Q', 'OTH']\n",
    "df = df[df['revised_argument_type'].isin(valid)].copy()\n",
    "\n",
    "df['input'] = df['sentence']\n",
    "label_map = {label: idx for idx, label in enumerate(valid)}\n",
    "inv_label_map = {idx: label for label, idx in label_map.items()}\n",
    "df['label'] = df['revised_argument_type'].map(label_map).astype(int)"
   ]
  },
  {
   "cell_type": "code",
   "execution_count": null,
   "id": "523e68b1",
   "metadata": {},
   "outputs": [],
   "source": [
    "# Stratified Split\n",
    "train_texts, val_texts, train_labels, val_labels = train_test_split(\n",
    "    df['input'].tolist(),\n",
    "    df['label'].tolist(),\n",
    "    test_size=0.2,\n",
    "    stratify=df['label'],\n",
    "    random_state=42\n",
    ")"
   ]
  },
  {
   "cell_type": "code",
   "execution_count": 14,
   "id": "24cb9b82",
   "metadata": {},
   "outputs": [
    {
     "name": "stderr",
     "output_type": "stream",
     "text": [
      "c:\\Users\\user\\AppData\\Local\\Programs\\Python\\Python312\\Lib\\site-packages\\transformers\\convert_slow_tokenizer.py:564: UserWarning: The sentencepiece tokenizer that you are converting to a fast tokenizer uses the byte fallback option which is not implemented in the fast tokenizers. In practice this means that the fast version of the tokenizer can produce unknown tokens whereas the sentencepiece version would have converted these unknown tokens into a sequence of byte tokens matching the original piece of text.\n",
      "  warnings.warn(\n",
      "Some weights of DebertaV2ForSequenceClassification were not initialized from the model checkpoint at microsoft/deberta-v3-base and are newly initialized: ['classifier.bias', 'classifier.weight', 'pooler.dense.bias', 'pooler.dense.weight']\n",
      "You should probably TRAIN this model on a down-stream task to be able to use it for predictions and inference.\n"
     ]
    }
   ],
   "source": [
    "# Tokenizer and Model\n",
    "model_ckpt = \"microsoft/deberta-v3-base\"\n",
    "tokenizer = AutoTokenizer.from_pretrained(model_ckpt, use_fast=True)\n",
    "\n",
    "model = AutoModelForSequenceClassification.from_pretrained(\n",
    "    model_ckpt,\n",
    "    num_labels=len(valid),\n",
    "    use_safetensors=True\n",
    ")"
   ]
  },
  {
   "cell_type": "code",
   "execution_count": null,
   "id": "e4dd9de9",
   "metadata": {},
   "outputs": [],
   "source": [
    "# Tokenization\n",
    "train_enc = tokenizer(train_texts, truncation=True, padding=True, max_length=256)\n",
    "val_enc = tokenizer(val_texts, truncation=True, padding=True, max_length=256)\n",
    "train_dataset = Dataset.from_dict({\n",
    "    'input_ids': train_enc['input_ids'],\n",
    "    'attention_mask': train_enc['attention_mask'],\n",
    "    'labels': train_labels\n",
    "})\n",
    "val_dataset = Dataset.from_dict({\n",
    "    'input_ids': val_enc['input_ids'],\n",
    "    'attention_mask': val_enc['attention_mask'],\n",
    "    'labels': val_labels\n",
    "})"
   ]
  },
  {
   "cell_type": "code",
   "execution_count": 22,
   "id": "7b78b5f6",
   "metadata": {},
   "outputs": [],
   "source": [
    "# Metrics\n",
    "def compute_metrics(pred):\n",
    "    labels = pred.label_ids\n",
    "    preds = pred.predictions.argmax(-1)\n",
    "    return {\n",
    "        \"accuracy\": accuracy_score(labels, preds),\n",
    "        \"f1_macro\": f1_score(labels, preds, average=\"macro\")\n",
    "    }"
   ]
  },
  {
   "cell_type": "code",
   "execution_count": null,
   "id": "494d6e01",
   "metadata": {},
   "outputs": [],
   "source": [
    "# Training Configuration\n",
    "training_args = TrainingArguments(\n",
    "    output_dir=\"logging/deberta/results\",\n",
    "    overwrite_output_dir=True,\n",
    "    do_train=True,\n",
    "    do_eval=True,\n",
    "    eval_strategy=\"epoch\",\n",
    "    save_strategy=\"epoch\",\n",
    "    load_best_model_at_end=True,\n",
    "    metric_for_best_model=\"f1_macro\",\n",
    "    greater_is_better=True,\n",
    "\n",
    "    per_device_train_batch_size=8,\n",
    "    per_device_eval_batch_size=8,\n",
    "    gradient_accumulation_steps=2,\n",
    "\n",
    "    learning_rate=2e-5,\n",
    "    weight_decay=0.05,\n",
    "    num_train_epochs=2,\n",
    "\n",
    "    fp16=torch.cuda.is_available(),\n",
    "\n",
    "    dataloader_num_workers=4,\n",
    "    dataloader_pin_memory=True,\n",
    "    dataloader_prefetch_factor=2,\n",
    "\n",
    "    logging_dir=\"logging/deberta/logs\",\n",
    "    logging_steps=100,\n",
    "    save_total_limit=2\n",
    ")"
   ]
  },
  {
   "cell_type": "code",
   "execution_count": null,
   "id": "17cbc535",
   "metadata": {},
   "outputs": [
    {
     "name": "stderr",
     "output_type": "stream",
     "text": [
      "C:\\Users\\user\\AppData\\Local\\Temp\\ipykernel_29004\\1318337750.py:2: FutureWarning: `tokenizer` is deprecated and will be removed in version 5.0.0 for `Trainer.__init__`. Use `processing_class` instead.\n",
      "  trainer = Trainer(\n"
     ]
    },
    {
     "data": {
      "text/html": [
       "\n",
       "    <div>\n",
       "      \n",
       "      <progress value='10854' max='10854' style='width:300px; height:20px; vertical-align: middle;'></progress>\n",
       "      [10854/10854 22:05:52, Epoch 2/2]\n",
       "    </div>\n",
       "    <table border=\"1\" class=\"dataframe\">\n",
       "  <thead>\n",
       " <tr style=\"text-align: left;\">\n",
       "      <th>Epoch</th>\n",
       "      <th>Training Loss</th>\n",
       "      <th>Validation Loss</th>\n",
       "      <th>Accuracy</th>\n",
       "      <th>F1 Macro</th>\n",
       "    </tr>\n",
       "  </thead>\n",
       "  <tbody>\n",
       "    <tr>\n",
       "      <td>1</td>\n",
       "      <td>0.255500</td>\n",
       "      <td>0.254225</td>\n",
       "      <td>0.905192</td>\n",
       "      <td>0.884685</td>\n",
       "    </tr>\n",
       "    <tr>\n",
       "      <td>2</td>\n",
       "      <td>0.183900</td>\n",
       "      <td>0.237174</td>\n",
       "      <td>0.925278</td>\n",
       "      <td>0.908011</td>\n",
       "    </tr>\n",
       "  </tbody>\n",
       "</table><p>"
      ],
      "text/plain": [
       "<IPython.core.display.HTML object>"
      ]
     },
     "metadata": {},
     "output_type": "display_data"
    },
    {
     "data": {
      "text/plain": [
       "TrainOutput(global_step=10854, training_loss=0.2813241482220325, metrics={'train_runtime': 79576.1964, 'train_samples_per_second': 2.182, 'train_steps_per_second': 0.136, 'total_flos': 1.27613184910068e+16, 'train_loss': 0.2813241482220325, 'epoch': 2.0})"
      ]
     },
     "execution_count": 56,
     "metadata": {},
     "output_type": "execute_result"
    }
   ],
   "source": [
    "# Trainer\n",
    "trainer = Trainer(\n",
    "    model=model,\n",
    "    args=training_args,\n",
    "    tokenizer=tokenizer,\n",
    "    train_dataset=train_dataset,\n",
    "    eval_dataset=val_dataset,\n",
    "    data_collator=DataCollatorWithPadding(tokenizer),\n",
    "    compute_metrics=compute_metrics\n",
    ")\n",
    "\n",
    "# Train\n",
    "trainer.train()"
   ]
  },
  {
   "cell_type": "code",
   "execution_count": null,
   "id": "3e47fbdd",
   "metadata": {},
   "outputs": [
    {
     "data": {
      "text/html": [],
      "text/plain": [
       "<IPython.core.display.HTML object>"
      ]
     },
     "metadata": {},
     "output_type": "display_data"
    },
    {
     "name": "stdout",
     "output_type": "stream",
     "text": [
      "\n",
      "=== Classification Report ===\n",
      "              precision    recall  f1-score   support\n",
      "\n",
      "           C       0.90      0.94      0.92      3388\n",
      "           G       0.94      0.94      0.94      5736\n",
      "         W/Q       0.95      0.94      0.95      9830\n",
      "         OTH       0.82      0.83      0.83      2753\n",
      "\n",
      "    accuracy                           0.93     21707\n",
      "   macro avg       0.90      0.91      0.91     21707\n",
      "weighted avg       0.93      0.93      0.93     21707\n",
      "\n",
      "Confusion Matrix:\n",
      " [[3176   23   98   91]\n",
      " [  29 5411  146  150]\n",
      " [ 183  183 9221  243]\n",
      " [ 140  143  193 2277]]\n"
     ]
    },
    {
     "data": {
      "image/png": "[encoded data removed]",
      "text/plain": [
       "<Figure size 640x480 with 2 Axes>"
      ]
     },
     "metadata": {},
     "output_type": "display_data"
    }
   ],
   "source": [
    "# Final evaluation\n",
    "preds = trainer.predict(val_dataset)\n",
    "y_pred = np.argmax(preds.predictions, axis=1)\n",
    "\n",
    "print(\"\\n=== Classification Report ===\")\n",
    "labels_present = sorted(set(val_labels))\n",
    "target_names_present = [inv_label_map[i] for i in labels_present]\n",
    "\n",
    "print(classification_report(\n",
    "    val_labels,\n",
    "    y_pred,\n",
    "    labels=labels_present,\n",
    "    target_names=target_names_present,\n",
    "    zero_division=0\n",
    "))\n",
    "\n",
    "# Confusion Matrix\n",
    "y_true = val_labels\n",
    "\n",
    "# Confusion matrix\n",
    "cm = confusion_matrix(y_true, y_pred)\n",
    "labels = ['C', 'G', 'W/Q', 'OTH']\n",
    "\n",
    "# Print numeric matrix\n",
    "print(\"Confusion Matrix:\\n\", cm)\n",
    "\n",
    "# Optional: Display as heatmap\n",
    "disp = ConfusionMatrixDisplay(confusion_matrix=cm, display_labels=labels)\n",
    "disp.plot(cmap=plt.cm.Blues, xticks_rotation=45)\n",
    "plt.title(\"Confusion Matrix\")\n",
    "plt.tight_layout()\n",
    "plt.show()"
   ]
  },
  {
   "cell_type": "code",
   "execution_count": null,
   "id": "1a67348d",
   "metadata": {},
   "outputs": [
    {
     "name": "stdout",
     "output_type": "stream",
     "text": [
      "\n",
      "=== ROC AUCs ===\n",
      "C: AUC = 0.9949\n",
      "G: AUC = 0.9949\n",
      "W/Q: AUC = 0.9902\n",
      "OTH: AUC = 0.9841\n",
      "Micro-average AUC: 0.9927\n",
      "Macro-average AUC: 0.9910\n"
     ]
    },
    {
     "data": {
      "image/png": "[encoded data removed]",
      "text/plain": [
       "<Figure size 700x600 with 1 Axes>"
      ]
     },
     "metadata": {},
     "output_type": "display_data"
    }
   ],
   "source": [
    "# === ROC / AUC (one-vs-rest) ===\n",
    "import numpy as np\n",
    "from scipy.special import softmax\n",
    "from sklearn.preprocessing import label_binarize\n",
    "from sklearn.metrics import roc_curve, auc\n",
    "\n",
    "# Get class probabilities from logits\n",
    "probs_all = softmax(preds.predictions, axis=1)\n",
    "\n",
    "# Classes actually present in the validation labels (avoids ROC errors if a class is missing)\n",
    "labels_present = sorted(set(y_true))\n",
    "class_names_present = [inv_label_map[i] for i in labels_present]\n",
    "\n",
    "# Binarize true labels\n",
    "y_true_bin = label_binarize(np.array(y_true), classes=labels_present)\n",
    "\n",
    "# Align probs to the present classes (columns are class indices)\n",
    "probs = probs_all[:, labels_present]\n",
    "\n",
    "# Compute per-class ROC and AUC\n",
    "fprs, tprs, aucs = {}, {}, {}\n",
    "for j, cls_id in enumerate(labels_present):\n",
    "    # Skip if no positive samples for this class in y_true\n",
    "    if y_true_bin[:, j].sum() == 0:\n",
    "        continue\n",
    "    fpr, tpr, _ = roc_curve(y_true_bin[:, j], probs[:, j])\n",
    "    fprs[cls_id], tprs[cls_id] = fpr, tpr\n",
    "    aucs[cls_id] = auc(fpr, tpr)\n",
    "\n",
    "# Micro-average ROC/AUC\n",
    "fpr_micro, tpr_micro, _ = roc_curve(y_true_bin.ravel(), probs.ravel())\n",
    "auc_micro = auc(fpr_micro, tpr_micro)\n",
    "\n",
    "# Macro-average AUC (mean across available per-class AUCs)\n",
    "auc_macro = float(np.mean(list(aucs.values()))) if len(aucs) > 0 else float(\"nan\")\n",
    "\n",
    "# Print AUCs\n",
    "print(\"\\n=== ROC AUCs ===\")\n",
    "for cls_id in labels_present:\n",
    "    name = inv_label_map[cls_id]\n",
    "    if cls_id in aucs:\n",
    "        print(f\"{name}: AUC = {aucs[cls_id]:.4f}\")\n",
    "    else:\n",
    "        print(f\"{name}: AUC = N/A (no positive examples)\")\n",
    "print(f\"Micro-average AUC: {auc_micro:.4f}\")\n",
    "print(f\"Macro-average AUC: {auc_macro:.4f}\")\n",
    "\n",
    "# Plot ROC curves\n",
    "import matplotlib.pyplot as plt\n",
    "plt.figure(figsize=(7, 6))\n",
    "# Per-class curves\n",
    "for cls_id in labels_present:\n",
    "    if cls_id in fprs:\n",
    "        plt.plot(fprs[cls_id], tprs[cls_id], lw=2,\n",
    "                 label=f\"{inv_label_map[cls_id]} (AUC={aucs[cls_id]:.3f})\")\n",
    "\n",
    "# Micro-average\n",
    "plt.plot(fpr_micro, tpr_micro, lw=2, linestyle=\"--\",\n",
    "         label=f\"micro-average (AUC={auc_micro:.3f})\", alpha=0.9)\n",
    "\n",
    "# Chance line\n",
    "plt.plot([0, 1], [0, 1], color=\"gray\", lw=1, linestyle=\":\")\n",
    "\n",
    "plt.xlim([0.0, 1.0])\n",
    "plt.ylim([0.0, 1.05])\n",
    "plt.xlabel(\"False Positive Rate\")\n",
    "plt.ylabel(\"True Positive Rate\")\n",
    "plt.title(\"ROC Curves — One-vs-Rest\")\n",
    "plt.legend(loc=\"lower right\")\n",
    "plt.tight_layout()\n",
    "plt.show()"
   ]
  },
  {
   "cell_type": "code",
   "execution_count": null,
   "id": "ad333f3a",
   "metadata": {},
   "outputs": [
    {
     "data": {
      "text/plain": [
       "('3_model/deberta-v3\\\\tokenizer_config.json',\n",
       " '3_model/deberta-v3\\\\special_tokens_map.json',\n",
       " '3_model/deberta-v3\\\\spm.model',\n",
       " '3_model/deberta-v3\\\\added_tokens.json',\n",
       " '3_model/deberta-v3\\\\tokenizer.json')"
      ]
     },
     "execution_count": 59,
     "metadata": {},
     "output_type": "execute_result"
    }
   ],
   "source": [
    "# Save Model\n",
    "model.save_pretrained(\"3_model/deberta-v3\")\n",
    "tokenizer.save_pretrained(\"3_model/deberta-v3\")"
   ]
  },
  {
   "cell_type": "code",
   "execution_count": null,
   "id": "e9b11e36",
   "metadata": {},
   "outputs": [],
   "source": [
    "# ---------- 1) Find a debate/filename column & sample 100 debates ----------\n",
    "filename_col = None\n",
    "for cand in [\"filename\", \"file_name\", \"debate_id\", \"doc\", \"source\", \"file\", \"topic_id\"]:\n",
    "    if cand in df.columns:\n",
    "        filename_col = cand\n",
    "        break\n",
    "if filename_col is None:\n",
    "    raise ValueError(\n",
    "        \"Could not find a filename/debate identifier column. \"\n",
    "        \"Please ensure your CSV has one of: \"\n",
    "        \"['filename','file_name','debate_id','doc','source','file','topic_id']\"\n",
    "    )\n",
    "\n",
    "unique_files = df[filename_col].dropna().unique().tolist()\n",
    "rng = np.random.default_rng(42)\n",
    "sampled_files = rng.choice(unique_files, size=min(100, len(unique_files)), replace=False).tolist()\n",
    "df_sample = df[df[filename_col].isin(sampled_files)].copy()"
   ]
  },
  {
   "cell_type": "code",
   "execution_count": 33,
   "id": "16b53ff0",
   "metadata": {},
   "outputs": [
    {
     "name": "stdout",
     "output_type": "stream",
     "text": [
      "\n",
      "=== SAMPLING SUMMARY ===\n",
      "Identifier column: filename\n",
      "Unique debates total: 3738\n",
      "Sampled debates: 100\n",
      "Sampled rows: 2931\n",
      "Sample label counts: Counter({2: 1251, 1: 870, 0: 458, 3: 352})\n",
      "Sampled file examples: ['YBA_661_mandatory-retirement_con_DJ_explicit.trs.txt', 'WS_3196_immigration-us_pro.trs.txt', 'SSH_3301_freedom-of-speech_con_DJ_implicit.trs.txt', 'RG_2143_ban-abortions_pro.trs.txt', 'JL_985_free-market_con_TL_implicit.trs.txt']\n"
     ]
    }
   ],
   "source": [
    "print(\"\\n=== SAMPLING SUMMARY ===\")\n",
    "print(f\"Identifier column: {filename_col}\")\n",
    "print(f\"Unique debates total: {len(unique_files)}\")\n",
    "print(f\"Sampled debates: {len(sampled_files)}\")\n",
    "print(f\"Sampled rows: {len(df_sample)}\")\n",
    "print(\"Sample label counts:\", Counter(df_sample[\"label\"]))\n",
    "print(\"Sampled file examples:\", sampled_files[:5])"
   ]
  },
  {
   "cell_type": "code",
   "execution_count": 34,
   "id": "81052f0c",
   "metadata": {},
   "outputs": [],
   "source": [
    "# ---------- 2) Train/Val split on SAMPLED subset & show shapes ----------\n",
    "train_texts_s, val_texts_s, train_labels_s, val_labels_s = train_test_split(\n",
    "    df_sample['input'].tolist(),\n",
    "    df_sample['label'].tolist(),\n",
    "    test_size=0.2,\n",
    "    stratify=df_sample['label'],\n",
    "    random_state=42\n",
    ")"
   ]
  },
  {
   "cell_type": "code",
   "execution_count": 35,
   "id": "42742499",
   "metadata": {},
   "outputs": [
    {
     "name": "stdout",
     "output_type": "stream",
     "text": [
      "\n",
      "=== SAMPLED SPLIT SHAPES ===\n",
      "train_texts: 2344 | val_texts: 587\n",
      "Train class balance: Counter({2: 1000, 1: 696, 0: 366, 3: 282})\n",
      "Val class balance: Counter({2: 251, 1: 174, 0: 92, 3: 70})\n"
     ]
    }
   ],
   "source": [
    "print(\"\\n=== SAMPLED SPLIT SHAPES ===\")\n",
    "print(f\"train_texts: {len(train_texts_s)} | val_texts: {len(val_texts_s)}\")\n",
    "print(\"Train class balance:\", Counter(train_labels_s))\n",
    "print(\"Val class balance:\", Counter(val_labels_s))"
   ]
  },
  {
   "cell_type": "code",
   "execution_count": 36,
   "id": "6ac1c966",
   "metadata": {},
   "outputs": [],
   "source": [
    "def make_hf_datasets(tokenizer, texts_train, labels_train, texts_val, labels_val, max_length=256):\n",
    "    enc_tr = tokenizer(texts_train, truncation=True, padding=True, max_length=max_length)\n",
    "    enc_va = tokenizer(texts_val,   truncation=True, padding=True, max_length=max_length)\n",
    "    ds_train = Dataset.from_dict({\n",
    "        \"input_ids\": enc_tr[\"input_ids\"],\n",
    "        \"attention_mask\": enc_tr[\"attention_mask\"],\n",
    "        \"labels\": labels_train\n",
    "    })\n",
    "    ds_val = Dataset.from_dict({\n",
    "        \"input_ids\": enc_va[\"input_ids\"],\n",
    "        \"attention_mask\": enc_va[\"attention_mask\"],\n",
    "        \"labels\": labels_val\n",
    "    })\n",
    "    return ds_train, ds_val"
   ]
  },
  {
   "cell_type": "code",
   "execution_count": 37,
   "id": "92f8c81d",
   "metadata": {},
   "outputs": [],
   "source": [
    "# ---------- 3) Optuna HPO on sampled subset (10 trials) ----------\n",
    "def objective(trial):\n",
    "    # compact search space for quick tuning\n",
    "    lr = trial.suggest_float(\"learning_rate\", 1e-5, 5e-4, log=True)\n",
    "    weight_decay = trial.suggest_float(\"weight_decay\", 0.0, 0.1)\n",
    "    batch_size = trial.suggest_categorical(\"per_device_train_batch_size\", [8, 16, 32])\n",
    "    grad_accum = trial.suggest_categorical(\"gradient_accumulation_steps\", [1, 2, 4])\n",
    "    max_length = trial.suggest_categorical(\"max_length\", [128, 256, 384])\n",
    "    warmup_ratio = trial.suggest_float(\"warmup_ratio\", 0.0, 0.15)\n",
    "    num_epochs = trial.suggest_categorical(\"num_train_epochs\", [1, 2])  # short for speed\n",
    "\n",
    "    ds_train, ds_val = make_hf_datasets(\n",
    "        tokenizer,\n",
    "        train_texts_s, train_labels_s,\n",
    "        val_texts_s,   val_labels_s,\n",
    "        max_length=max_length\n",
    "    )\n",
    "\n",
    "    model_hpo = AutoModelForSequenceClassification.from_pretrained(\n",
    "        model_ckpt, num_labels=len(valid), use_safetensors=True\n",
    "    )\n",
    "\n",
    "    args = TrainingArguments(\n",
    "        output_dir=f\"logging/deberta/hpo_trial_{trial.number}\",\n",
    "        overwrite_output_dir=True,\n",
    "        do_train=True,\n",
    "        do_eval=True,\n",
    "        eval_strategy=\"epoch\",\n",
    "        save_strategy=\"epoch\",\n",
    "        load_best_model_at_end=True,\n",
    "        metric_for_best_model=\"f1_macro\",\n",
    "        greater_is_better=True,\n",
    "\n",
    "        per_device_train_batch_size=batch_size,\n",
    "        per_device_eval_batch_size=min(batch_size, 32),\n",
    "        gradient_accumulation_steps=grad_accum,\n",
    "\n",
    "        learning_rate=lr,\n",
    "        weight_decay=weight_decay,\n",
    "        num_train_epochs=num_epochs,\n",
    "        warmup_ratio=warmup_ratio,\n",
    "\n",
    "        fp16=torch.cuda.is_available(),\n",
    "        logging_steps=50,\n",
    "        save_total_limit=1,\n",
    "        report_to=[],\n",
    "        dataloader_num_workers=2,\n",
    "        dataloader_pin_memory=True\n",
    "    )\n",
    "\n",
    "    trainer_hpo = Trainer(\n",
    "        model=model_hpo,\n",
    "        args=args,\n",
    "        tokenizer=tokenizer,\n",
    "        train_dataset=ds_train,\n",
    "        eval_dataset=ds_val,\n",
    "        data_collator=DataCollatorWithPadding(tokenizer),\n",
    "        compute_metrics=compute_metrics,\n",
    "        callbacks=[EarlyStoppingCallback(early_stopping_patience=2)]\n",
    "    )\n",
    "\n",
    "    trainer_hpo.train()\n",
    "    eval_res = trainer_hpo.evaluate(ds_val)\n",
    "    return eval_res[\"eval_f1_macro\"]"
   ]
  },
  {
   "cell_type": "code",
   "execution_count": 38,
   "id": "7cf83b20",
   "metadata": {},
   "outputs": [
    {
     "name": "stderr",
     "output_type": "stream",
     "text": [
      "[I 2025-09-05 00:49:38,060] A new study created in memory with name: no-name-e7508d6a-1ef2-479c-801c-c882d25ab5ef\n",
      "Some weights of DebertaV2ForSequenceClassification were not initialized from the model checkpoint at microsoft/deberta-v3-base and are newly initialized: ['classifier.bias', 'classifier.weight', 'pooler.dense.bias', 'pooler.dense.weight']\n",
      "You should probably TRAIN this model on a down-stream task to be able to use it for predictions and inference.\n",
      "C:\\Users\\user\\AppData\\Local\\Temp\\ipykernel_41852\\76716818.py:51: FutureWarning: `tokenizer` is deprecated and will be removed in version 5.0.0 for `Trainer.__init__`. Use `processing_class` instead.\n",
      "  trainer_hpo = Trainer(\n",
      "Trainer.tokenizer is now deprecated. You should use Trainer.processing_class instead.\n",
      "The tokenizer has new PAD/BOS/EOS tokens that differ from the model config and generation config. The model config and generation config were aligned accordingly, being updated with the tokenizer's values. Updated tokens: {'eos_token_id': 2, 'bos_token_id': 1}.\n"
     ]
    },
    {
     "data": {
      "text/html": [
       "\n",
       "    <div>\n",
       "      \n",
       "      <progress value='37' max='37' style='width:300px; height:20px; vertical-align: middle;'></progress>\n",
       "      [37/37 07:37, Epoch 1/1]\n",
       "    </div>\n",
       "    <table border=\"1\" class=\"dataframe\">\n",
       "  <thead>\n",
       " <tr style=\"text-align: left;\">\n",
       "      <th>Epoch</th>\n",
       "      <th>Training Loss</th>\n",
       "      <th>Validation Loss</th>\n",
       "      <th>Accuracy</th>\n",
       "      <th>F1 Macro</th>\n",
       "    </tr>\n",
       "  </thead>\n",
       "  <tbody>\n",
       "    <tr>\n",
       "      <td>1</td>\n",
       "      <td>No log</td>\n",
       "      <td>1.006541</td>\n",
       "      <td>0.538330</td>\n",
       "      <td>0.422446</td>\n",
       "    </tr>\n",
       "  </tbody>\n",
       "</table><p>"
      ],
      "text/plain": [
       "<IPython.core.display.HTML object>"
      ]
     },
     "metadata": {},
     "output_type": "display_data"
    },
    {
     "data": {
      "text/html": [
       "\n",
       "    <div>\n",
       "      \n",
       "      <progress value='37' max='37' style='width:300px; height:20px; vertical-align: middle;'></progress>\n",
       "      [37/37 00:14]\n",
       "    </div>\n",
       "    "
      ],
      "text/plain": [
       "<IPython.core.display.HTML object>"
      ]
     },
     "metadata": {},
     "output_type": "display_data"
    },
    {
     "name": "stderr",
     "output_type": "stream",
     "text": [
      "[I 2025-09-05 00:58:21,882] Trial 0 finished with value: 0.42244582372486905 and parameters: {'learning_rate': 0.00011924010546566158, 'weight_decay': 0.013005547233699588, 'per_device_train_batch_size': 16, 'gradient_accumulation_steps': 4, 'max_length': 384, 'warmup_ratio': 0.014964375007602598, 'num_train_epochs': 1}. Best is trial 0 with value: 0.42244582372486905.\n",
      "Some weights of DebertaV2ForSequenceClassification were not initialized from the model checkpoint at microsoft/deberta-v3-base and are newly initialized: ['classifier.bias', 'classifier.weight', 'pooler.dense.bias', 'pooler.dense.weight']\n",
      "You should probably TRAIN this model on a down-stream task to be able to use it for predictions and inference.\n",
      "C:\\Users\\user\\AppData\\Local\\Temp\\ipykernel_41852\\76716818.py:51: FutureWarning: `tokenizer` is deprecated and will be removed in version 5.0.0 for `Trainer.__init__`. Use `processing_class` instead.\n",
      "  trainer_hpo = Trainer(\n",
      "Trainer.tokenizer is now deprecated. You should use Trainer.processing_class instead.\n",
      "The tokenizer has new PAD/BOS/EOS tokens that differ from the model config and generation config. The model config and generation config were aligned accordingly, being updated with the tokenizer's values. Updated tokens: {'eos_token_id': 2, 'bos_token_id': 1}.\n"
     ]
    },
    {
     "data": {
      "text/html": [
       "\n",
       "    <div>\n",
       "      \n",
       "      <progress value='38' max='38' style='width:300px; height:20px; vertical-align: middle;'></progress>\n",
       "      [38/38 28:05, Epoch 2/2]\n",
       "    </div>\n",
       "    <table border=\"1\" class=\"dataframe\">\n",
       "  <thead>\n",
       " <tr style=\"text-align: left;\">\n",
       "      <th>Epoch</th>\n",
       "      <th>Training Loss</th>\n",
       "      <th>Validation Loss</th>\n",
       "      <th>Accuracy</th>\n",
       "      <th>F1 Macro</th>\n",
       "    </tr>\n",
       "  </thead>\n",
       "  <tbody>\n",
       "    <tr>\n",
       "      <td>1</td>\n",
       "      <td>No log</td>\n",
       "      <td>1.228506</td>\n",
       "      <td>0.427598</td>\n",
       "      <td>0.149761</td>\n",
       "    </tr>\n",
       "    <tr>\n",
       "      <td>2</td>\n",
       "      <td>No log</td>\n",
       "      <td>1.185956</td>\n",
       "      <td>0.441227</td>\n",
       "      <td>0.181822</td>\n",
       "    </tr>\n",
       "  </tbody>\n",
       "</table><p>"
      ],
      "text/plain": [
       "<IPython.core.display.HTML object>"
      ]
     },
     "metadata": {},
     "output_type": "display_data"
    },
    {
     "data": {
      "text/html": [
       "\n",
       "    <div>\n",
       "      \n",
       "      <progress value='19' max='19' style='width:300px; height:20px; vertical-align: middle;'></progress>\n",
       "      [19/19 00:44]\n",
       "    </div>\n",
       "    "
      ],
      "text/plain": [
       "<IPython.core.display.HTML object>"
      ]
     },
     "metadata": {},
     "output_type": "display_data"
    },
    {
     "name": "stderr",
     "output_type": "stream",
     "text": [
      "[I 2025-09-05 01:28:19,789] Trial 1 finished with value: 0.18182225637085414 and parameters: {'learning_rate': 2.3195906945243005e-05, 'weight_decay': 0.07408236808579205, 'per_device_train_batch_size': 32, 'gradient_accumulation_steps': 4, 'max_length': 384, 'warmup_ratio': 0.12074195042999157, 'num_train_epochs': 2}. Best is trial 0 with value: 0.42244582372486905.\n",
      "Some weights of DebertaV2ForSequenceClassification were not initialized from the model checkpoint at microsoft/deberta-v3-base and are newly initialized: ['classifier.bias', 'classifier.weight', 'pooler.dense.bias', 'pooler.dense.weight']\n",
      "You should probably TRAIN this model on a down-stream task to be able to use it for predictions and inference.\n",
      "C:\\Users\\user\\AppData\\Local\\Temp\\ipykernel_41852\\76716818.py:51: FutureWarning: `tokenizer` is deprecated and will be removed in version 5.0.0 for `Trainer.__init__`. Use `processing_class` instead.\n",
      "  trainer_hpo = Trainer(\n",
      "Trainer.tokenizer is now deprecated. You should use Trainer.processing_class instead.\n",
      "The tokenizer has new PAD/BOS/EOS tokens that differ from the model config and generation config. The model config and generation config were aligned accordingly, being updated with the tokenizer's values. Updated tokens: {'eos_token_id': 2, 'bos_token_id': 1}.\n"
     ]
    },
    {
     "data": {
      "text/html": [
       "\n",
       "    <div>\n",
       "      \n",
       "      <progress value='293' max='293' style='width:300px; height:20px; vertical-align: middle;'></progress>\n",
       "      [293/293 05:32, Epoch 1/1]\n",
       "    </div>\n",
       "    <table border=\"1\" class=\"dataframe\">\n",
       "  <thead>\n",
       " <tr style=\"text-align: left;\">\n",
       "      <th>Epoch</th>\n",
       "      <th>Training Loss</th>\n",
       "      <th>Validation Loss</th>\n",
       "      <th>Accuracy</th>\n",
       "      <th>F1 Macro</th>\n",
       "    </tr>\n",
       "  </thead>\n",
       "  <tbody>\n",
       "    <tr>\n",
       "      <td>1</td>\n",
       "      <td>1.292700</td>\n",
       "      <td>1.268310</td>\n",
       "      <td>0.427598</td>\n",
       "      <td>0.149761</td>\n",
       "    </tr>\n",
       "  </tbody>\n",
       "</table><p>"
      ],
      "text/plain": [
       "<IPython.core.display.HTML object>"
      ]
     },
     "metadata": {},
     "output_type": "display_data"
    },
    {
     "data": {
      "text/html": [
       "\n",
       "    <div>\n",
       "      \n",
       "      <progress value='74' max='74' style='width:300px; height:20px; vertical-align: middle;'></progress>\n",
       "      [74/74 00:10]\n",
       "    </div>\n",
       "    "
      ],
      "text/plain": [
       "<IPython.core.display.HTML object>"
      ]
     },
     "metadata": {},
     "output_type": "display_data"
    },
    {
     "name": "stderr",
     "output_type": "stream",
     "text": [
      "[I 2025-09-05 01:34:34,787] Trial 2 finished with value: 0.14976133651551313 and parameters: {'learning_rate': 0.0002917806577142837, 'weight_decay': 0.026797380610658672, 'per_device_train_batch_size': 8, 'gradient_accumulation_steps': 1, 'max_length': 256, 'warmup_ratio': 0.06482607527537022, 'num_train_epochs': 1}. Best is trial 0 with value: 0.42244582372486905.\n",
      "Some weights of DebertaV2ForSequenceClassification were not initialized from the model checkpoint at microsoft/deberta-v3-base and are newly initialized: ['classifier.bias', 'classifier.weight', 'pooler.dense.bias', 'pooler.dense.weight']\n",
      "You should probably TRAIN this model on a down-stream task to be able to use it for predictions and inference.\n",
      "C:\\Users\\user\\AppData\\Local\\Temp\\ipykernel_41852\\76716818.py:51: FutureWarning: `tokenizer` is deprecated and will be removed in version 5.0.0 for `Trainer.__init__`. Use `processing_class` instead.\n",
      "  trainer_hpo = Trainer(\n",
      "Trainer.tokenizer is now deprecated. You should use Trainer.processing_class instead.\n",
      "The tokenizer has new PAD/BOS/EOS tokens that differ from the model config and generation config. The model config and generation config were aligned accordingly, being updated with the tokenizer's values. Updated tokens: {'eos_token_id': 2, 'bos_token_id': 1}.\n"
     ]
    },
    {
     "data": {
      "text/html": [
       "\n",
       "    <div>\n",
       "      \n",
       "      <progress value='148' max='148' style='width:300px; height:20px; vertical-align: middle;'></progress>\n",
       "      [148/148 24:49, Epoch 2/2]\n",
       "    </div>\n",
       "    <table border=\"1\" class=\"dataframe\">\n",
       "  <thead>\n",
       " <tr style=\"text-align: left;\">\n",
       "      <th>Epoch</th>\n",
       "      <th>Training Loss</th>\n",
       "      <th>Validation Loss</th>\n",
       "      <th>Accuracy</th>\n",
       "      <th>F1 Macro</th>\n",
       "    </tr>\n",
       "  </thead>\n",
       "  <tbody>\n",
       "    <tr>\n",
       "      <td>1</td>\n",
       "      <td>1.259200</td>\n",
       "      <td>1.112914</td>\n",
       "      <td>0.488927</td>\n",
       "      <td>0.285239</td>\n",
       "    </tr>\n",
       "    <tr>\n",
       "      <td>2</td>\n",
       "      <td>1.116600</td>\n",
       "      <td>0.976508</td>\n",
       "      <td>0.572402</td>\n",
       "      <td>0.337930</td>\n",
       "    </tr>\n",
       "  </tbody>\n",
       "</table><p>"
      ],
      "text/plain": [
       "<IPython.core.display.HTML object>"
      ]
     },
     "metadata": {},
     "output_type": "display_data"
    },
    {
     "data": {
      "text/html": [
       "\n",
       "    <div>\n",
       "      \n",
       "      <progress value='19' max='19' style='width:300px; height:20px; vertical-align: middle;'></progress>\n",
       "      [19/19 00:31]\n",
       "    </div>\n",
       "    "
      ],
      "text/plain": [
       "<IPython.core.display.HTML object>"
      ]
     },
     "metadata": {},
     "output_type": "display_data"
    },
    {
     "name": "stderr",
     "output_type": "stream",
     "text": [
      "[I 2025-09-05 02:00:35,483] Trial 3 finished with value: 0.3379295560271829 and parameters: {'learning_rate': 1.7383654969626447e-05, 'weight_decay': 0.013778787617354194, 'per_device_train_batch_size': 32, 'gradient_accumulation_steps': 1, 'max_length': 256, 'warmup_ratio': 0.00897111679558557, 'num_train_epochs': 2}. Best is trial 0 with value: 0.42244582372486905.\n",
      "Some weights of DebertaV2ForSequenceClassification were not initialized from the model checkpoint at microsoft/deberta-v3-base and are newly initialized: ['classifier.bias', 'classifier.weight', 'pooler.dense.bias', 'pooler.dense.weight']\n",
      "You should probably TRAIN this model on a down-stream task to be able to use it for predictions and inference.\n",
      "C:\\Users\\user\\AppData\\Local\\Temp\\ipykernel_41852\\76716818.py:51: FutureWarning: `tokenizer` is deprecated and will be removed in version 5.0.0 for `Trainer.__init__`. Use `processing_class` instead.\n",
      "  trainer_hpo = Trainer(\n",
      "Trainer.tokenizer is now deprecated. You should use Trainer.processing_class instead.\n",
      "The tokenizer has new PAD/BOS/EOS tokens that differ from the model config and generation config. The model config and generation config were aligned accordingly, being updated with the tokenizer's values. Updated tokens: {'eos_token_id': 2, 'bos_token_id': 1}.\n"
     ]
    },
    {
     "data": {
      "text/html": [
       "\n",
       "    <div>\n",
       "      \n",
       "      <progress value='38' max='38' style='width:300px; height:20px; vertical-align: middle;'></progress>\n",
       "      [38/38 17:33, Epoch 2/2]\n",
       "    </div>\n",
       "    <table border=\"1\" class=\"dataframe\">\n",
       "  <thead>\n",
       " <tr style=\"text-align: left;\">\n",
       "      <th>Epoch</th>\n",
       "      <th>Training Loss</th>\n",
       "      <th>Validation Loss</th>\n",
       "      <th>Accuracy</th>\n",
       "      <th>F1 Macro</th>\n",
       "    </tr>\n",
       "  </thead>\n",
       "  <tbody>\n",
       "    <tr>\n",
       "      <td>1</td>\n",
       "      <td>No log</td>\n",
       "      <td>1.233403</td>\n",
       "      <td>0.427598</td>\n",
       "      <td>0.149761</td>\n",
       "    </tr>\n",
       "    <tr>\n",
       "      <td>2</td>\n",
       "      <td>No log</td>\n",
       "      <td>1.201434</td>\n",
       "      <td>0.427598</td>\n",
       "      <td>0.149761</td>\n",
       "    </tr>\n",
       "  </tbody>\n",
       "</table><p>"
      ],
      "text/plain": [
       "<IPython.core.display.HTML object>"
      ]
     },
     "metadata": {},
     "output_type": "display_data"
    },
    {
     "data": {
      "text/html": [
       "\n",
       "    <div>\n",
       "      \n",
       "      <progress value='19' max='19' style='width:300px; height:20px; vertical-align: middle;'></progress>\n",
       "      [19/19 00:09]\n",
       "    </div>\n",
       "    "
      ],
      "text/plain": [
       "<IPython.core.display.HTML object>"
      ]
     },
     "metadata": {},
     "output_type": "display_data"
    },
    {
     "name": "stderr",
     "output_type": "stream",
     "text": [
      "[I 2025-09-05 02:19:08,521] Trial 4 finished with value: 0.14976133651551313 and parameters: {'learning_rate': 0.0004465400249300242, 'weight_decay': 0.09654159645883001, 'per_device_train_batch_size': 32, 'gradient_accumulation_steps': 4, 'max_length': 128, 'warmup_ratio': 0.07320802923753635, 'num_train_epochs': 2}. Best is trial 0 with value: 0.42244582372486905.\n",
      "Some weights of DebertaV2ForSequenceClassification were not initialized from the model checkpoint at microsoft/deberta-v3-base and are newly initialized: ['classifier.bias', 'classifier.weight', 'pooler.dense.bias', 'pooler.dense.weight']\n",
      "You should probably TRAIN this model on a down-stream task to be able to use it for predictions and inference.\n",
      "C:\\Users\\user\\AppData\\Local\\Temp\\ipykernel_41852\\76716818.py:51: FutureWarning: `tokenizer` is deprecated and will be removed in version 5.0.0 for `Trainer.__init__`. Use `processing_class` instead.\n",
      "  trainer_hpo = Trainer(\n",
      "Trainer.tokenizer is now deprecated. You should use Trainer.processing_class instead.\n",
      "The tokenizer has new PAD/BOS/EOS tokens that differ from the model config and generation config. The model config and generation config were aligned accordingly, being updated with the tokenizer's values. Updated tokens: {'eos_token_id': 2, 'bos_token_id': 1}.\n"
     ]
    },
    {
     "data": {
      "text/html": [
       "\n",
       "    <div>\n",
       "      \n",
       "      <progress value='586' max='586' style='width:300px; height:20px; vertical-align: middle;'></progress>\n",
       "      [586/586 09:26, Epoch 2/2]\n",
       "    </div>\n",
       "    <table border=\"1\" class=\"dataframe\">\n",
       "  <thead>\n",
       " <tr style=\"text-align: left;\">\n",
       "      <th>Epoch</th>\n",
       "      <th>Training Loss</th>\n",
       "      <th>Validation Loss</th>\n",
       "      <th>Accuracy</th>\n",
       "      <th>F1 Macro</th>\n",
       "    </tr>\n",
       "  </thead>\n",
       "  <tbody>\n",
       "    <tr>\n",
       "      <td>1</td>\n",
       "      <td>0.908500</td>\n",
       "      <td>0.943934</td>\n",
       "      <td>0.655877</td>\n",
       "      <td>0.623868</td>\n",
       "    </tr>\n",
       "    <tr>\n",
       "      <td>2</td>\n",
       "      <td>0.471500</td>\n",
       "      <td>0.613652</td>\n",
       "      <td>0.785349</td>\n",
       "      <td>0.758967</td>\n",
       "    </tr>\n",
       "  </tbody>\n",
       "</table><p>"
      ],
      "text/plain": [
       "<IPython.core.display.HTML object>"
      ]
     },
     "metadata": {},
     "output_type": "display_data"
    },
    {
     "data": {
      "text/html": [
       "\n",
       "    <div>\n",
       "      \n",
       "      <progress value='74' max='74' style='width:300px; height:20px; vertical-align: middle;'></progress>\n",
       "      [74/74 00:14]\n",
       "    </div>\n",
       "    "
      ],
      "text/plain": [
       "<IPython.core.display.HTML object>"
      ]
     },
     "metadata": {},
     "output_type": "display_data"
    },
    {
     "name": "stderr",
     "output_type": "stream",
     "text": [
      "[I 2025-09-05 02:29:19,610] Trial 5 finished with value: 0.7589674772625643 and parameters: {'learning_rate': 4.952154880820331e-05, 'weight_decay': 0.05782827280415942, 'per_device_train_batch_size': 8, 'gradient_accumulation_steps': 1, 'max_length': 256, 'warmup_ratio': 0.10428703312783645, 'num_train_epochs': 2}. Best is trial 5 with value: 0.7589674772625643.\n",
      "Some weights of DebertaV2ForSequenceClassification were not initialized from the model checkpoint at microsoft/deberta-v3-base and are newly initialized: ['classifier.bias', 'classifier.weight', 'pooler.dense.bias', 'pooler.dense.weight']\n",
      "You should probably TRAIN this model on a down-stream task to be able to use it for predictions and inference.\n",
      "C:\\Users\\user\\AppData\\Local\\Temp\\ipykernel_41852\\76716818.py:51: FutureWarning: `tokenizer` is deprecated and will be removed in version 5.0.0 for `Trainer.__init__`. Use `processing_class` instead.\n",
      "  trainer_hpo = Trainer(\n",
      "Trainer.tokenizer is now deprecated. You should use Trainer.processing_class instead.\n",
      "The tokenizer has new PAD/BOS/EOS tokens that differ from the model config and generation config. The model config and generation config were aligned accordingly, being updated with the tokenizer's values. Updated tokens: {'eos_token_id': 2, 'bos_token_id': 1}.\n"
     ]
    },
    {
     "data": {
      "text/html": [
       "\n",
       "    <div>\n",
       "      \n",
       "      <progress value='19' max='19' style='width:300px; height:20px; vertical-align: middle;'></progress>\n",
       "      [19/19 09:37, Epoch 1/1]\n",
       "    </div>\n",
       "    <table border=\"1\" class=\"dataframe\">\n",
       "  <thead>\n",
       " <tr style=\"text-align: left;\">\n",
       "      <th>Epoch</th>\n",
       "      <th>Training Loss</th>\n",
       "      <th>Validation Loss</th>\n",
       "      <th>Accuracy</th>\n",
       "      <th>F1 Macro</th>\n",
       "    </tr>\n",
       "  </thead>\n",
       "  <tbody>\n",
       "    <tr>\n",
       "      <td>1</td>\n",
       "      <td>No log</td>\n",
       "      <td>1.211815</td>\n",
       "      <td>0.434412</td>\n",
       "      <td>0.166484</td>\n",
       "    </tr>\n",
       "  </tbody>\n",
       "</table><p>"
      ],
      "text/plain": [
       "<IPython.core.display.HTML object>"
      ]
     },
     "metadata": {},
     "output_type": "display_data"
    },
    {
     "data": {
      "text/html": [
       "\n",
       "    <div>\n",
       "      \n",
       "      <progress value='19' max='19' style='width:300px; height:20px; vertical-align: middle;'></progress>\n",
       "      [19/19 00:27]\n",
       "    </div>\n",
       "    "
      ],
      "text/plain": [
       "<IPython.core.display.HTML object>"
      ]
     },
     "metadata": {},
     "output_type": "display_data"
    },
    {
     "name": "stderr",
     "output_type": "stream",
     "text": [
      "[I 2025-09-05 02:40:18,843] Trial 6 finished with value: 0.16648351648351647 and parameters: {'learning_rate': 6.436273236748254e-05, 'weight_decay': 0.0760543133564176, 'per_device_train_batch_size': 32, 'gradient_accumulation_steps': 4, 'max_length': 128, 'warmup_ratio': 0.02455813547983496, 'num_train_epochs': 1}. Best is trial 5 with value: 0.7589674772625643.\n",
      "Some weights of DebertaV2ForSequenceClassification were not initialized from the model checkpoint at microsoft/deberta-v3-base and are newly initialized: ['classifier.bias', 'classifier.weight', 'pooler.dense.bias', 'pooler.dense.weight']\n",
      "You should probably TRAIN this model on a down-stream task to be able to use it for predictions and inference.\n",
      "C:\\Users\\user\\AppData\\Local\\Temp\\ipykernel_41852\\76716818.py:51: FutureWarning: `tokenizer` is deprecated and will be removed in version 5.0.0 for `Trainer.__init__`. Use `processing_class` instead.\n",
      "  trainer_hpo = Trainer(\n",
      "Trainer.tokenizer is now deprecated. You should use Trainer.processing_class instead.\n",
      "The tokenizer has new PAD/BOS/EOS tokens that differ from the model config and generation config. The model config and generation config were aligned accordingly, being updated with the tokenizer's values. Updated tokens: {'eos_token_id': 2, 'bos_token_id': 1}.\n"
     ]
    },
    {
     "data": {
      "text/html": [
       "\n",
       "    <div>\n",
       "      \n",
       "      <progress value='148' max='148' style='width:300px; height:20px; vertical-align: middle;'></progress>\n",
       "      [148/148 13:17, Epoch 2/2]\n",
       "    </div>\n",
       "    <table border=\"1\" class=\"dataframe\">\n",
       "  <thead>\n",
       " <tr style=\"text-align: left;\">\n",
       "      <th>Epoch</th>\n",
       "      <th>Training Loss</th>\n",
       "      <th>Validation Loss</th>\n",
       "      <th>Accuracy</th>\n",
       "      <th>F1 Macro</th>\n",
       "    </tr>\n",
       "  </thead>\n",
       "  <tbody>\n",
       "    <tr>\n",
       "      <td>1</td>\n",
       "      <td>1.202500</td>\n",
       "      <td>0.833629</td>\n",
       "      <td>0.684838</td>\n",
       "      <td>0.615730</td>\n",
       "    </tr>\n",
       "    <tr>\n",
       "      <td>2</td>\n",
       "      <td>0.865300</td>\n",
       "      <td>0.675559</td>\n",
       "      <td>0.759796</td>\n",
       "      <td>0.734804</td>\n",
       "    </tr>\n",
       "  </tbody>\n",
       "</table><p>"
      ],
      "text/plain": [
       "<IPython.core.display.HTML object>"
      ]
     },
     "metadata": {},
     "output_type": "display_data"
    },
    {
     "data": {
      "text/html": [
       "\n",
       "    <div>\n",
       "      \n",
       "      <progress value='37' max='37' style='width:300px; height:20px; vertical-align: middle;'></progress>\n",
       "      [37/37 00:21]\n",
       "    </div>\n",
       "    "
      ],
      "text/plain": [
       "<IPython.core.display.HTML object>"
      ]
     },
     "metadata": {},
     "output_type": "display_data"
    },
    {
     "name": "stderr",
     "output_type": "stream",
     "text": [
      "[I 2025-09-05 02:54:30,657] Trial 7 finished with value: 0.7348042176686195 and parameters: {'learning_rate': 0.00018630291215584565, 'weight_decay': 0.04615398322584252, 'per_device_train_batch_size': 16, 'gradient_accumulation_steps': 2, 'max_length': 128, 'warmup_ratio': 0.130702730292603, 'num_train_epochs': 2}. Best is trial 5 with value: 0.7589674772625643.\n",
      "Some weights of DebertaV2ForSequenceClassification were not initialized from the model checkpoint at microsoft/deberta-v3-base and are newly initialized: ['classifier.bias', 'classifier.weight', 'pooler.dense.bias', 'pooler.dense.weight']\n",
      "You should probably TRAIN this model on a down-stream task to be able to use it for predictions and inference.\n",
      "C:\\Users\\user\\AppData\\Local\\Temp\\ipykernel_41852\\76716818.py:51: FutureWarning: `tokenizer` is deprecated and will be removed in version 5.0.0 for `Trainer.__init__`. Use `processing_class` instead.\n",
      "  trainer_hpo = Trainer(\n",
      "Trainer.tokenizer is now deprecated. You should use Trainer.processing_class instead.\n",
      "The tokenizer has new PAD/BOS/EOS tokens that differ from the model config and generation config. The model config and generation config were aligned accordingly, being updated with the tokenizer's values. Updated tokens: {'eos_token_id': 2, 'bos_token_id': 1}.\n"
     ]
    },
    {
     "data": {
      "text/html": [
       "\n",
       "    <div>\n",
       "      \n",
       "      <progress value='74' max='74' style='width:300px; height:20px; vertical-align: middle;'></progress>\n",
       "      [74/74 07:11, Epoch 1/1]\n",
       "    </div>\n",
       "    <table border=\"1\" class=\"dataframe\">\n",
       "  <thead>\n",
       " <tr style=\"text-align: left;\">\n",
       "      <th>Epoch</th>\n",
       "      <th>Training Loss</th>\n",
       "      <th>Validation Loss</th>\n",
       "      <th>Accuracy</th>\n",
       "      <th>F1 Macro</th>\n",
       "    </tr>\n",
       "  </thead>\n",
       "  <tbody>\n",
       "    <tr>\n",
       "      <td>1</td>\n",
       "      <td>1.224500</td>\n",
       "      <td>0.965916</td>\n",
       "      <td>0.582624</td>\n",
       "      <td>0.342827</td>\n",
       "    </tr>\n",
       "  </tbody>\n",
       "</table><p>"
      ],
      "text/plain": [
       "<IPython.core.display.HTML object>"
      ]
     },
     "metadata": {},
     "output_type": "display_data"
    },
    {
     "data": {
      "text/html": [
       "\n",
       "    <div>\n",
       "      \n",
       "      <progress value='37' max='37' style='width:300px; height:20px; vertical-align: middle;'></progress>\n",
       "      [37/37 00:16]\n",
       "    </div>\n",
       "    "
      ],
      "text/plain": [
       "<IPython.core.display.HTML object>"
      ]
     },
     "metadata": {},
     "output_type": "display_data"
    },
    {
     "name": "stderr",
     "output_type": "stream",
     "text": [
      "[I 2025-09-05 03:02:32,702] Trial 8 finished with value: 0.3428273427471117 and parameters: {'learning_rate': 5.6307385880572865e-05, 'weight_decay': 0.04577445991302324, 'per_device_train_batch_size': 16, 'gradient_accumulation_steps': 2, 'max_length': 384, 'warmup_ratio': 0.0043392009422132, 'num_train_epochs': 1}. Best is trial 5 with value: 0.7589674772625643.\n",
      "Some weights of DebertaV2ForSequenceClassification were not initialized from the model checkpoint at microsoft/deberta-v3-base and are newly initialized: ['classifier.bias', 'classifier.weight', 'pooler.dense.bias', 'pooler.dense.weight']\n",
      "You should probably TRAIN this model on a down-stream task to be able to use it for predictions and inference.\n",
      "C:\\Users\\user\\AppData\\Local\\Temp\\ipykernel_41852\\76716818.py:51: FutureWarning: `tokenizer` is deprecated and will be removed in version 5.0.0 for `Trainer.__init__`. Use `processing_class` instead.\n",
      "  trainer_hpo = Trainer(\n",
      "Trainer.tokenizer is now deprecated. You should use Trainer.processing_class instead.\n",
      "The tokenizer has new PAD/BOS/EOS tokens that differ from the model config and generation config. The model config and generation config were aligned accordingly, being updated with the tokenizer's values. Updated tokens: {'eos_token_id': 2, 'bos_token_id': 1}.\n"
     ]
    },
    {
     "data": {
      "text/html": [
       "\n",
       "    <div>\n",
       "      \n",
       "      <progress value='38' max='38' style='width:300px; height:20px; vertical-align: middle;'></progress>\n",
       "      [38/38 21:43, Epoch 2/2]\n",
       "    </div>\n",
       "    <table border=\"1\" class=\"dataframe\">\n",
       "  <thead>\n",
       " <tr style=\"text-align: left;\">\n",
       "      <th>Epoch</th>\n",
       "      <th>Training Loss</th>\n",
       "      <th>Validation Loss</th>\n",
       "      <th>Accuracy</th>\n",
       "      <th>F1 Macro</th>\n",
       "    </tr>\n",
       "  </thead>\n",
       "  <tbody>\n",
       "    <tr>\n",
       "      <td>1</td>\n",
       "      <td>No log</td>\n",
       "      <td>1.223108</td>\n",
       "      <td>0.442930</td>\n",
       "      <td>0.182414</td>\n",
       "    </tr>\n",
       "    <tr>\n",
       "      <td>2</td>\n",
       "      <td>No log</td>\n",
       "      <td>1.161901</td>\n",
       "      <td>0.454855</td>\n",
       "      <td>0.231625</td>\n",
       "    </tr>\n",
       "  </tbody>\n",
       "</table><p>"
      ],
      "text/plain": [
       "<IPython.core.display.HTML object>"
      ]
     },
     "metadata": {},
     "output_type": "display_data"
    },
    {
     "data": {
      "text/html": [
       "\n",
       "    <div>\n",
       "      \n",
       "      <progress value='19' max='19' style='width:300px; height:20px; vertical-align: middle;'></progress>\n",
       "      [19/19 00:19]\n",
       "    </div>\n",
       "    "
      ],
      "text/plain": [
       "<IPython.core.display.HTML object>"
      ]
     },
     "metadata": {},
     "output_type": "display_data"
    },
    {
     "name": "stderr",
     "output_type": "stream",
     "text": [
      "[I 2025-09-05 03:25:31,627] Trial 9 finished with value: 0.23162514598166956 and parameters: {'learning_rate': 2.807599096565909e-05, 'weight_decay': 0.0010984700582271079, 'per_device_train_batch_size': 32, 'gradient_accumulation_steps': 4, 'max_length': 256, 'warmup_ratio': 0.1485248136332782, 'num_train_epochs': 2}. Best is trial 5 with value: 0.7589674772625643.\n"
     ]
    }
   ],
   "source": [
    "study = optuna.create_study(direction=\"maximize\")\n",
    "study.optimize(objective, n_trials=10, show_progress_bar=False)"
   ]
  },
  {
   "cell_type": "code",
   "execution_count": 39,
   "id": "4ec4c603",
   "metadata": {},
   "outputs": [
    {
     "name": "stdout",
     "output_type": "stream",
     "text": [
      "\n",
      "=== HPO BEST TRIAL ===\n",
      "Best f1_macro: 0.7589674772625643\n",
      "Best params: {'learning_rate': 4.952154880820331e-05, 'weight_decay': 0.05782827280415942, 'per_device_train_batch_size': 8, 'gradient_accumulation_steps': 1, 'max_length': 256, 'warmup_ratio': 0.10428703312783645, 'num_train_epochs': 2}\n"
     ]
    }
   ],
   "source": [
    "print(\"\\n=== HPO BEST TRIAL ===\")\n",
    "print(\"Best f1_macro:\", study.best_value)\n",
    "print(\"Best params:\", study.best_params)"
   ]
  },
  {
   "cell_type": "code",
   "execution_count": 40,
   "id": "0b1c9ce0",
   "metadata": {},
   "outputs": [],
   "source": [
    "best_params = study.best_params.copy()\n",
    "best_max_length = best_params.pop(\"max_length\", 256)\n",
    "_ = best_params.pop(\"num_train_epochs\", None)"
   ]
  },
  {
   "cell_type": "code",
   "execution_count": 41,
   "id": "26b77191",
   "metadata": {},
   "outputs": [],
   "source": [
    "# ---------- 4) Split FULL dataset & show shapes ----------\n",
    "train_texts_full, val_texts_full, train_labels_full, val_labels_full = train_test_split(\n",
    "    df['input'].tolist(),\n",
    "    df['label'].tolist(),\n",
    "    test_size=0.2,\n",
    "    stratify=df['label'],\n",
    "    random_state=42\n",
    ")"
   ]
  },
  {
   "cell_type": "code",
   "execution_count": 42,
   "id": "5689219e",
   "metadata": {},
   "outputs": [
    {
     "name": "stdout",
     "output_type": "stream",
     "text": [
      "\n",
      "=== FULL SPLIT SHAPES ===\n",
      "train_texts_full: 86825 | val_texts_full: 21707\n",
      "Train balance (full): Counter({2: 39319, 1: 22944, 0: 13552, 3: 11010})\n",
      "Val balance (full): Counter({2: 9830, 1: 5736, 0: 3388, 3: 2753})\n"
     ]
    }
   ],
   "source": [
    "print(\"\\n=== FULL SPLIT SHAPES ===\")\n",
    "print(f\"train_texts_full: {len(train_texts_full)} | val_texts_full: {len(val_texts_full)}\")\n",
    "print(\"Train balance (full):\", Counter(train_labels_full))\n",
    "print(\"Val balance (full):\", Counter(val_labels_full))"
   ]
  },
  {
   "cell_type": "code",
   "execution_count": 43,
   "id": "1a8ac11e",
   "metadata": {},
   "outputs": [],
   "source": [
    "ds_train_full, ds_val_full = make_hf_datasets(\n",
    "    tokenizer,\n",
    "    train_texts_full, train_labels_full,\n",
    "    val_texts_full,   val_labels_full,\n",
    "    max_length=best_max_length\n",
    ")"
   ]
  },
  {
   "cell_type": "code",
   "execution_count": 44,
   "id": "2ed0262a",
   "metadata": {},
   "outputs": [
    {
     "name": "stderr",
     "output_type": "stream",
     "text": [
      "Some weights of DebertaV2ForSequenceClassification were not initialized from the model checkpoint at microsoft/deberta-v3-base and are newly initialized: ['classifier.bias', 'classifier.weight', 'pooler.dense.bias', 'pooler.dense.weight']\n",
      "You should probably TRAIN this model on a down-stream task to be able to use it for predictions and inference.\n"
     ]
    }
   ],
   "source": [
    "# ---------- 5) Final training on FULL dataset with best params ----------\n",
    "final_epochs = 3  # you can raise to 4–5 if you have more GPU time\n",
    "\n",
    "model_final = AutoModelForSequenceClassification.from_pretrained(\n",
    "    model_ckpt, num_labels=len(valid), use_safetensors=True\n",
    ")"
   ]
  },
  {
   "cell_type": "code",
   "execution_count": 45,
   "id": "4843dd04",
   "metadata": {},
   "outputs": [],
   "source": [
    "final_args = TrainingArguments(\n",
    "    output_dir=\"logging/deberta/final_best\",\n",
    "    overwrite_output_dir=True,\n",
    "    do_train=True,\n",
    "    do_eval=True,\n",
    "    eval_strategy=\"epoch\",\n",
    "    save_strategy=\"epoch\",\n",
    "    load_best_model_at_end=True,\n",
    "    metric_for_best_model=\"f1_macro\",\n",
    "    greater_is_better=True,\n",
    "\n",
    "    per_device_train_batch_size=best_params.get(\"per_device_train_batch_size\", 16),\n",
    "    per_device_eval_batch_size=min(best_params.get(\"per_device_train_batch_size\", 16), 32),\n",
    "    gradient_accumulation_steps=best_params.get(\"gradient_accumulation_steps\", 2),\n",
    "    learning_rate=best_params.get(\"learning_rate\", 2e-5),\n",
    "    weight_decay=best_params.get(\"weight_decay\", 0.05),\n",
    "    warmup_ratio=best_params.get(\"warmup_ratio\", 0.0),\n",
    "\n",
    "    num_train_epochs=final_epochs,\n",
    "    fp16=torch.cuda.is_available(),\n",
    "\n",
    "    logging_dir=\"logging/deberta/final_best/logs\",\n",
    "    logging_steps=100,\n",
    "    save_total_limit=2,\n",
    "    report_to=[],\n",
    "    dataloader_num_workers=4,\n",
    "    dataloader_pin_memory=True\n",
    ")"
   ]
  },
  {
   "cell_type": "code",
   "execution_count": 46,
   "id": "3f53c36d",
   "metadata": {},
   "outputs": [
    {
     "name": "stderr",
     "output_type": "stream",
     "text": [
      "C:\\Users\\user\\AppData\\Local\\Temp\\ipykernel_41852\\249208023.py:1: FutureWarning: `tokenizer` is deprecated and will be removed in version 5.0.0 for `Trainer.__init__`. Use `processing_class` instead.\n",
      "  trainer_final = Trainer(\n"
     ]
    }
   ],
   "source": [
    "trainer_final = Trainer(\n",
    "    model=model_final,\n",
    "    args=final_args,\n",
    "    tokenizer=tokenizer,\n",
    "    train_dataset=ds_train_full,\n",
    "    eval_dataset=ds_val_full,\n",
    "    data_collator=DataCollatorWithPadding(tokenizer),\n",
    "    compute_metrics=compute_metrics,\n",
    "    callbacks=[EarlyStoppingCallback(early_stopping_patience=2)]\n",
    ")"
   ]
  },
  {
   "cell_type": "code",
   "execution_count": 47,
   "id": "4e1e49c9",
   "metadata": {},
   "outputs": [
    {
     "name": "stderr",
     "output_type": "stream",
     "text": [
      "Trainer.tokenizer is now deprecated. You should use Trainer.processing_class instead.\n",
      "The tokenizer has new PAD/BOS/EOS tokens that differ from the model config and generation config. The model config and generation config were aligned accordingly, being updated with the tokenizer's values. Updated tokens: {'eos_token_id': 2, 'bos_token_id': 1}.\n"
     ]
    },
    {
     "data": {
      "text/html": [
       "\n",
       "    <div>\n",
       "      \n",
       "      <progress value='32562' max='32562' style='width:300px; height:20px; vertical-align: middle;'></progress>\n",
       "      [32562/32562 10:46:21, Epoch 3/3]\n",
       "    </div>\n",
       "    <table border=\"1\" class=\"dataframe\">\n",
       "  <thead>\n",
       " <tr style=\"text-align: left;\">\n",
       "      <th>Epoch</th>\n",
       "      <th>Training Loss</th>\n",
       "      <th>Validation Loss</th>\n",
       "      <th>Accuracy</th>\n",
       "      <th>F1 Macro</th>\n",
       "    </tr>\n",
       "  </thead>\n",
       "  <tbody>\n",
       "    <tr>\n",
       "      <td>1</td>\n",
       "      <td>0.362100</td>\n",
       "      <td>0.334229</td>\n",
       "      <td>0.878196</td>\n",
       "      <td>0.850785</td>\n",
       "    </tr>\n",
       "    <tr>\n",
       "      <td>2</td>\n",
       "      <td>0.307300</td>\n",
       "      <td>0.314266</td>\n",
       "      <td>0.901875</td>\n",
       "      <td>0.877962</td>\n",
       "    </tr>\n",
       "    <tr>\n",
       "      <td>3</td>\n",
       "      <td>0.158400</td>\n",
       "      <td>0.383321</td>\n",
       "      <td>0.911549</td>\n",
       "      <td>0.890732</td>\n",
       "    </tr>\n",
       "  </tbody>\n",
       "</table><p>"
      ],
      "text/plain": [
       "<IPython.core.display.HTML object>"
      ]
     },
     "metadata": {},
     "output_type": "display_data"
    },
    {
     "data": {
      "text/plain": [
       "TrainOutput(global_step=32562, training_loss=0.3264055560770217, metrics={'train_runtime': 38808.7072, 'train_samples_per_second': 6.712, 'train_steps_per_second': 0.839, 'total_flos': 1.91419777365102e+16, 'train_loss': 0.3264055560770217, 'epoch': 3.0})"
      ]
     },
     "execution_count": 47,
     "metadata": {},
     "output_type": "execute_result"
    }
   ],
   "source": [
    "trainer_final.train()"
   ]
  },
  {
   "cell_type": "code",
   "execution_count": 48,
   "id": "48913392",
   "metadata": {},
   "outputs": [
    {
     "data": {
      "text/html": [],
      "text/plain": [
       "<IPython.core.display.HTML object>"
      ]
     },
     "metadata": {},
     "output_type": "display_data"
    },
    {
     "name": "stdout",
     "output_type": "stream",
     "text": [
      "\n",
      "=== Classification Report (Full Val) ===\n",
      "              precision    recall  f1-score   support\n",
      "\n",
      "           C       0.89      0.91      0.90      3388\n",
      "           G       0.93      0.93      0.93      5736\n",
      "         W/Q       0.94      0.93      0.94      9830\n",
      "         OTH       0.79      0.80      0.79      2753\n",
      "\n",
      "    accuracy                           0.91     21707\n",
      "   macro avg       0.89      0.89      0.89     21707\n",
      "weighted avg       0.91      0.91      0.91     21707\n",
      "\n"
     ]
    }
   ],
   "source": [
    "# ---------- 6) Evaluation: classification report, CM, ROC ----------\n",
    "preds_full = trainer_final.predict(ds_val_full)\n",
    "y_pred_full = np.argmax(preds_full.predictions, axis=1)\n",
    "y_true_full = np.array(val_labels_full)\n",
    "\n",
    "print(\"\\n=== Classification Report (Full Val) ===\")\n",
    "labels_present_full = sorted(set(y_true_full.tolist()))\n",
    "target_names_present_full = [inv_label_map[i] for i in labels_present_full]\n",
    "print(classification_report(\n",
    "    y_true_full,\n",
    "    y_pred_full,\n",
    "    labels=labels_present_full,\n",
    "    target_names=target_names_present_full,\n",
    "    zero_division=0\n",
    "))"
   ]
  },
  {
   "cell_type": "code",
   "execution_count": 49,
   "id": "0a60b8d5",
   "metadata": {},
   "outputs": [
    {
     "name": "stdout",
     "output_type": "stream",
     "text": [
      "Confusion Matrix:\n",
      " [[3096   31  120  141]\n",
      " [  41 5334  202  159]\n",
      " [ 161  219 9164  286]\n",
      " [ 162  181  217 2193]]\n"
     ]
    },
    {
     "data": {
      "image/png": "[encoded data removed]",
      "text/plain": [
       "<Figure size 640x480 with 2 Axes>"
      ]
     },
     "metadata": {},
     "output_type": "display_data"
    }
   ],
   "source": [
    "from sklearn.metrics import confusion_matrix, ConfusionMatrixDisplay\n",
    "cm_full = confusion_matrix(y_true_full, y_pred_full, labels=labels_present_full)\n",
    "print(\"Confusion Matrix:\\n\", cm_full)\n",
    "\n",
    "disp_full = ConfusionMatrixDisplay(confusion_matrix=cm_full,\n",
    "                                   display_labels=[inv_label_map[i] for i in labels_present_full])\n",
    "disp_full.plot(cmap=plt.cm.Blues, xticks_rotation=45)\n",
    "plt.title(\"Confusion Matrix — Final Model (Full Val)\")\n",
    "plt.tight_layout()\n",
    "plt.show()"
   ]
  },
  {
   "cell_type": "code",
   "execution_count": 50,
   "id": "c7da3817",
   "metadata": {},
   "outputs": [
    {
     "name": "stdout",
     "output_type": "stream",
     "text": [
      "\n",
      "=== ROC AUCs (Full Val) ===\n",
      "C: AUC = 0.9913\n",
      "G: AUC = 0.9918\n",
      "W/Q: AUC = 0.9876\n",
      "OTH: AUC = 0.9742\n",
      "Micro-average AUC: 0.9888\n",
      "Macro-average AUC: 0.9862\n"
     ]
    },
    {
     "data": {
      "image/png": "[encoded data removed]",
      "text/plain": [
       "<Figure size 700x600 with 1 Axes>"
      ]
     },
     "metadata": {},
     "output_type": "display_data"
    }
   ],
   "source": [
    "# ROC / AUC (one-vs-rest)\n",
    "from sklearn.preprocessing import label_binarize\n",
    "from sklearn.metrics import roc_curve, auc\n",
    "probs_all_full = softmax(preds_full.predictions, axis=1)\n",
    "y_true_bin_full = label_binarize(y_true_full, classes=labels_present_full)\n",
    "probs_aligned_full = probs_all_full[:, labels_present_full]\n",
    "\n",
    "fprs, tprs, aucs = {}, {}, {}\n",
    "for j, cls_id in enumerate(labels_present_full):\n",
    "    if y_true_bin_full[:, j].sum() == 0:\n",
    "        continue\n",
    "    fpr, tpr, _ = roc_curve(y_true_bin_full[:, j], probs_aligned_full[:, j])\n",
    "    fprs[cls_id], tprs[cls_id] = fpr, tpr\n",
    "    aucs[cls_id] = auc(fpr, tpr)\n",
    "\n",
    "fpr_micro, tpr_micro, _ = roc_curve(y_true_bin_full.ravel(), probs_aligned_full.ravel())\n",
    "auc_micro = auc(fpr_micro, tpr_micro)\n",
    "auc_macro = float(np.mean(list(aucs.values()))) if len(aucs) > 0 else float(\"nan\")\n",
    "\n",
    "print(\"\\n=== ROC AUCs (Full Val) ===\")\n",
    "for cls_id in labels_present_full:\n",
    "    name = inv_label_map[cls_id]\n",
    "    print(f\"{name}: AUC = {aucs.get(cls_id, float('nan')):.4f}\")\n",
    "print(f\"Micro-average AUC: {auc_micro:.4f}\")\n",
    "print(f\"Macro-average AUC: {auc_macro:.4f}\")\n",
    "\n",
    "plt.figure(figsize=(7, 6))\n",
    "for cls_id in labels_present_full:\n",
    "    if cls_id in fprs:\n",
    "        plt.plot(fprs[cls_id], tprs[cls_id], lw=2,\n",
    "                 label=f\"{inv_label_map[cls_id]} (AUC={aucs[cls_id]:.3f})\")\n",
    "plt.plot(fpr_micro, tpr_micro, lw=2, linestyle=\"--\",\n",
    "         label=f\"micro-average (AUC={auc_micro:.3f})\", alpha=0.9)\n",
    "plt.plot([0, 1], [0, 1], color=\"gray\", lw=1, linestyle=\":\")\n",
    "plt.xlim([0.0, 1.0]); plt.ylim([0.0, 1.05])\n",
    "plt.xlabel(\"False Positive Rate\"); plt.ylabel(\"True Positive Rate\")\n",
    "plt.title(\"ROC Curves — One-vs-Rest (Final Model)\")\n",
    "plt.legend(loc=\"lower right\")\n",
    "plt.tight_layout()\n",
    "plt.show()"
   ]
  },
  {
   "cell_type": "code",
   "execution_count": 51,
   "id": "d8456cdb",
   "metadata": {},
   "outputs": [
    {
     "name": "stdout",
     "output_type": "stream",
     "text": [
      "\n",
      "Saved final best model to: 3_model/deberta-v3-best\n",
      "Best HPO params used: {'learning_rate': 4.952154880820331e-05, 'weight_decay': 0.05782827280415942, 'per_device_train_batch_size': 8, 'gradient_accumulation_steps': 1, 'warmup_ratio': 0.10428703312783645, 'max_length': 256, 'final_epochs': 3}\n"
     ]
    }
   ],
   "source": [
    "# ---------- 7) Save final best model ----------\n",
    "save_dir = \"3_model/deberta-v3-best\"\n",
    "model_final.save_pretrained(save_dir)\n",
    "tokenizer.save_pretrained(save_dir)\n",
    "print(f\"\\nSaved final best model to: {save_dir}\")\n",
    "print(\"Best HPO params used:\",\n",
    "      {**best_params, \"max_length\": best_max_length, \"final_epochs\": final_epochs})"
   ]
  }
 ],
 "metadata": {
  "kernelspec": {
   "display_name": "Python 3",
   "language": "python",
   "name": "python3"
  },
  "language_info": {
   "codemirror_mode": {
    "name": "ipython",
    "version": 3
   },
   "file_extension": ".py",
   "mimetype": "text/x-python",
   "name": "python",
   "nbconvert_exporter": "python",
   "pygments_lexer": "ipython3",
   "version": "3.12.9"
  }
 },
 "nbformat": 4,
 "nbformat_minor": 5
}
