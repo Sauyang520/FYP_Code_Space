{
 "cells": [
  {
   "cell_type": "markdown",
   "id": "0ac3a1b1",
   "metadata": {},
   "source": [
    "Transfer Learning using Deberta-V3 for Labelling"
   ]
  },
  {
   "cell_type": "code",
   "execution_count": null,
   "id": "665f533f",
   "metadata": {},
   "outputs": [],
   "source": [
    "import pandas as pd\n",
    "import numpy as np\n",
    "import torch\n",
    "from sklearn.model_selection import train_test_split\n",
    "from sklearn.metrics import classification_report\n",
    "from transformers import (\n",
    "    AutoTokenizer,\n",
    "    AutoModelForSequenceClassification,\n",
    "    Trainer,\n",
    "    TrainingArguments,\n",
    "    DataCollatorWithPadding\n",
    ")\n",
    "import optuna\n",
    "from datasets import Dataset\n",
    "from pathlib import Path\n",
    "import matplotlib.pyplot as plt\n",
    "from sklearn.metrics import confusion_matrix, ConfusionMatrixDisplay, accuracy_score, f1_score"
   ]
  },
  {
   "cell_type": "markdown",
   "id": "552fcee2",
   "metadata": {},
   "source": [
    "Preprocessing"
   ]
  },
  {
   "cell_type": "code",
   "execution_count": null,
   "id": "1f20a564",
   "metadata": {},
   "outputs": [],
   "source": [
    "# Load dataset\n",
    "file_path = \"2_processed_data/sampling_labelled.csv\"\n",
    "df = pd.read_csv(file_path, encoding=\"latin1\")\n",
    "\n",
    "valid = ['C', 'G', 'W/Q', 'OTH']\n",
    "df = df[df['argument_type'].isin(valid)].copy()\n",
    "\n",
    "df['input'] = df['sentence']\n",
    "label_map = {label: idx for idx, label in enumerate(valid)}\n",
    "inv_label_map = {idx: label for label, idx in label_map.items()}\n",
    "df['label'] = df['argument_type'].map(label_map).astype(int)"
   ]
  },
  {
   "cell_type": "code",
   "execution_count": null,
   "id": "94e3c4ba",
   "metadata": {},
   "outputs": [],
   "source": [
    "# Stratified Split\n",
    "train_texts, val_texts, train_labels, val_labels = train_test_split(\n",
    "    df['input'].tolist(),\n",
    "    df['label'].tolist(),\n",
    "    test_size=0.2,\n",
    "    stratify=df['label'],\n",
    "    random_state=42\n",
    ")"
   ]
  },
  {
   "cell_type": "code",
   "execution_count": null,
   "id": "9698431c",
   "metadata": {},
   "outputs": [
    {
     "name": "stderr",
     "output_type": "stream",
     "text": [
      "c:\\Users\\user\\AppData\\Local\\Programs\\Python\\Python312\\Lib\\site-packages\\transformers\\convert_slow_tokenizer.py:564: UserWarning: The sentencepiece tokenizer that you are converting to a fast tokenizer uses the byte fallback option which is not implemented in the fast tokenizers. In practice this means that the fast version of the tokenizer can produce unknown tokens whereas the sentencepiece version would have converted these unknown tokens into a sequence of byte tokens matching the original piece of text.\n",
      "  warnings.warn(\n",
      "Some weights of DebertaV2ForSequenceClassification were not initialized from the model checkpoint at microsoft/deberta-v3-base and are newly initialized: ['classifier.bias', 'classifier.weight', 'pooler.dense.bias', 'pooler.dense.weight']\n",
      "You should probably TRAIN this model on a down-stream task to be able to use it for predictions and inference.\n"
     ]
    }
   ],
   "source": [
    "# Tokenizer and Model\n",
    "model_ckpt = \"microsoft/deberta-v3-base\"\n",
    "tokenizer = AutoTokenizer.from_pretrained(model_ckpt)\n",
    "model = AutoModelForSequenceClassification.from_pretrained(\n",
    "    model_ckpt,\n",
    "    num_labels=len(valid)\n",
    ")"
   ]
  },
  {
   "cell_type": "code",
   "execution_count": null,
   "id": "077b27e1",
   "metadata": {},
   "outputs": [],
   "source": [
    "# Tokenization\n",
    "train_enc = tokenizer(train_texts, truncation=True, padding=True, max_length=256)\n",
    "val_enc = tokenizer(val_texts, truncation=True, padding=True, max_length=256)\n",
    "train_dataset = Dataset.from_dict({\n",
    "    'input_ids': train_enc['input_ids'],\n",
    "    'attention_mask': train_enc['attention_mask'],\n",
    "    'labels': train_labels\n",
    "})\n",
    "val_dataset = Dataset.from_dict({\n",
    "    'input_ids': val_enc['input_ids'],\n",
    "    'attention_mask': val_enc['attention_mask'],\n",
    "    'labels': val_labels\n",
    "})"
   ]
  },
  {
   "cell_type": "markdown",
   "id": "2ec286a3",
   "metadata": {},
   "source": [
    "Modelling"
   ]
  },
  {
   "cell_type": "code",
   "execution_count": null,
   "id": "125f860f",
   "metadata": {},
   "outputs": [],
   "source": [
    "# Metrics\n",
    "def compute_metrics(pred):\n",
    "    labels = pred.label_ids\n",
    "    preds = pred.predictions.argmax(-1)\n",
    "    return {\n",
    "        \"accuracy\": accuracy_score(labels, preds),\n",
    "        \"f1_macro\": f1_score(labels, preds, average=\"macro\")\n",
    "    }"
   ]
  },
  {
   "cell_type": "code",
   "execution_count": null,
   "id": "8843cd74",
   "metadata": {},
   "outputs": [],
   "source": [
    "# Training Configuration\n",
    "training_args = TrainingArguments(\n",
    "    output_dir='logging/transfer_learning/results',\n",
    "    overwrite_output_dir=True,\n",
    "    do_train=True,\n",
    "    do_eval=True,\n",
    "    eval_strategy=\"epoch\",\n",
    "    save_strategy=\"epoch\",\n",
    "    load_best_model_at_end=True,\n",
    "    metric_for_best_model='f1_macro',\n",
    "    greater_is_better=True,\n",
    "    per_device_train_batch_size=16,\n",
    "    per_device_eval_batch_size=16,\n",
    "    learning_rate=2e-5,\n",
    "    weight_decay=0.05,\n",
    "    num_train_epochs=4,\n",
    "    logging_dir='logging/transfer_learning/logs',\n",
    "    logging_steps=10,\n",
    "    save_total_limit=2,\n",
    "    fp16=torch.cuda.is_available()\n",
    ")"
   ]
  },
  {
   "cell_type": "code",
   "execution_count": null,
   "id": "f56c519e",
   "metadata": {},
   "outputs": [
    {
     "name": "stderr",
     "output_type": "stream",
     "text": [
      "C:\\Users\\user\\AppData\\Local\\Temp\\ipykernel_148840\\1318337750.py:2: FutureWarning: `tokenizer` is deprecated and will be removed in version 5.0.0 for `Trainer.__init__`. Use `processing_class` instead.\n",
      "  trainer = Trainer(\n"
     ]
    },
    {
     "data": {
      "text/html": [
       "\n",
       "    <div>\n",
       "      \n",
       "      <progress value='864' max='864' style='width:300px; height:20px; vertical-align: middle;'></progress>\n",
       "      [864/864 27:19, Epoch 4/4]\n",
       "    </div>\n",
       "    <table border=\"1\" class=\"dataframe\">\n",
       "  <thead>\n",
       " <tr style=\"text-align: left;\">\n",
       "      <th>Epoch</th>\n",
       "      <th>Training Loss</th>\n",
       "      <th>Validation Loss</th>\n",
       "      <th>Accuracy</th>\n",
       "      <th>F1 Macro</th>\n",
       "    </tr>\n",
       "  </thead>\n",
       "  <tbody>\n",
       "    <tr>\n",
       "      <td>1</td>\n",
       "      <td>0.779200</td>\n",
       "      <td>0.689263</td>\n",
       "      <td>0.721578</td>\n",
       "      <td>0.578416</td>\n",
       "    </tr>\n",
       "    <tr>\n",
       "      <td>2</td>\n",
       "      <td>0.616600</td>\n",
       "      <td>0.632985</td>\n",
       "      <td>0.758701</td>\n",
       "      <td>0.710089</td>\n",
       "    </tr>\n",
       "    <tr>\n",
       "      <td>3</td>\n",
       "      <td>0.436200</td>\n",
       "      <td>0.623759</td>\n",
       "      <td>0.783063</td>\n",
       "      <td>0.719801</td>\n",
       "    </tr>\n",
       "    <tr>\n",
       "      <td>4</td>\n",
       "      <td>0.241000</td>\n",
       "      <td>0.687445</td>\n",
       "      <td>0.788863</td>\n",
       "      <td>0.729301</td>\n",
       "    </tr>\n",
       "  </tbody>\n",
       "</table><p>"
      ],
      "text/plain": [
       "<IPython.core.display.HTML object>"
      ]
     },
     "metadata": {},
     "output_type": "display_data"
    },
    {
     "data": {
      "text/plain": [
       "TrainOutput(global_step=864, training_loss=0.5796680402148653, metrics={'train_runtime': 1639.9734, 'train_samples_per_second': 8.403, 'train_steps_per_second': 0.527, 'total_flos': 757735645499040.0, 'train_loss': 0.5796680402148653, 'epoch': 4.0})"
      ]
     },
     "execution_count": 19,
     "metadata": {},
     "output_type": "execute_result"
    }
   ],
   "source": [
    "# Trainer\n",
    "trainer = Trainer(\n",
    "    model=model,\n",
    "    args=training_args,\n",
    "    tokenizer=tokenizer,\n",
    "    train_dataset=train_dataset,\n",
    "    eval_dataset=val_dataset,\n",
    "    data_collator=DataCollatorWithPadding(tokenizer),\n",
    "    compute_metrics=compute_metrics\n",
    ")\n",
    "\n",
    "# Train\n",
    "trainer.train()"
   ]
  },
  {
   "cell_type": "markdown",
   "id": "c7d1037a",
   "metadata": {},
   "source": [
    "Model Evaluation"
   ]
  },
  {
   "cell_type": "code",
   "execution_count": null,
   "id": "6ca39c5b",
   "metadata": {},
   "outputs": [
    {
     "data": {
      "text/html": [],
      "text/plain": [
       "<IPython.core.display.HTML object>"
      ]
     },
     "metadata": {},
     "output_type": "display_data"
    },
    {
     "name": "stdout",
     "output_type": "stream",
     "text": [
      "\n",
      "=== Classification Report ===\n",
      "              precision    recall  f1-score   support\n",
      "\n",
      "           C       0.77      0.84      0.81       184\n",
      "           G       0.83      0.79      0.81       255\n",
      "         W/Q       0.80      0.86      0.83       339\n",
      "         OTH       0.60      0.39      0.47        84\n",
      "\n",
      "    accuracy                           0.79       862\n",
      "   macro avg       0.75      0.72      0.73       862\n",
      "weighted avg       0.78      0.79      0.78       862\n",
      "\n"
     ]
    }
   ],
   "source": [
    "# Final evaluation\n",
    "preds = trainer.predict(val_dataset)\n",
    "y_pred = np.argmax(preds.predictions, axis=1)\n",
    "\n",
    "print(\"\\n=== Classification Report ===\")\n",
    "labels_present = sorted(set(val_labels))\n",
    "target_names_present = [inv_label_map[i] for i in labels_present]\n",
    "\n",
    "print(classification_report(\n",
    "    val_labels,\n",
    "    y_pred,\n",
    "    labels=labels_present,\n",
    "    target_names=target_names_present,\n",
    "    zero_division=0\n",
    "))"
   ]
  },
  {
   "cell_type": "code",
   "execution_count": null,
   "id": "2c9fdd4e",
   "metadata": {},
   "outputs": [
    {
     "name": "stdout",
     "output_type": "stream",
     "text": [
      "Confusion Matrix:\n",
      " [[155   5  21   3]\n",
      " [ 15 201  28  11]\n",
      " [ 21  19 291   8]\n",
      " [ 10  16  25  33]]\n"
     ]
    },
    {
     "data": {
      "image/png": "[encoded data removed]",
      "text/plain": [
       "<Figure size 640x480 with 2 Axes>"
      ]
     },
     "metadata": {},
     "output_type": "display_data"
    }
   ],
   "source": [
    "# True labels\n",
    "y_true = val_labels\n",
    "\n",
    "# Confusion matrix\n",
    "cm = confusion_matrix(y_true, y_pred)\n",
    "labels = ['C', 'G', 'W/Q', 'OTH']\n",
    "\n",
    "# Print numeric matrix\n",
    "print(\"Confusion Matrix:\\n\", cm)\n",
    "\n",
    "# Display as heatmap\n",
    "disp = ConfusionMatrixDisplay(confusion_matrix=cm, display_labels=labels)\n",
    "disp.plot(cmap=plt.cm.Blues, xticks_rotation=45)\n",
    "plt.title(\"Confusion Matrix\")\n",
    "plt.tight_layout()\n",
    "plt.show()"
   ]
  },
  {
   "cell_type": "code",
   "execution_count": null,
   "id": "1c3ebc81",
   "metadata": {},
   "outputs": [
    {
     "data": {
      "text/plain": [
       "('deberta-v3-4class-final\\\\tokenizer_config.json',\n",
       " 'deberta-v3-4class-final\\\\special_tokens_map.json',\n",
       " 'deberta-v3-4class-final\\\\spm.model',\n",
       " 'deberta-v3-4class-final\\\\added_tokens.json',\n",
       " 'deberta-v3-4class-final\\\\tokenizer.json')"
      ]
     },
     "execution_count": 22,
     "metadata": {},
     "output_type": "execute_result"
    }
   ],
   "source": [
    "# Save\n",
    "model.save_pretrained(\"3_model/transfer-learning/deberta-v3-final\")\n",
    "tokenizer.save_pretrained(\"3_model/transfer-learning/deberta-v3-final\")"
   ]
  },
  {
   "cell_type": "markdown",
   "id": "90f54d06",
   "metadata": {},
   "source": [
    "Hyperparameter Tuning"
   ]
  },
  {
   "cell_type": "code",
   "execution_count": null,
   "id": "acc93a6b",
   "metadata": {},
   "outputs": [
    {
     "name": "stderr",
     "output_type": "stream",
     "text": [
      "C:\\Users\\user\\AppData\\Local\\Temp\\ipykernel_148840\\3955521817.py:33: FutureWarning: `tokenizer` is deprecated and will be removed in version 5.0.0 for `Trainer.__init__`. Use `processing_class` instead.\n",
      "  trainer = Trainer(\n",
      "Some weights of DebertaV2ForSequenceClassification were not initialized from the model checkpoint at microsoft/deberta-v3-base and are newly initialized: ['classifier.bias', 'classifier.weight', 'pooler.dense.bias', 'pooler.dense.weight']\n",
      "You should probably TRAIN this model on a down-stream task to be able to use it for predictions and inference.\n",
      "[I 2025-08-04 00:51:51,012] A new study created in memory with name: no-name-bc46185d-430d-4cf7-b3cf-765ecc8a890b\n",
      "Some weights of DebertaV2ForSequenceClassification were not initialized from the model checkpoint at microsoft/deberta-v3-base and are newly initialized: ['classifier.bias', 'classifier.weight', 'pooler.dense.bias', 'pooler.dense.weight']\n",
      "You should probably TRAIN this model on a down-stream task to be able to use it for predictions and inference.\n"
     ]
    },
    {
     "data": {
      "text/html": [
       "\n",
       "    <div>\n",
       "      \n",
       "      <progress value='2586' max='2586' style='width:300px; height:20px; vertical-align: middle;'></progress>\n",
       "      [2586/2586 1:03:00, Epoch 6/6]\n",
       "    </div>\n",
       "    <table border=\"1\" class=\"dataframe\">\n",
       "  <thead>\n",
       " <tr style=\"text-align: left;\">\n",
       "      <th>Epoch</th>\n",
       "      <th>Training Loss</th>\n",
       "      <th>Validation Loss</th>\n",
       "      <th>Accuracy</th>\n",
       "      <th>F1 Macro</th>\n",
       "    </tr>\n",
       "  </thead>\n",
       "  <tbody>\n",
       "    <tr>\n",
       "      <td>1</td>\n",
       "      <td>1.326300</td>\n",
       "      <td>1.266893</td>\n",
       "      <td>0.401392</td>\n",
       "      <td>0.234924</td>\n",
       "    </tr>\n",
       "    <tr>\n",
       "      <td>2</td>\n",
       "      <td>0.680900</td>\n",
       "      <td>0.748150</td>\n",
       "      <td>0.720418</td>\n",
       "      <td>0.576867</td>\n",
       "    </tr>\n",
       "    <tr>\n",
       "      <td>3</td>\n",
       "      <td>0.534400</td>\n",
       "      <td>0.596814</td>\n",
       "      <td>0.749420</td>\n",
       "      <td>0.689128</td>\n",
       "    </tr>\n",
       "    <tr>\n",
       "      <td>4</td>\n",
       "      <td>0.458100</td>\n",
       "      <td>0.548737</td>\n",
       "      <td>0.785383</td>\n",
       "      <td>0.709831</td>\n",
       "    </tr>\n",
       "    <tr>\n",
       "      <td>5</td>\n",
       "      <td>0.520600</td>\n",
       "      <td>0.487474</td>\n",
       "      <td>0.801624</td>\n",
       "      <td>0.734096</td>\n",
       "    </tr>\n",
       "    <tr>\n",
       "      <td>6</td>\n",
       "      <td>0.326200</td>\n",
       "      <td>0.588001</td>\n",
       "      <td>0.802784</td>\n",
       "      <td>0.735488</td>\n",
       "    </tr>\n",
       "  </tbody>\n",
       "</table><p>"
      ],
      "text/plain": [
       "<IPython.core.display.HTML object>"
      ]
     },
     "metadata": {},
     "output_type": "display_data"
    },
    {
     "name": "stderr",
     "output_type": "stream",
     "text": [
      "[I 2025-08-04 01:54:54,179] Trial 0 finished with value: 0.7354882623182144 and parameters: {'learning_rate': 3.2745153492282726e-05, 'num_train_epochs': 6, 'per_device_train_batch_size': 8, 'weight_decay': 0.23593844945310521}. Best is trial 0 with value: 0.7354882623182144.\n",
      "Some weights of DebertaV2ForSequenceClassification were not initialized from the model checkpoint at microsoft/deberta-v3-base and are newly initialized: ['classifier.bias', 'classifier.weight', 'pooler.dense.bias', 'pooler.dense.weight']\n",
      "You should probably TRAIN this model on a down-stream task to be able to use it for predictions and inference.\n"
     ]
    },
    {
     "data": {
      "text/html": [
       "\n",
       "    <div>\n",
       "      \n",
       "      <progress value='1080' max='1080' style='width:300px; height:20px; vertical-align: middle;'></progress>\n",
       "      [1080/1080 1:12:04, Epoch 5/5]\n",
       "    </div>\n",
       "    <table border=\"1\" class=\"dataframe\">\n",
       "  <thead>\n",
       " <tr style=\"text-align: left;\">\n",
       "      <th>Epoch</th>\n",
       "      <th>Training Loss</th>\n",
       "      <th>Validation Loss</th>\n",
       "      <th>Accuracy</th>\n",
       "      <th>F1 Macro</th>\n",
       "    </tr>\n",
       "  </thead>\n",
       "  <tbody>\n",
       "    <tr>\n",
       "      <td>1</td>\n",
       "      <td>1.209800</td>\n",
       "      <td>1.119253</td>\n",
       "      <td>0.556845</td>\n",
       "      <td>0.436614</td>\n",
       "    </tr>\n",
       "    <tr>\n",
       "      <td>2</td>\n",
       "      <td>0.879400</td>\n",
       "      <td>0.820895</td>\n",
       "      <td>0.679814</td>\n",
       "      <td>0.544950</td>\n",
       "    </tr>\n",
       "    <tr>\n",
       "      <td>3</td>\n",
       "      <td>0.803100</td>\n",
       "      <td>0.716809</td>\n",
       "      <td>0.716937</td>\n",
       "      <td>0.573073</td>\n",
       "    </tr>\n",
       "    <tr>\n",
       "      <td>4</td>\n",
       "      <td>0.566300</td>\n",
       "      <td>0.718349</td>\n",
       "      <td>0.719258</td>\n",
       "      <td>0.573651</td>\n",
       "    </tr>\n",
       "    <tr>\n",
       "      <td>5</td>\n",
       "      <td>0.670500</td>\n",
       "      <td>0.714412</td>\n",
       "      <td>0.719258</td>\n",
       "      <td>0.573768</td>\n",
       "    </tr>\n",
       "  </tbody>\n",
       "</table><p>"
      ],
      "text/plain": [
       "<IPython.core.display.HTML object>"
      ]
     },
     "metadata": {},
     "output_type": "display_data"
    },
    {
     "name": "stderr",
     "output_type": "stream",
     "text": [
      "[I 2025-08-04 03:07:02,269] Trial 1 finished with value: 0.5737677489557891 and parameters: {'learning_rate': 4.223422331907941e-06, 'num_train_epochs': 5, 'per_device_train_batch_size': 16, 'weight_decay': 0.015494099881340017}. Best is trial 0 with value: 0.7354882623182144.\n",
      "Some weights of DebertaV2ForSequenceClassification were not initialized from the model checkpoint at microsoft/deberta-v3-base and are newly initialized: ['classifier.bias', 'classifier.weight', 'pooler.dense.bias', 'pooler.dense.weight']\n",
      "You should probably TRAIN this model on a down-stream task to be able to use it for predictions and inference.\n"
     ]
    },
    {
     "data": {
      "text/html": [
       "\n",
       "    <div>\n",
       "      \n",
       "      <progress value='2155' max='2155' style='width:300px; height:20px; vertical-align: middle;'></progress>\n",
       "      [2155/2155 1:44:04, Epoch 5/5]\n",
       "    </div>\n",
       "    <table border=\"1\" class=\"dataframe\">\n",
       "  <thead>\n",
       " <tr style=\"text-align: left;\">\n",
       "      <th>Epoch</th>\n",
       "      <th>Training Loss</th>\n",
       "      <th>Validation Loss</th>\n",
       "      <th>Accuracy</th>\n",
       "      <th>F1 Macro</th>\n",
       "    </tr>\n",
       "  </thead>\n",
       "  <tbody>\n",
       "    <tr>\n",
       "      <td>1</td>\n",
       "      <td>1.309700</td>\n",
       "      <td>1.257885</td>\n",
       "      <td>0.402552</td>\n",
       "      <td>0.180790</td>\n",
       "    </tr>\n",
       "    <tr>\n",
       "      <td>2</td>\n",
       "      <td>1.252000</td>\n",
       "      <td>1.157353</td>\n",
       "      <td>0.529002</td>\n",
       "      <td>0.392104</td>\n",
       "    </tr>\n",
       "    <tr>\n",
       "      <td>3</td>\n",
       "      <td>1.097100</td>\n",
       "      <td>1.055148</td>\n",
       "      <td>0.588167</td>\n",
       "      <td>0.457890</td>\n",
       "    </tr>\n",
       "    <tr>\n",
       "      <td>4</td>\n",
       "      <td>0.979200</td>\n",
       "      <td>0.994976</td>\n",
       "      <td>0.624130</td>\n",
       "      <td>0.497730</td>\n",
       "    </tr>\n",
       "    <tr>\n",
       "      <td>5</td>\n",
       "      <td>1.004900</td>\n",
       "      <td>0.975462</td>\n",
       "      <td>0.626450</td>\n",
       "      <td>0.502011</td>\n",
       "    </tr>\n",
       "  </tbody>\n",
       "</table><p>"
      ],
      "text/plain": [
       "<IPython.core.display.HTML object>"
      ]
     },
     "metadata": {},
     "output_type": "display_data"
    },
    {
     "name": "stderr",
     "output_type": "stream",
     "text": [
      "[I 2025-08-04 04:51:09,703] Trial 2 finished with value: 0.5020108869740878 and parameters: {'learning_rate': 1.2125165897180063e-06, 'num_train_epochs': 5, 'per_device_train_batch_size': 8, 'weight_decay': 0.2481955429561857}. Best is trial 0 with value: 0.7354882623182144.\n",
      "Some weights of DebertaV2ForSequenceClassification were not initialized from the model checkpoint at microsoft/deberta-v3-base and are newly initialized: ['classifier.bias', 'classifier.weight', 'pooler.dense.bias', 'pooler.dense.weight']\n",
      "You should probably TRAIN this model on a down-stream task to be able to use it for predictions and inference.\n"
     ]
    },
    {
     "data": {
      "text/html": [
       "\n",
       "    <div>\n",
       "      \n",
       "      <progress value='216' max='216' style='width:300px; height:20px; vertical-align: middle;'></progress>\n",
       "      [216/216 25:08, Epoch 2/2]\n",
       "    </div>\n",
       "    <table border=\"1\" class=\"dataframe\">\n",
       "  <thead>\n",
       " <tr style=\"text-align: left;\">\n",
       "      <th>Epoch</th>\n",
       "      <th>Training Loss</th>\n",
       "      <th>Validation Loss</th>\n",
       "      <th>Accuracy</th>\n",
       "      <th>F1 Macro</th>\n",
       "    </tr>\n",
       "  </thead>\n",
       "  <tbody>\n",
       "    <tr>\n",
       "      <td>1</td>\n",
       "      <td>1.376600</td>\n",
       "      <td>1.359608</td>\n",
       "      <td>0.393271</td>\n",
       "      <td>0.141132</td>\n",
       "    </tr>\n",
       "    <tr>\n",
       "      <td>2</td>\n",
       "      <td>1.333500</td>\n",
       "      <td>1.335018</td>\n",
       "      <td>0.393271</td>\n",
       "      <td>0.141132</td>\n",
       "    </tr>\n",
       "  </tbody>\n",
       "</table><p>"
      ],
      "text/plain": [
       "<IPython.core.display.HTML object>"
      ]
     },
     "metadata": {},
     "output_type": "display_data"
    },
    {
     "name": "stderr",
     "output_type": "stream",
     "text": [
      "[I 2025-08-04 05:16:25,930] Trial 3 finished with value: 0.14113238967527061 and parameters: {'learning_rate': 1.3904400779784472e-06, 'num_train_epochs': 2, 'per_device_train_batch_size': 32, 'weight_decay': 0.17806027493247598}. Best is trial 0 with value: 0.7354882623182144.\n",
      "Some weights of DebertaV2ForSequenceClassification were not initialized from the model checkpoint at microsoft/deberta-v3-base and are newly initialized: ['classifier.bias', 'classifier.weight', 'pooler.dense.bias', 'pooler.dense.weight']\n",
      "You should probably TRAIN this model on a down-stream task to be able to use it for predictions and inference.\n"
     ]
    },
    {
     "data": {
      "text/html": [
       "\n",
       "    <div>\n",
       "      \n",
       "      <progress value='1724' max='1724' style='width:300px; height:20px; vertical-align: middle;'></progress>\n",
       "      [1724/1724 1:08:36, Epoch 4/4]\n",
       "    </div>\n",
       "    <table border=\"1\" class=\"dataframe\">\n",
       "  <thead>\n",
       " <tr style=\"text-align: left;\">\n",
       "      <th>Epoch</th>\n",
       "      <th>Training Loss</th>\n",
       "      <th>Validation Loss</th>\n",
       "      <th>Accuracy</th>\n",
       "      <th>F1 Macro</th>\n",
       "    </tr>\n",
       "  </thead>\n",
       "  <tbody>\n",
       "    <tr>\n",
       "      <td>1</td>\n",
       "      <td>0.600800</td>\n",
       "      <td>0.637932</td>\n",
       "      <td>0.737819</td>\n",
       "      <td>0.656048</td>\n",
       "    </tr>\n",
       "    <tr>\n",
       "      <td>2</td>\n",
       "      <td>0.477200</td>\n",
       "      <td>0.561824</td>\n",
       "      <td>0.795824</td>\n",
       "      <td>0.747749</td>\n",
       "    </tr>\n",
       "    <tr>\n",
       "      <td>3</td>\n",
       "      <td>0.353900</td>\n",
       "      <td>0.546056</td>\n",
       "      <td>0.801624</td>\n",
       "      <td>0.732993</td>\n",
       "    </tr>\n",
       "    <tr>\n",
       "      <td>4</td>\n",
       "      <td>0.187500</td>\n",
       "      <td>0.698607</td>\n",
       "      <td>0.806265</td>\n",
       "      <td>0.747360</td>\n",
       "    </tr>\n",
       "  </tbody>\n",
       "</table><p>"
      ],
      "text/plain": [
       "<IPython.core.display.HTML object>"
      ]
     },
     "metadata": {},
     "output_type": "display_data"
    },
    {
     "name": "stderr",
     "output_type": "stream",
     "text": [
      "[I 2025-08-04 06:25:07,052] Trial 4 finished with value: 0.7473599632727226 and parameters: {'learning_rate': 2.3663473935914246e-05, 'num_train_epochs': 4, 'per_device_train_batch_size': 8, 'weight_decay': 0.25923895271931247}. Best is trial 4 with value: 0.7473599632727226.\n",
      "Some weights of DebertaV2ForSequenceClassification were not initialized from the model checkpoint at microsoft/deberta-v3-base and are newly initialized: ['classifier.bias', 'classifier.weight', 'pooler.dense.bias', 'pooler.dense.weight']\n",
      "You should probably TRAIN this model on a down-stream task to be able to use it for predictions and inference.\n"
     ]
    },
    {
     "data": {
      "text/html": [
       "\n",
       "    <div>\n",
       "      \n",
       "      <progress value='216' max='432' style='width:300px; height:20px; vertical-align: middle;'></progress>\n",
       "      [216/432 29:21 < 29:38, 0.12 it/s, Epoch 2/4]\n",
       "    </div>\n",
       "    <table border=\"1\" class=\"dataframe\">\n",
       "  <thead>\n",
       " <tr style=\"text-align: left;\">\n",
       "      <th>Epoch</th>\n",
       "      <th>Training Loss</th>\n",
       "      <th>Validation Loss</th>\n",
       "      <th>Accuracy</th>\n",
       "      <th>F1 Macro</th>\n",
       "    </tr>\n",
       "  </thead>\n",
       "  <tbody>\n",
       "    <tr>\n",
       "      <td>1</td>\n",
       "      <td>1.332400</td>\n",
       "      <td>1.313578</td>\n",
       "      <td>0.393271</td>\n",
       "      <td>0.141132</td>\n",
       "    </tr>\n",
       "    <tr>\n",
       "      <td>2</td>\n",
       "      <td>1.263500</td>\n",
       "      <td>1.243081</td>\n",
       "      <td>0.406032</td>\n",
       "      <td>0.168261</td>\n",
       "    </tr>\n",
       "  </tbody>\n",
       "</table><p>"
      ],
      "text/plain": [
       "<IPython.core.display.HTML object>"
      ]
     },
     "metadata": {},
     "output_type": "display_data"
    },
    {
     "name": "stderr",
     "output_type": "stream",
     "text": [
      "[I 2025-08-04 06:54:36,788] Trial 5 pruned. \n",
      "Some weights of DebertaV2ForSequenceClassification were not initialized from the model checkpoint at microsoft/deberta-v3-base and are newly initialized: ['classifier.bias', 'classifier.weight', 'pooler.dense.bias', 'pooler.dense.weight']\n",
      "You should probably TRAIN this model on a down-stream task to be able to use it for predictions and inference.\n"
     ]
    },
    {
     "data": {
      "text/html": [
       "\n",
       "    <div>\n",
       "      \n",
       "      <progress value='432' max='432' style='width:300px; height:20px; vertical-align: middle;'></progress>\n",
       "      [432/432 1:02:52, Epoch 4/4]\n",
       "    </div>\n",
       "    <table border=\"1\" class=\"dataframe\">\n",
       "  <thead>\n",
       " <tr style=\"text-align: left;\">\n",
       "      <th>Epoch</th>\n",
       "      <th>Training Loss</th>\n",
       "      <th>Validation Loss</th>\n",
       "      <th>Accuracy</th>\n",
       "      <th>F1 Macro</th>\n",
       "    </tr>\n",
       "  </thead>\n",
       "  <tbody>\n",
       "    <tr>\n",
       "      <td>1</td>\n",
       "      <td>1.058200</td>\n",
       "      <td>0.984050</td>\n",
       "      <td>0.633411</td>\n",
       "      <td>0.499876</td>\n",
       "    </tr>\n",
       "    <tr>\n",
       "      <td>2</td>\n",
       "      <td>0.706800</td>\n",
       "      <td>0.685285</td>\n",
       "      <td>0.728538</td>\n",
       "      <td>0.584151</td>\n",
       "    </tr>\n",
       "    <tr>\n",
       "      <td>3</td>\n",
       "      <td>0.646600</td>\n",
       "      <td>0.667214</td>\n",
       "      <td>0.762181</td>\n",
       "      <td>0.680821</td>\n",
       "    </tr>\n",
       "    <tr>\n",
       "      <td>4</td>\n",
       "      <td>0.483800</td>\n",
       "      <td>0.679354</td>\n",
       "      <td>0.761021</td>\n",
       "      <td>0.684846</td>\n",
       "    </tr>\n",
       "  </tbody>\n",
       "</table><p>"
      ],
      "text/plain": [
       "<IPython.core.display.HTML object>"
      ]
     },
     "metadata": {},
     "output_type": "display_data"
    },
    {
     "name": "stderr",
     "output_type": "stream",
     "text": [
      "[I 2025-08-04 07:57:38,429] Trial 6 finished with value: 0.6848458891472275 and parameters: {'learning_rate': 1.1848780523825906e-05, 'num_train_epochs': 4, 'per_device_train_batch_size': 32, 'weight_decay': 0.14483143503637233}. Best is trial 4 with value: 0.7473599632727226.\n",
      "Some weights of DebertaV2ForSequenceClassification were not initialized from the model checkpoint at microsoft/deberta-v3-base and are newly initialized: ['classifier.bias', 'classifier.weight', 'pooler.dense.bias', 'pooler.dense.weight']\n",
      "You should probably TRAIN this model on a down-stream task to be able to use it for predictions and inference.\n"
     ]
    },
    {
     "data": {
      "text/html": [
       "\n",
       "    <div>\n",
       "      \n",
       "      <progress value='1724' max='1724' style='width:300px; height:20px; vertical-align: middle;'></progress>\n",
       "      [1724/1724 35:10, Epoch 4/4]\n",
       "    </div>\n",
       "    <table border=\"1\" class=\"dataframe\">\n",
       "  <thead>\n",
       " <tr style=\"text-align: left;\">\n",
       "      <th>Epoch</th>\n",
       "      <th>Training Loss</th>\n",
       "      <th>Validation Loss</th>\n",
       "      <th>Accuracy</th>\n",
       "      <th>F1 Macro</th>\n",
       "    </tr>\n",
       "  </thead>\n",
       "  <tbody>\n",
       "    <tr>\n",
       "      <td>1</td>\n",
       "      <td>0.529800</td>\n",
       "      <td>0.626786</td>\n",
       "      <td>0.743619</td>\n",
       "      <td>0.663696</td>\n",
       "    </tr>\n",
       "    <tr>\n",
       "      <td>2</td>\n",
       "      <td>0.469400</td>\n",
       "      <td>0.559088</td>\n",
       "      <td>0.791183</td>\n",
       "      <td>0.736341</td>\n",
       "    </tr>\n",
       "    <tr>\n",
       "      <td>3</td>\n",
       "      <td>0.336500</td>\n",
       "      <td>0.692243</td>\n",
       "      <td>0.795824</td>\n",
       "      <td>0.735425</td>\n",
       "    </tr>\n",
       "    <tr>\n",
       "      <td>4</td>\n",
       "      <td>0.196200</td>\n",
       "      <td>0.787188</td>\n",
       "      <td>0.792343</td>\n",
       "      <td>0.734610</td>\n",
       "    </tr>\n",
       "  </tbody>\n",
       "</table><p>"
      ],
      "text/plain": [
       "<IPython.core.display.HTML object>"
      ]
     },
     "metadata": {},
     "output_type": "display_data"
    },
    {
     "name": "stderr",
     "output_type": "stream",
     "text": [
      "[I 2025-08-04 08:32:53,626] Trial 7 finished with value: 0.7346095129188831 and parameters: {'learning_rate': 1.550400740110495e-05, 'num_train_epochs': 4, 'per_device_train_batch_size': 8, 'weight_decay': 0.18981141870961044}. Best is trial 4 with value: 0.7473599632727226.\n",
      "Some weights of DebertaV2ForSequenceClassification were not initialized from the model checkpoint at microsoft/deberta-v3-base and are newly initialized: ['classifier.bias', 'classifier.weight', 'pooler.dense.bias', 'pooler.dense.weight']\n",
      "You should probably TRAIN this model on a down-stream task to be able to use it for predictions and inference.\n"
     ]
    },
    {
     "data": {
      "text/html": [
       "\n",
       "    <div>\n",
       "      \n",
       "      <progress value='648' max='648' style='width:300px; height:20px; vertical-align: middle;'></progress>\n",
       "      [648/648 2:21:02, Epoch 6/6]\n",
       "    </div>\n",
       "    <table border=\"1\" class=\"dataframe\">\n",
       "  <thead>\n",
       " <tr style=\"text-align: left;\">\n",
       "      <th>Epoch</th>\n",
       "      <th>Training Loss</th>\n",
       "      <th>Validation Loss</th>\n",
       "      <th>Accuracy</th>\n",
       "      <th>F1 Macro</th>\n",
       "    </tr>\n",
       "  </thead>\n",
       "  <tbody>\n",
       "    <tr>\n",
       "      <td>1</td>\n",
       "      <td>0.688900</td>\n",
       "      <td>0.644186</td>\n",
       "      <td>0.750580</td>\n",
       "      <td>0.614796</td>\n",
       "    </tr>\n",
       "    <tr>\n",
       "      <td>2</td>\n",
       "      <td>0.479800</td>\n",
       "      <td>0.678543</td>\n",
       "      <td>0.744780</td>\n",
       "      <td>0.692015</td>\n",
       "    </tr>\n",
       "    <tr>\n",
       "      <td>3</td>\n",
       "      <td>0.369600</td>\n",
       "      <td>0.603595</td>\n",
       "      <td>0.796984</td>\n",
       "      <td>0.732453</td>\n",
       "    </tr>\n",
       "    <tr>\n",
       "      <td>4</td>\n",
       "      <td>0.238700</td>\n",
       "      <td>0.584058</td>\n",
       "      <td>0.801624</td>\n",
       "      <td>0.747633</td>\n",
       "    </tr>\n",
       "    <tr>\n",
       "      <td>5</td>\n",
       "      <td>0.141800</td>\n",
       "      <td>0.690949</td>\n",
       "      <td>0.810905</td>\n",
       "      <td>0.752443</td>\n",
       "    </tr>\n",
       "    <tr>\n",
       "      <td>6</td>\n",
       "      <td>0.137000</td>\n",
       "      <td>0.795787</td>\n",
       "      <td>0.808585</td>\n",
       "      <td>0.741869</td>\n",
       "    </tr>\n",
       "  </tbody>\n",
       "</table><p>"
      ],
      "text/plain": [
       "<IPython.core.display.HTML object>"
      ]
     },
     "metadata": {},
     "output_type": "display_data"
    },
    {
     "name": "stderr",
     "output_type": "stream",
     "text": [
      "[I 2025-08-04 10:54:08,773] Trial 8 finished with value: 0.7418685510028137 and parameters: {'learning_rate': 3.3700298048421046e-05, 'num_train_epochs': 6, 'per_device_train_batch_size': 32, 'weight_decay': 0.006697343423590007}. Best is trial 4 with value: 0.7473599632727226.\n",
      "Some weights of DebertaV2ForSequenceClassification were not initialized from the model checkpoint at microsoft/deberta-v3-base and are newly initialized: ['classifier.bias', 'classifier.weight', 'pooler.dense.bias', 'pooler.dense.weight']\n",
      "You should probably TRAIN this model on a down-stream task to be able to use it for predictions and inference.\n"
     ]
    },
    {
     "data": {
      "text/html": [
       "\n",
       "    <div>\n",
       "      \n",
       "      <progress value='108' max='432' style='width:300px; height:20px; vertical-align: middle;'></progress>\n",
       "      [108/432 12:46 < 39:01, 0.14 it/s, Epoch 1/4]\n",
       "    </div>\n",
       "    <table border=\"1\" class=\"dataframe\">\n",
       "  <thead>\n",
       " <tr style=\"text-align: left;\">\n",
       "      <th>Epoch</th>\n",
       "      <th>Training Loss</th>\n",
       "      <th>Validation Loss</th>\n",
       "      <th>Accuracy</th>\n",
       "      <th>F1 Macro</th>\n",
       "    </tr>\n",
       "  </thead>\n",
       "  <tbody>\n",
       "    <tr>\n",
       "      <td>1</td>\n",
       "      <td>1.252300</td>\n",
       "      <td>1.246460</td>\n",
       "      <td>0.416473</td>\n",
       "      <td>0.204980</td>\n",
       "    </tr>\n",
       "  </tbody>\n",
       "</table><p>"
      ],
      "text/plain": [
       "<IPython.core.display.HTML object>"
      ]
     },
     "metadata": {},
     "output_type": "display_data"
    },
    {
     "name": "stderr",
     "output_type": "stream",
     "text": [
      "[I 2025-08-04 11:07:00,910] Trial 9 pruned. \n"
     ]
    },
    {
     "name": "stdout",
     "output_type": "stream",
     "text": [
      "\n",
      "=== Best Hyperparameters ===\n",
      "BestRun(run_id='4', objective=0.7473599632727226, hyperparameters={'learning_rate': 2.3663473935914246e-05, 'num_train_epochs': 4, 'per_device_train_batch_size': 8, 'weight_decay': 0.25923895271931247}, run_summary=None)\n"
     ]
    },
    {
     "ename": "AttributeError",
     "evalue": "'TrainingArguments' object has no attribute 'clone'",
     "output_type": "error",
     "traceback": [
      "\u001b[31m---------------------------------------------------------------------------\u001b[39m",
      "\u001b[31mAttributeError\u001b[39m                            Traceback (most recent call last)",
      "\u001b[36mCell\u001b[39m\u001b[36m \u001b[39m\u001b[32mIn[37]\u001b[39m\u001b[32m, line 58\u001b[39m\n\u001b[32m     55\u001b[39m \u001b[38;5;28mprint\u001b[39m(best_trial)\n\u001b[32m     57\u001b[39m \u001b[38;5;66;03m# Optionally, retrain with best hyperparameters:\u001b[39;00m\n\u001b[32m---> \u001b[39m\u001b[32m58\u001b[39m best_args = \u001b[43mtraining_args\u001b[49m\u001b[43m.\u001b[49m\u001b[43mclone\u001b[49m()\n\u001b[32m     59\u001b[39m best_args.learning_rate = best_trial.hyperparameters[\u001b[33m\"\u001b[39m\u001b[33mlearning_rate\u001b[39m\u001b[33m\"\u001b[39m]\n\u001b[32m     60\u001b[39m best_args.per_device_train_batch_size = best_trial.hyperparameters[\u001b[33m\"\u001b[39m\u001b[33mper_device_train_batch_size\u001b[39m\u001b[33m\"\u001b[39m]\n",
      "\u001b[31mAttributeError\u001b[39m: 'TrainingArguments' object has no attribute 'clone'"
     ]
    }
   ],
   "source": [
    "def model_init():\n",
    "    return AutoModelForSequenceClassification.from_pretrained(\n",
    "        model_ckpt,\n",
    "        num_labels=len(valid)\n",
    "    )\n",
    "\n",
    "def compute_metrics(pred):\n",
    "    labels = pred.label_ids\n",
    "    preds = pred.predictions.argmax(-1)\n",
    "    return {\n",
    "        \"accuracy\": accuracy_score(labels, preds),\n",
    "        \"f1_macro\": f1_score(labels, preds, average=\"macro\")\n",
    "    }\n",
    "\n",
    "# Define search space for hyperparameter tuning\n",
    "def model_hp_space(trial):\n",
    "    return {\n",
    "        \"learning_rate\": trial.suggest_float(\"learning_rate\", 1e-6, 5e-5, log=True),\n",
    "        \"num_train_epochs\": trial.suggest_int(\"num_train_epochs\", 2, 6),\n",
    "        \"per_device_train_batch_size\": trial.suggest_categorical(\"per_device_train_batch_size\", [8, 16, 32]),\n",
    "        \"weight_decay\": trial.suggest_float(\"weight_decay\", 0.0, 0.3),\n",
    "    }\n",
    "\n",
    "# Trainer setup for hyperparameter search\n",
    "trainer = Trainer(\n",
    "    model_init=model_init,\n",
    "    args=training_args,\n",
    "    tokenizer=tokenizer,\n",
    "    train_dataset=train_dataset,\n",
    "    eval_dataset=val_dataset,\n",
    "    data_collator=DataCollatorWithPadding(tokenizer),\n",
    "    compute_metrics=compute_metrics\n",
    ")\n",
    "\n",
    "# Launch Optuna search\n",
    "best_trial = trainer.hyperparameter_search(\n",
    "    direction=\"maximize\",\n",
    "    backend=\"optuna\",\n",
    "    hp_space=model_hp_space,\n",
    "    n_trials=10,\n",
    "    compute_objective=lambda metrics: metrics[\"eval_f1_macro\"]\n",
    ")\n",
    "\n",
    "# Show best results\n",
    "print(\"\\n=== Best Hyperparameters ===\")\n",
    "print(best_trial)\n"
   ]
  },
  {
   "cell_type": "code",
   "execution_count": null,
   "id": "32f8831a",
   "metadata": {},
   "outputs": [
    {
     "name": "stderr",
     "output_type": "stream",
     "text": [
      "Some weights of DebertaV2ForSequenceClassification were not initialized from the model checkpoint at microsoft/deberta-v3-base and are newly initialized: ['classifier.bias', 'classifier.weight', 'pooler.dense.bias', 'pooler.dense.weight']\n",
      "You should probably TRAIN this model on a down-stream task to be able to use it for predictions and inference.\n",
      "C:\\Users\\user\\AppData\\Local\\Temp\\ipykernel_148840\\1328664253.py:38: FutureWarning: `tokenizer` is deprecated and will be removed in version 5.0.0 for `Trainer.__init__`. Use `processing_class` instead.\n",
      "  best_trainer = Trainer(\n"
     ]
    },
    {
     "data": {
      "text/html": [
       "\n",
       "    <div>\n",
       "      \n",
       "      <progress value='1724' max='1724' style='width:300px; height:20px; vertical-align: middle;'></progress>\n",
       "      [1724/1724 15:05, Epoch 4/4]\n",
       "    </div>\n",
       "    <table border=\"1\" class=\"dataframe\">\n",
       "  <thead>\n",
       " <tr style=\"text-align: left;\">\n",
       "      <th>Epoch</th>\n",
       "      <th>Training Loss</th>\n",
       "      <th>Validation Loss</th>\n",
       "      <th>Accuracy</th>\n",
       "      <th>F1 Macro</th>\n",
       "    </tr>\n",
       "  </thead>\n",
       "  <tbody>\n",
       "    <tr>\n",
       "      <td>1</td>\n",
       "      <td>0.546600</td>\n",
       "      <td>0.656864</td>\n",
       "      <td>0.730858</td>\n",
       "      <td>0.610144</td>\n",
       "    </tr>\n",
       "    <tr>\n",
       "      <td>2</td>\n",
       "      <td>0.521100</td>\n",
       "      <td>0.523691</td>\n",
       "      <td>0.806265</td>\n",
       "      <td>0.752300</td>\n",
       "    </tr>\n",
       "    <tr>\n",
       "      <td>3</td>\n",
       "      <td>0.307900</td>\n",
       "      <td>0.551608</td>\n",
       "      <td>0.820186</td>\n",
       "      <td>0.766877</td>\n",
       "    </tr>\n",
       "    <tr>\n",
       "      <td>4</td>\n",
       "      <td>0.089700</td>\n",
       "      <td>0.746809</td>\n",
       "      <td>0.821346</td>\n",
       "      <td>0.759881</td>\n",
       "    </tr>\n",
       "  </tbody>\n",
       "</table><p>"
      ],
      "text/plain": [
       "<IPython.core.display.HTML object>"
      ]
     },
     "metadata": {},
     "output_type": "display_data"
    },
    {
     "data": {
      "text/plain": [
       "TrainOutput(global_step=1724, training_loss=0.508991288889865, metrics={'train_runtime': 908.1845, 'train_samples_per_second': 15.173, 'train_steps_per_second': 1.898, 'total_flos': 757735645499040.0, 'train_loss': 0.508991288889865, 'epoch': 4.0})"
      ]
     },
     "execution_count": 39,
     "metadata": {},
     "output_type": "execute_result"
    }
   ],
   "source": [
    "best_params = {\n",
    "    'learning_rate': 2.3663473935914246e-05,\n",
    "    'num_train_epochs': 4,\n",
    "    'per_device_train_batch_size': 8,\n",
    "    'weight_decay': 0.25923895271931247\n",
    "}\n",
    "\n",
    "best_training_args = TrainingArguments(\n",
    "    output_dir='logging/transfer_learning/best_run',\n",
    "    overwrite_output_dir=True,\n",
    "    do_train=True,\n",
    "    do_eval=True,\n",
    "    eval_strategy=\"epoch\",\n",
    "    save_strategy=\"epoch\",\n",
    "    load_best_model_at_end=True,\n",
    "    metric_for_best_model='f1_macro',\n",
    "    greater_is_better=True,\n",
    "    learning_rate=best_params['learning_rate'],\n",
    "    num_train_epochs=best_params['num_train_epochs'],\n",
    "    per_device_train_batch_size=best_params['per_device_train_batch_size'],\n",
    "    per_device_eval_batch_size=16,  # Can remain fixed\n",
    "    weight_decay=best_params['weight_decay'],\n",
    "    logging_dir='logging/transfer_learning/logs_best',\n",
    "    logging_steps=10,\n",
    "    save_total_limit=2,\n",
    "    fp16=torch.cuda.is_available()\n",
    ")\n",
    "\n",
    "# Reinitialize model with same architecture\n",
    "model = AutoModelForSequenceClassification.from_pretrained(\n",
    "    model_ckpt,\n",
    "    num_labels=len(valid)\n",
    ")\n",
    "\n",
    "# Define Trainer with best hyperparameters\n",
    "best_trainer = Trainer(\n",
    "    model=model,\n",
    "    args=best_training_args,\n",
    "    tokenizer=tokenizer,\n",
    "    train_dataset=train_dataset,\n",
    "    eval_dataset=val_dataset,\n",
    "    data_collator=DataCollatorWithPadding(tokenizer),\n",
    "    compute_metrics=compute_metrics\n",
    ")\n",
    "\n",
    "best_trainer.train()"
   ]
  },
  {
   "cell_type": "code",
   "execution_count": null,
   "id": "7477acaa",
   "metadata": {},
   "outputs": [
    {
     "data": {
      "text/html": [],
      "text/plain": [
       "<IPython.core.display.HTML object>"
      ]
     },
     "metadata": {},
     "output_type": "display_data"
    },
    {
     "name": "stdout",
     "output_type": "stream",
     "text": [
      "\n",
      "=== Classification Report ===\n",
      "              precision    recall  f1-score   support\n",
      "\n",
      "           C       0.88      0.85      0.87       184\n",
      "           G       0.83      0.83      0.83       255\n",
      "         W/Q       0.85      0.88      0.86       339\n",
      "         OTH       0.51      0.50      0.51        84\n",
      "\n",
      "    accuracy                           0.82       862\n",
      "   macro avg       0.77      0.76      0.77       862\n",
      "weighted avg       0.82      0.82      0.82       862\n",
      "\n",
      "Confusion Matrix:\n",
      " [[157   5  15   7]\n",
      " [  6 211  21  17]\n",
      " [  7  19 297  16]\n",
      " [  8  18  16  42]]\n"
     ]
    },
    {
     "data": {
      "image/png": "[encoded data removed]",
      "text/plain": [
       "<Figure size 640x480 with 2 Axes>"
      ]
     },
     "metadata": {},
     "output_type": "display_data"
    },
    {
     "name": "stdout",
     "output_type": "stream",
     "text": [
      "\n",
      "Best tuned model saved to: deberta-v3-4class-tuned-final\n"
     ]
    }
   ],
   "source": [
    "# Final predictions and evaluation\n",
    "preds = best_trainer.predict(val_dataset)\n",
    "y_pred = np.argmax(preds.predictions, axis=1)\n",
    "y_true = val_labels\n",
    "\n",
    "# Classification report\n",
    "print(\"\\n=== Classification Report ===\")\n",
    "print(classification_report(\n",
    "    y_true,\n",
    "    y_pred,\n",
    "    labels=sorted(set(y_true)),\n",
    "    target_names=[inv_label_map[i] for i in sorted(set(y_true))],\n",
    "    zero_division=0\n",
    "))\n",
    "\n",
    "# Confusion matrix\n",
    "cm = confusion_matrix(y_true, y_pred)\n",
    "print(\"Confusion Matrix:\\n\", cm)\n",
    "disp = ConfusionMatrixDisplay(confusion_matrix=cm, display_labels=['C', 'G', 'W/Q', 'OTH'])\n",
    "disp.plot(cmap=plt.cm.Blues, xticks_rotation=45)\n",
    "plt.title(\"Confusion Matrix (Best Tuned Model)\")\n",
    "plt.tight_layout()\n",
    "plt.show()\n",
    "\n",
    "# Save final model and tokenizer\n",
    "save_path = \"3_model/transfer-learning/deberta-v3-tuned-final\"\n",
    "model.save_pretrained(save_path)\n",
    "tokenizer.save_pretrained(save_path)\n",
    "print(f\"\\nBest tuned model saved to: {save_path}\")"
   ]
  }
 ],
 "metadata": {
  "kernelspec": {
   "display_name": "Python 3",
   "language": "python",
   "name": "python3"
  },
  "language_info": {
   "codemirror_mode": {
    "name": "ipython",
    "version": 3
   },
   "file_extension": ".py",
   "mimetype": "text/x-python",
   "name": "python",
   "nbconvert_exporter": "python",
   "pygments_lexer": "ipython3",
   "version": "3.12.9"
  }
 },
 "nbformat": 4,
 "nbformat_minor": 5
}
